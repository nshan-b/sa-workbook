{
  "cells": [
    {
      "cell_type": "markdown",
      "metadata": {
        "id": "view-in-github",
        "colab_type": "text"
      },
      "source": [
        "<a href=\"https://colab.research.google.com/github/nshan-b/sa-workbook/blob/main/sa_final.ipynb\" target=\"_parent\"><img src=\"https://colab.research.google.com/assets/colab-badge.svg\" alt=\"Open In Colab\"/></a>"
      ]
    },
    {
      "cell_type": "markdown",
      "metadata": {
        "id": "3Iw2qyrQr1rA"
      },
      "source": [
        "<h1>Sentiment Analysis</h1>\n",
        "<p>This is the \"final\" version after a lot of testing with my SentimentAnalysisTry01.ipynb on colab.</p>\n",
        "<h2>Overview of steps involved for Sentiment Analysis:</h2>\n",
        "<ul>\n",
        "    <li>1. Preprocess the data</li>\n",
        "    <li>2. Create word embeddings</li>\n",
        "    <li>3. Define the model architecture</li>\n",
        "    <li>4. Train the model</li>\n",
        "    <li>5. Test the model</li>\n",
        "<ul>\n"
      ]
    },
    {
      "cell_type": "markdown",
      "metadata": {
        "id": "NaK8CXpWr1rD"
      },
      "source": [
        "<h3>Import everything</h3>"
      ]
    },
    {
      "cell_type": "code",
      "execution_count": null,
      "metadata": {
        "colab": {
          "base_uri": "https://localhost:8080/"
        },
        "id": "DJahYy2Xr1rE",
        "outputId": "d31c43d3-116d-41e7-e5f2-dec0310f26b9"
      },
      "outputs": [
        {
          "output_type": "stream",
          "name": "stderr",
          "text": [
            "[nltk_data] Downloading package stopwords to /root/nltk_data...\n",
            "[nltk_data]   Package stopwords is already up-to-date!\n"
          ]
        }
      ],
      "source": [
        "import tensorflow as tf\n",
        "from keras.preprocessing.text import Tokenizer\n",
        "import pandas as pd\n",
        "import numpy as np\n",
        "import re\n",
        "from numpy.random import RandomState\n",
        "from sklearn.model_selection import train_test_split\n",
        "from sklearn.preprocessing import LabelEncoder\n",
        "\n",
        "import nltk\n",
        "nltk.download('stopwords')\n",
        "from nltk.corpus import stopwords"
      ]
    },
    {
      "cell_type": "code",
      "source": [
        "# Sanity Check\n",
        "!pip list | grep -F tensorflow"
      ],
      "metadata": {
        "colab": {
          "base_uri": "https://localhost:8080/"
        },
        "id": "mE62jeN-cDP3",
        "outputId": "747a7e69-390a-48a3-86f5-2e20987e4d3e"
      },
      "execution_count": null,
      "outputs": [
        {
          "output_type": "stream",
          "name": "stdout",
          "text": [
            "tensorflow                    2.8.2+zzzcolab20220527125636\n",
            "tensorflow-datasets           4.0.1\n",
            "tensorflow-estimator          2.8.0\n",
            "tensorflow-gcs-config         2.8.0\n",
            "tensorflow-hub                0.12.0\n",
            "tensorflow-io-gcs-filesystem  0.26.0\n",
            "tensorflow-metadata           1.8.0\n",
            "tensorflow-probability        0.16.0\n"
          ]
        }
      ]
    },
    {
      "cell_type": "markdown",
      "metadata": {
        "id": "L58OmjOir1rG"
      },
      "source": [
        "<h3>Let's go</h3>"
      ]
    },
    {
      "cell_type": "code",
      "execution_count": null,
      "metadata": {
        "id": "fIEfOuh3r1rG"
      },
      "outputs": [],
      "source": [
        "## Cleaning Functions\n",
        "def remove_stopwords(input_text):\n",
        "    stopwords_list = stopwords.words('english')\n",
        "    # Some words which might indicate a certain sentiment are kept via a whitelist\n",
        "    whitelist = [\"n't\", \"not\", \"no\"]\n",
        "    words = input_text.split() \n",
        "    clean_words = [word for word in words if (word not in stopwords_list or word in whitelist) and len(word) > 1] \n",
        "    return \" \".join(clean_words) \n",
        "\n",
        "def remove_mentions(input_text):\n",
        "    return re.sub(r'@\\w+', '', input_text)\n",
        "\n",
        "# Get data & remove missing values\n",
        "all_data = pd.read_csv(\"./data/sa_160k_twitter_normalized.csv\", encoding=\"latin-1\", engine=\"python\", on_bad_lines=\"skip\")\n",
        "all_data = all_data.dropna()\n",
        "\n",
        "# Shuffle all data\n",
        "rng = RandomState()\n",
        "all_data = all_data.sample(frac=1, random_state=rng)\n",
        "all_data.reindex(np.random.permutation(all_data.index))\n",
        "all_data = all_data[['target', 'text']]"
      ]
    },
    {
      "cell_type": "code",
      "execution_count": null,
      "metadata": {
        "id": "Y6FJTanwr1rH"
      },
      "outputs": [],
      "source": [
        "## Use this to clean data\n",
        "# all_data.text = all_data.text.apply(remove_stopwords).apply(remove_mentions)"
      ]
    },
    {
      "cell_type": "code",
      "execution_count": null,
      "metadata": {
        "colab": {
          "base_uri": "https://localhost:8080/"
        },
        "id": "smWkwVtAr1rI",
        "outputId": "dc300963-64aa-4ead-c2a1-a78f3225dc94"
      },
      "outputs": [
        {
          "output_type": "stream",
          "name": "stdout",
          "text": [
            "# Train data samples: (1117308,)\n",
            "# Test data samples: (478847,)\n"
          ]
        }
      ],
      "source": [
        "# Split data 70/30\n",
        "X_train, X_test, y_train, y_test = train_test_split(all_data.text, all_data.target, test_size=0.3, random_state=rng)\n",
        "\n",
        "print('# Train data samples:', X_train.shape)\n",
        "print('# Test data samples:', X_test.shape)\n",
        "assert X_train.shape[0] == y_train.shape[0]\n",
        "assert X_test.shape[0] == y_test.shape[0]\n",
        "\n"
      ]
    },
    {
      "cell_type": "code",
      "execution_count": null,
      "metadata": {
        "colab": {
          "base_uri": "https://localhost:8080/"
        },
        "id": "n74_lUyYr1rI",
        "outputId": "c289e7a7-dc9f-4a21-8c41-42a90e9c78f7"
      },
      "outputs": [
        {
          "output_type": "stream",
          "name": "stdout",
          "text": [
            "1487446    Mornin tweeps...this day Lord made. Rejoice gl...\n",
            "994181     feeling like I'm getting flu...just time weeke...\n",
            "476281                          That Frisker car goooorgeous\n",
            "1320042    *breathes* I'm mood destroy things .. teeth. a...\n",
            "705913               http://twitpic.com/6comx It still does.\n",
            "Name: text, dtype: object\n",
            "1487446    4\n",
            "994181     0\n",
            "476281     4\n",
            "1320042    4\n",
            "705913     4\n",
            "Name: target, dtype: int64\n",
            "536062    thinking needs stop playing around twitter wor...\n",
            "593988    This much know true, god bless broken road, le...\n",
            "453776    almost tweetdeck locked yet.. maybe new versio...\n",
            "834495    im losing sanity ive still got rest night go help\n",
            "948923                                    300th update. lol\n",
            "Name: text, dtype: object\n",
            "536062    0\n",
            "593988    4\n",
            "453776    4\n",
            "834495    0\n",
            "948923    4\n",
            "Name: target, dtype: int64\n"
          ]
        }
      ],
      "source": [
        "## WARNING - Vulgar tweets\n",
        "print(X_train.head(n=5))\n",
        "print(y_train.head(n=5))\n",
        "print(X_test.head(n=5))\n",
        "print(y_test.head(n=5)) "
      ]
    },
    {
      "cell_type": "code",
      "execution_count": null,
      "metadata": {
        "colab": {
          "base_uri": "https://localhost:8080/"
        },
        "id": "E9VXkay7r1rJ",
        "outputId": "5c2a2542-e356-4d41-c355-fb72b508705d"
      },
      "outputs": [
        {
          "output_type": "stream",
          "name": "stdout",
          "text": [
            "count    1.117308e+06\n",
            "mean     8.361059e+00\n",
            "std      4.236884e+00\n",
            "min      1.000000e+00\n",
            "25%      5.000000e+00\n",
            "50%      8.000000e+00\n",
            "75%      1.100000e+01\n",
            "max      4.100000e+01\n",
            "Name: text, dtype: float64\n",
            "=======\n",
            " Padded sequence:\n",
            "[   0    0    0    0    0    0    0    0    0    0    0    0    0    0\n",
            "    0    0    0    0    0    0    0    0    0    0    0    0    0    0\n",
            "    0    0    0    0    0    0   28   27 9923 1961 1821  198 6886]\n",
            "=======\n",
            " Labels of y_train:\n",
            "[[0. 1.]\n",
            " [1. 0.]\n",
            " [0. 1.]\n",
            " ...\n",
            " [0. 1.]\n",
            " [1. 0.]\n",
            " [1. 0.]]\n"
          ]
        }
      ],
      "source": [
        "# Set Word Limit & Word Vector of Integer Limit  \n",
        "NUM_WORDS = 50000\n",
        "\n",
        "\n",
        "# Convert words to numbers\n",
        "tk = Tokenizer(num_words=NUM_WORDS, filters='!\"#$%&()*+,-./:;<=>?@[\\\\]^_`{|}~\\t\\n',\n",
        "               lower=True, split=\" \")\n",
        "\n",
        "tk.fit_on_texts(X_train)\n",
        "X_train_seq = tk.texts_to_sequences(X_train)\n",
        "X_test_seq = tk.texts_to_sequences(X_test)\n",
        "\n",
        "# Split by a space for each list of sequences\n",
        "seq_lengths = X_train.apply(lambda x: len(x.split(' ')))\n",
        "print(seq_lengths.describe())\n",
        "\n",
        "seq_lengths.max\n",
        "\n",
        "# Ideally - the above .describe() will tell you the max sequence to set MAX_LEN to\n",
        "MAX_LEN = int(max(seq_lengths))\n",
        "\n",
        "# Pad sequences to MAX_LEN e.g. [0, 0, ... 38, 172]\n",
        "X_train_seq_trunc = tf.keras.preprocessing.sequence.pad_sequences(X_train_seq, maxlen=MAX_LEN)\n",
        "X_test_seq_trunc = tf.keras.preprocessing.sequence.pad_sequences(X_test_seq, maxlen=MAX_LEN)\n",
        "\n",
        "# Example of a padded sequence\n",
        "print(\"=======\\n Padded sequence:\")\n",
        "print(X_train_seq_trunc[5])\n",
        "\n",
        "# Convert labels to numeric vectors\n",
        "le = LabelEncoder()\n",
        "y_train_le = le.fit_transform(y_train)\n",
        "y_test_le = le.transform(y_test)\n",
        "\n",
        "y_train_new = tf.keras.utils.to_categorical(y_train_le)\n",
        "y_test_new = tf.keras.utils.to_categorical(y_test_le)\n",
        "\n",
        "print(\"=======\\n Labels of y_train:\")\n",
        "print(y_train_new)\n",
        "\n"
      ]
    },
    {
      "cell_type": "code",
      "source": [
        "print(max(seq_lengths))"
      ],
      "metadata": {
        "colab": {
          "base_uri": "https://localhost:8080/"
        },
        "id": "zoc6C-IOo6fu",
        "outputId": "13133e6f-2312-4017-cafd-58a0a2cf1701"
      },
      "execution_count": null,
      "outputs": [
        {
          "output_type": "stream",
          "name": "stdout",
          "text": [
            "41\n"
          ]
        }
      ]
    },
    {
      "cell_type": "code",
      "execution_count": null,
      "metadata": {
        "colab": {
          "base_uri": "https://localhost:8080/"
        },
        "id": "yWwbKwvyr1rJ",
        "outputId": "94f88ce7-3f50-4cc9-8211-bbbe47ceec43"
      },
      "outputs": [
        {
          "output_type": "stream",
          "name": "stdout",
          "text": [
            "             0             1\n",
            "0            1           i'm\n",
            "1            2           not\n",
            "2            3          good\n",
            "3            4           day\n",
            "4            5           get\n",
            "...        ...           ...\n",
            "297754  297755      lastweeg\n",
            "297755  297756  unemployable\n",
            "297756  297757       belanje\n",
            "297757  297758          molo\n",
            "297758  297759         hemat\n",
            "\n",
            "[297759 rows x 2 columns]\n"
          ]
        }
      ],
      "source": [
        "# Use this to save the word listing\n",
        "def save_words(basic=True):\n",
        "    word_list = pd.DataFrame(tk.index_word.items())\n",
        "    word_list = word_list.rename(columns={0: \"Encoding\", 1: \"Word\"})\n",
        "    if basic:\n",
        "        word_list.to_csv(\"./data/basic_model/word_list.csv\", index=False)\n",
        "    else:\n",
        "        word_list.to_csv(\"./data/newer_model/word_list.csv\", index=False)\n",
        "\n",
        "# WARNING - possible vulgarity (not my fault okay)\n",
        "# Quick view of word listing\n",
        "print(pd.DataFrame(tk.index_word.items()))\n",
        "save_words(basic=False)"
      ]
    },
    {
      "cell_type": "code",
      "execution_count": null,
      "metadata": {
        "colab": {
          "base_uri": "https://localhost:8080/"
        },
        "id": "gJMTw2nfr1rK",
        "outputId": "fed6748d-c858-4119-e146-be3eb5923f68"
      },
      "outputs": [
        {
          "output_type": "stream",
          "name": "stdout",
          "text": [
            "Shape of validation set: (335193, 41) (335193, 2)\n"
          ]
        }
      ],
      "source": [
        "# Split off validation data\n",
        "X_train_emb, X_valid_emb, y_train_emb, y_valid_emb = train_test_split(X_train_seq_trunc, y_train_new,\n",
        "                                                                      test_size=0.3, random_state=rng)\n",
        "\n",
        "assert X_valid_emb.shape[0] == y_valid_emb.shape[0]\n",
        "assert X_train_emb.shape[0] == y_train_emb.shape[0]\n",
        "\n",
        "print('Shape of validation set:',X_valid_emb.shape, y_valid_emb.shape)"
      ]
    },
    {
      "cell_type": "code",
      "execution_count": null,
      "metadata": {
        "id": "AtVOc9wRr1rK"
      },
      "outputs": [],
      "source": [
        "# Create our model functions\n",
        "def create_basic_model():\n",
        "    model = tf.keras.models.Sequential()\n",
        "    model.add(tf.keras.layers.Embedding(NUM_WORDS, 64, input_length=MAX_LEN))\n",
        "    model.add(tf.keras.layers.Conv1D(filters=64, kernel_size=8, activation='relu'))\n",
        "    model.add(tf.keras.layers.MaxPooling1D(pool_size=2))\n",
        "    model.add(tf.keras.layers.Flatten())\n",
        "    model.add(tf.keras.layers.Dense(10, activation='relu'))\n",
        "    model.add(tf.keras.layers.Dense(2, activation='sigmoid'))\n",
        "\n",
        "    model.compile(optimizer='adam', loss='binary_crossentropy', metrics=['accuracy'])\n",
        "    print('Basic Model Summary')\n",
        "    model.summary()\n",
        "    return model\n",
        "\n",
        "def create_new_model():\n",
        "    model = tf.keras.models.Sequential()\n",
        "    model.add(tf.keras.layers.Embedding(NUM_WORDS, 128, input_length=MAX_LEN))\n",
        "    model.add(tf.keras.layers.Conv1D(filters=16, kernel_size=3, padding='same', activation='relu'))\n",
        "    model.add(tf.keras.layers.MaxPooling1D(pool_size=2))\n",
        "    model.add(tf.keras.layers.Conv1D(filters=32, kernel_size=3, padding='same', activation='relu'))\n",
        "    model.add(tf.keras.layers.MaxPooling1D(pool_size=2))\n",
        "    model.add(tf.keras.layers.Conv1D(filters=64, kernel_size=3, padding='same', activation='relu'))\n",
        "    model.add(tf.keras.layers.MaxPooling1D(pool_size=2))\n",
        "\n",
        "    model.add(tf.keras.layers.Flatten())\n",
        "    model.add(tf.keras.layers.Dropout(rate=0.4))\n",
        "    model.add(tf.keras.layers.Dense(75, activation='relu'))\n",
        "    model.add(tf.keras.layers.Dense(2, activation='sigmoid'))\n",
        "    model.compile(optimizer='adam', loss='binary_crossentropy', metrics=['accuracy'])\n",
        "    print('New Model Summary')\n",
        "    model.summary()\n",
        "    return model\n"
      ]
    },
    {
      "cell_type": "code",
      "execution_count": null,
      "metadata": {
        "colab": {
          "base_uri": "https://localhost:8080/"
        },
        "id": "3bsYIi6jr1rL",
        "outputId": "86688642-30b0-45f0-d8a7-1c851cf182e1"
      },
      "outputs": [
        {
          "output_type": "stream",
          "name": "stdout",
          "text": [
            "New Model Summary\n",
            "Model: \"sequential_1\"\n",
            "_________________________________________________________________\n",
            " Layer (type)                Output Shape              Param #   \n",
            "=================================================================\n",
            " embedding_1 (Embedding)     (None, 41, 128)           6400000   \n",
            "                                                                 \n",
            " conv1d_3 (Conv1D)           (None, 41, 16)            6160      \n",
            "                                                                 \n",
            " max_pooling1d_3 (MaxPooling  (None, 20, 16)           0         \n",
            " 1D)                                                             \n",
            "                                                                 \n",
            " conv1d_4 (Conv1D)           (None, 20, 32)            1568      \n",
            "                                                                 \n",
            " max_pooling1d_4 (MaxPooling  (None, 10, 32)           0         \n",
            " 1D)                                                             \n",
            "                                                                 \n",
            " conv1d_5 (Conv1D)           (None, 10, 64)            6208      \n",
            "                                                                 \n",
            " max_pooling1d_5 (MaxPooling  (None, 5, 64)            0         \n",
            " 1D)                                                             \n",
            "                                                                 \n",
            " flatten_1 (Flatten)         (None, 320)               0         \n",
            "                                                                 \n",
            " dropout_1 (Dropout)         (None, 320)               0         \n",
            "                                                                 \n",
            " dense_2 (Dense)             (None, 75)                24075     \n",
            "                                                                 \n",
            " dense_3 (Dense)             (None, 2)                 152       \n",
            "                                                                 \n",
            "=================================================================\n",
            "Total params: 6,438,163\n",
            "Trainable params: 6,438,163\n",
            "Non-trainable params: 0\n",
            "_________________________________________________________________\n",
            "Epoch 1/7\n",
            "764/764 [==============================] - 169s 219ms/step - loss: 0.4618 - accuracy: 0.7799 - val_loss: 0.4295 - val_accuracy: 0.8010\n",
            "Epoch 2/7\n",
            "764/764 [==============================] - 168s 220ms/step - loss: 0.3888 - accuracy: 0.8260 - val_loss: 0.4310 - val_accuracy: 0.8022\n",
            "Epoch 3/7\n",
            "764/764 [==============================] - 170s 223ms/step - loss: 0.3327 - accuracy: 0.8561 - val_loss: 0.4624 - val_accuracy: 0.7953\n",
            "Epoch 4/7\n",
            "764/764 [==============================] - 169s 221ms/step - loss: 0.2772 - accuracy: 0.8826 - val_loss: 0.5192 - val_accuracy: 0.7876\n",
            "Epoch 5/7\n",
            "764/764 [==============================] - 172s 225ms/step - loss: 0.2357 - accuracy: 0.9015 - val_loss: 0.6047 - val_accuracy: 0.7822\n",
            "Epoch 6/7\n",
            "764/764 [==============================] - 173s 226ms/step - loss: 0.2068 - accuracy: 0.9139 - val_loss: 0.7178 - val_accuracy: 0.7790\n",
            "Epoch 7/7\n",
            "764/764 [==============================] - 175s 229ms/step - loss: 0.1874 - accuracy: 0.9220 - val_loss: 0.7615 - val_accuracy: 0.7745\n",
            "14964/14964 [==============================] - 62s 4ms/step - loss: 0.7478 - accuracy: 0.7762\n",
            "Test accuracy of model: 77.62%\n"
          ]
        }
      ],
      "source": [
        "# Use our models\n",
        "\n",
        "NUM_EPOCHS = 7\n",
        "BATCH_SIZE = 1024\n",
        "\n",
        "def train_model(model):\n",
        "    history = model.fit(X_train_emb, y_train_emb, epochs=NUM_EPOCHS, \n",
        "                    batch_size=BATCH_SIZE, validation_data=(X_valid_emb, y_valid_emb), \n",
        "                    verbose=True)\n",
        "    return history\n",
        "\n",
        "# New Model Training\n",
        "nm = create_new_model()\n",
        "nm_history = train_model(nm)\n",
        "results = nm.evaluate(X_test_seq_trunc, y_test_new)\n",
        "\n",
        "# Basic Model Training\n",
        "# bm = create_basic_model()\n",
        "# bm_history = train_model(bm)\n",
        "# results = bm.evaluate(X_test_seq_trunc, y_test_new)\n",
        "print('Test accuracy of model: {0:.2f}%'.format(results[1]*100))"
      ]
    },
    {
      "cell_type": "code",
      "execution_count": null,
      "metadata": {
        "colab": {
          "base_uri": "https://localhost:8080/"
        },
        "id": "HBtORHYPr1rL",
        "outputId": "c479ff16-a3e9-4d85-8c25-03eb028bbaa0"
      },
      "outputs": [
        {
          "output_type": "stream",
          "name": "stdout",
          "text": [
            "[[0.24482092 0.755062  ]\n",
            " [0.9865339  0.0141837 ]\n",
            " [0.02239516 0.9773189 ]\n",
            " [0.11081693 0.8889638 ]\n",
            " [0.309542   0.6905417 ]]\n"
          ]
        }
      ],
      "source": [
        "# Do an example prediction\n",
        "example_sentences = np.array([\"omg I love applebees\",\n",
        "    \"omg I hate applebees\",\n",
        "     \"thank you!\", \n",
        "     \"there's no I in team\",\n",
        "     \"who is this\",\n",
        "])\n",
        "example_sentences = tk.texts_to_sequences(example_sentences)\n",
        "example_sentences = tf.keras.preprocessing.sequence.pad_sequences(example_sentences, maxlen=MAX_LEN)\n",
        "\n",
        "prediction = nm.predict(example_sentences)\n",
        "# prediction = bm.predict(example_sentences)\n",
        "print(prediction)\n",
        "\n"
      ]
    },
    {
      "cell_type": "code",
      "source": [
        "# Save new model (non-colab)\n",
        "nm.save(\"./data/newer_model\")"
      ],
      "metadata": {
        "colab": {
          "base_uri": "https://localhost:8080/"
        },
        "id": "rgbyWJuNd47f",
        "outputId": "e86eb841-5a06-488e-9866-b5b1407f75f4"
      },
      "execution_count": null,
      "outputs": [
        {
          "output_type": "stream",
          "name": "stdout",
          "text": [
            "INFO:tensorflow:Assets written to: ./data/newer_model/assets\n"
          ]
        }
      ]
    },
    {
      "cell_type": "code",
      "execution_count": null,
      "metadata": {
        "id": "32-2Ki7Cr1rL",
        "outputId": "755ed8b2-d5f0-4cef-ff65-3b8952f5696b"
      },
      "outputs": [
        {
          "name": "stdout",
          "output_type": "stream",
          "text": [
            "WARNING:tensorflow:AutoGraph could not transform <function trace_model_call.<locals>._wrapped_model at 0x000001D7D5C11510> and will run it as-is.\n",
            "Please report this to the TensorFlow team. When filing the bug, set the verbosity to 10 (on Linux, `export AUTOGRAPH_VERBOSITY=10`) and attach the full output.\n",
            "Cause: closure mismatch, requested ('model',), but source function had ()\n",
            "To silence this warning, decorate the function with @tf.autograph.experimental.do_not_convert\n"
          ]
        },
        {
          "name": "stderr",
          "output_type": "stream",
          "text": [
            "WARNING:tensorflow:AutoGraph could not transform <function trace_model_call.<locals>._wrapped_model at 0x000001D7D5C11510> and will run it as-is.\n",
            "Please report this to the TensorFlow team. When filing the bug, set the verbosity to 10 (on Linux, `export AUTOGRAPH_VERBOSITY=10`) and attach the full output.\n",
            "Cause: closure mismatch, requested ('model',), but source function had ()\n",
            "To silence this warning, decorate the function with @tf.autograph.experimental.do_not_convert\n"
          ]
        },
        {
          "name": "stdout",
          "output_type": "stream",
          "text": [
            "WARNING: AutoGraph could not transform <function trace_model_call.<locals>._wrapped_model at 0x000001D7D5C11510> and will run it as-is.\n",
            "Please report this to the TensorFlow team. When filing the bug, set the verbosity to 10 (on Linux, `export AUTOGRAPH_VERBOSITY=10`) and attach the full output.\n",
            "Cause: closure mismatch, requested ('model',), but source function had ()\n",
            "To silence this warning, decorate the function with @tf.autograph.experimental.do_not_convert\n"
          ]
        },
        {
          "name": "stderr",
          "output_type": "stream",
          "text": [
            "WARNING:absl:Found untraced functions such as _jit_compiled_convolution_op while saving (showing 1 of 1). These functions will not be directly callable after loading.\n"
          ]
        },
        {
          "name": "stdout",
          "output_type": "stream",
          "text": [
            "INFO:tensorflow:Assets written to: ./data/basic_model\\assets\n"
          ]
        },
        {
          "name": "stderr",
          "output_type": "stream",
          "text": [
            "INFO:tensorflow:Assets written to: ./data/basic_model\\assets\n"
          ]
        }
      ],
      "source": [
        "# Save basic model (non-colab):\n",
        "bm.save(\"./data/basic_model\")\n",
        "# optionally save words\n",
        "save_words(basic=True)\n"
      ]
    },
    {
      "cell_type": "code",
      "execution_count": null,
      "metadata": {
        "id": "pV2oFHmHr1rM"
      },
      "outputs": [],
      "source": [
        "# Tokenize function to convert sentence to integer array of max_len\n",
        "def tokenize(sentence, max_len, encoding):\n",
        "    token_vector = np.zeros(max_len)\n",
        "    for i, word in enumerate(sentence.split(\" \")):\n",
        "        # print(f\"{i} - {word}\")\n",
        "        if i >= max_len:\n",
        "            break\n",
        "        if word in encoding.keys():\n",
        "            token_vector[max_len - i - 1] = encoding[word]\n",
        "        else:\n",
        "            token_vector[max_len - i - 1] = 0\n",
        "    # print(token_vector)\n",
        "    return token_vector"
      ]
    },
    {
      "cell_type": "code",
      "execution_count": null,
      "metadata": {
        "colab": {
          "base_uri": "https://localhost:8080/"
        },
        "id": "a7iLhnJ4r1rM",
        "outputId": "59e76fda-1c94-4a11-e636-4017000c4b9b"
      },
      "outputs": [
        {
          "output_type": "stream",
          "name": "stdout",
          "text": [
            "(4, 41)\n",
            "float64\n"
          ]
        },
        {
          "output_type": "execute_result",
          "data": {
            "text/plain": [
              "array([[0.05943903, 0.9402803 ],\n",
              "       [0.9230387 , 0.07883936],\n",
              "       [0.22703773, 0.7744856 ],\n",
              "       [0.15326372, 0.8472514 ]], dtype=float32)"
            ]
          },
          "metadata": {},
          "execution_count": 54
        }
      ],
      "source": [
        "# Load the basic model and use it for inference\n",
        "loaded_nm = tf.keras.models.load_model(\"./data/newer_model\")\n",
        "#loaded_bm = tf.keras.models.load_model(\"./data/basic_model\")\n",
        "\n",
        "\n",
        "my_word_list = pd.read_csv(\"./data/newer_model/word_list.csv\", encoding=\"latin-1\", engine=\"python\", on_bad_lines=\"skip\")\n",
        "# my_word_list = pd.read_csv(\"./data/basic_model/word_list.csv\", encoding=\"latin-1\", engine=\"python\", on_bad_lines=\"skip\")\n",
        "encoding = dict(zip(my_word_list[\"Word\"], my_word_list[\"Encoding\"]))\n",
        "\n",
        "# Use here\n",
        "# MAX_LEN = 35\n",
        "\n",
        "new_examples = np.array([\n",
        "    tokenize(\"I love this place!\", MAX_LEN, encoding),\n",
        "    tokenize(\"I hate this place!\", MAX_LEN, encoding),\n",
        "    tokenize(\"surf's up dude\", MAX_LEN, encoding),\n",
        "    tokenize(\"you snooze you lose\", MAX_LEN, encoding),\n",
        "])\n",
        "\n",
        "print(new_examples.shape)\n",
        "print(new_examples.dtype)\n",
        "\n",
        "\n",
        "# Predict!\n",
        "loaded_nm.predict(new_examples)\n",
        "#loaded_bm.predict(new_examples)"
      ]
    },
    {
      "cell_type": "code",
      "source": [
        "# Convert keras model to onnx\n",
        "import onnx\n",
        "import tensorflow\n",
        "import keras2onnx\n",
        "\n",
        "model_name_onnx = \"new_model.onnx\"\n",
        "onnx_model = keras2onnx.convert_keras(loaded_nm, loaded_nm.name)\n",
        "onnx.save_model(onnx_model, model_name_onnx)\n"
      ],
      "metadata": {
        "colab": {
          "base_uri": "https://localhost:8080/",
          "height": 380
        },
        "id": "d7LNOk2tjZej",
        "outputId": "82e6c252-341e-490c-8cf3-444d9638c8f3"
      },
      "execution_count": null,
      "outputs": [
        {
          "output_type": "error",
          "ename": "AttributeError",
          "evalue": "ignored",
          "traceback": [
            "\u001b[0;31m---------------------------------------------------------------------------\u001b[0m",
            "\u001b[0;31mAttributeError\u001b[0m                            Traceback (most recent call last)",
            "\u001b[0;32m<ipython-input-41-c6d87fe00534>\u001b[0m in \u001b[0;36m<module>\u001b[0;34m()\u001b[0m\n\u001b[1;32m      2\u001b[0m \u001b[0;32mimport\u001b[0m \u001b[0monnx\u001b[0m\u001b[0;34m\u001b[0m\u001b[0;34m\u001b[0m\u001b[0m\n\u001b[1;32m      3\u001b[0m \u001b[0;32mimport\u001b[0m \u001b[0mtensorflow\u001b[0m\u001b[0;34m\u001b[0m\u001b[0;34m\u001b[0m\u001b[0m\n\u001b[0;32m----> 4\u001b[0;31m \u001b[0;32mimport\u001b[0m \u001b[0mkeras2onnx\u001b[0m\u001b[0;34m\u001b[0m\u001b[0;34m\u001b[0m\u001b[0m\n\u001b[0m\u001b[1;32m      5\u001b[0m \u001b[0mmodel_name_onnx\u001b[0m \u001b[0;34m=\u001b[0m \u001b[0;34m\"new_model.onnx\"\u001b[0m\u001b[0;34m\u001b[0m\u001b[0;34m\u001b[0m\u001b[0m\n\u001b[1;32m      6\u001b[0m \u001b[0monnx_model\u001b[0m \u001b[0;34m=\u001b[0m \u001b[0mkeras2onnx\u001b[0m\u001b[0;34m.\u001b[0m\u001b[0mconvert_keras\u001b[0m\u001b[0;34m(\u001b[0m\u001b[0mloaded_nm\u001b[0m\u001b[0;34m,\u001b[0m \u001b[0mloaded_nm\u001b[0m\u001b[0;34m.\u001b[0m\u001b[0mname\u001b[0m\u001b[0;34m)\u001b[0m\u001b[0;34m\u001b[0m\u001b[0;34m\u001b[0m\u001b[0m\n",
            "\u001b[0;32m/usr/local/lib/python3.7/dist-packages/keras2onnx/__init__.py\u001b[0m in \u001b[0;36m<module>\u001b[0;34m()\u001b[0m\n\u001b[1;32m     32\u001b[0m \u001b[0;32mfrom\u001b[0m \u001b[0;34m.\u001b[0m\u001b[0mfuncbook\u001b[0m \u001b[0;32mimport\u001b[0m \u001b[0mset_converter\u001b[0m\u001b[0;34m,\u001b[0m \u001b[0mset_converters\u001b[0m\u001b[0;34m\u001b[0m\u001b[0;34m\u001b[0m\u001b[0m\n\u001b[1;32m     33\u001b[0m \u001b[0;34m\u001b[0m\u001b[0m\n\u001b[0;32m---> 34\u001b[0;31m \u001b[0;32mfrom\u001b[0m \u001b[0;34m.\u001b[0m\u001b[0mmain\u001b[0m \u001b[0;32mimport\u001b[0m \u001b[0mconvert_keras\u001b[0m\u001b[0;34m\u001b[0m\u001b[0;34m\u001b[0m\u001b[0m\n\u001b[0m\u001b[1;32m     35\u001b[0m \u001b[0;32mfrom\u001b[0m \u001b[0;34m.\u001b[0m\u001b[0mmain\u001b[0m \u001b[0;32mimport\u001b[0m \u001b[0mexport_tf_frozen_graph\u001b[0m\u001b[0;34m\u001b[0m\u001b[0;34m\u001b[0m\u001b[0m\n\u001b[1;32m     36\u001b[0m \u001b[0;32mfrom\u001b[0m \u001b[0;34m.\u001b[0m\u001b[0mmain\u001b[0m \u001b[0;32mimport\u001b[0m \u001b[0mbuild_io_names_tf2onnx\u001b[0m\u001b[0;34m\u001b[0m\u001b[0;34m\u001b[0m\u001b[0m\n",
            "\u001b[0;32m/usr/local/lib/python3.7/dist-packages/keras2onnx/main.py\u001b[0m in \u001b[0;36m<module>\u001b[0;34m()\u001b[0m\n\u001b[1;32m     11\u001b[0m \u001b[0;32mfrom\u001b[0m \u001b[0;34m.\u001b[0m\u001b[0mproto\u001b[0m \u001b[0;32mimport\u001b[0m \u001b[0monnx\u001b[0m\u001b[0;34m\u001b[0m\u001b[0;34m\u001b[0m\u001b[0m\n\u001b[1;32m     12\u001b[0m \u001b[0;32mfrom\u001b[0m \u001b[0;34m.\u001b[0m\u001b[0mtopology\u001b[0m \u001b[0;32mimport\u001b[0m \u001b[0mconvert_topology\u001b[0m\u001b[0;34m\u001b[0m\u001b[0;34m\u001b[0m\u001b[0m\n\u001b[0;32m---> 13\u001b[0;31m \u001b[0;32mfrom\u001b[0m \u001b[0;34m.\u001b[0m\u001b[0mke2onnx\u001b[0m \u001b[0;32mimport\u001b[0m \u001b[0mstatic_set_ke2onnx_converters\u001b[0m\u001b[0;34m\u001b[0m\u001b[0;34m\u001b[0m\u001b[0m\n\u001b[0m\u001b[1;32m     14\u001b[0m \u001b[0;32mfrom\u001b[0m \u001b[0;34m.\u001b[0m\u001b[0mparser\u001b[0m \u001b[0;32mimport\u001b[0m \u001b[0mparse_graph\u001b[0m\u001b[0;34m,\u001b[0m \u001b[0mparse_graph_modeless\u001b[0m\u001b[0;34m\u001b[0m\u001b[0;34m\u001b[0m\u001b[0m\n\u001b[1;32m     15\u001b[0m \u001b[0;32mfrom\u001b[0m \u001b[0;34m.\u001b[0m\u001b[0mtopology\u001b[0m \u001b[0;32mimport\u001b[0m \u001b[0mTopology\u001b[0m\u001b[0;34m\u001b[0m\u001b[0;34m\u001b[0m\u001b[0m\n",
            "\u001b[0;32m/usr/local/lib/python3.7/dist-packages/keras2onnx/ke2onnx/__init__.py\u001b[0m in \u001b[0;36m<module>\u001b[0;34m()\u001b[0m\n\u001b[1;32m      4\u001b[0m \u001b[0;31m# license information.\u001b[0m\u001b[0;34m\u001b[0m\u001b[0;34m\u001b[0m\u001b[0;34m\u001b[0m\u001b[0m\n\u001b[1;32m      5\u001b[0m \u001b[0;31m###############################################################################\u001b[0m\u001b[0;34m\u001b[0m\u001b[0;34m\u001b[0m\u001b[0;34m\u001b[0m\u001b[0m\n\u001b[0;32m----> 6\u001b[0;31m \u001b[0;32mfrom\u001b[0m \u001b[0;34m.\u001b[0m\u001b[0mmain\u001b[0m \u001b[0;32mimport\u001b[0m \u001b[0mkeras_layer_to_operator\u001b[0m\u001b[0;34m\u001b[0m\u001b[0;34m\u001b[0m\u001b[0m\n\u001b[0m\u001b[1;32m      7\u001b[0m \u001b[0;32mfrom\u001b[0m \u001b[0;34m.\u001b[0m\u001b[0mmain\u001b[0m \u001b[0;32mimport\u001b[0m \u001b[0mstatic_set_ke2onnx_converters\u001b[0m\u001b[0;34m\u001b[0m\u001b[0;34m\u001b[0m\u001b[0m\n\u001b[1;32m      8\u001b[0m \u001b[0;32mfrom\u001b[0m \u001b[0;34m.\u001b[0m\u001b[0mlayer_spec\u001b[0m \u001b[0;32mimport\u001b[0m \u001b[0mkeras_layer_spec\u001b[0m\u001b[0;34m\u001b[0m\u001b[0;34m\u001b[0m\u001b[0m\n",
            "\u001b[0;32m/usr/local/lib/python3.7/dist-packages/keras2onnx/ke2onnx/main.py\u001b[0m in \u001b[0;36m<module>\u001b[0;34m()\u001b[0m\n\u001b[1;32m     11\u001b[0m \u001b[0;32mfrom\u001b[0m \u001b[0;34m.\u001b[0m\u001b[0;34m.\u001b[0m\u001b[0mcommon\u001b[0m\u001b[0;34m.\u001b[0m\u001b[0monnx_ops\u001b[0m \u001b[0;32mimport\u001b[0m \u001b[0mapply_reshape\u001b[0m\u001b[0;34m,\u001b[0m \u001b[0mapply_concat\u001b[0m\u001b[0;34m,\u001b[0m \u001b[0mapply_transpose\u001b[0m\u001b[0;34m,\u001b[0m \u001b[0mapply_flatten\u001b[0m\u001b[0;34m,\u001b[0m \u001b[0mOnnxOperatorBuilder\u001b[0m\u001b[0;34m\u001b[0m\u001b[0;34m\u001b[0m\u001b[0m\n\u001b[1;32m     12\u001b[0m \u001b[0;34m\u001b[0m\u001b[0m\n\u001b[0;32m---> 13\u001b[0;31m \u001b[0;32mfrom\u001b[0m \u001b[0;34m.\u001b[0m\u001b[0mactivation\u001b[0m \u001b[0;32mimport\u001b[0m \u001b[0mconvert_keras_activation\u001b[0m\u001b[0;34m\u001b[0m\u001b[0;34m\u001b[0m\u001b[0m\n\u001b[0m\u001b[1;32m     14\u001b[0m \u001b[0;32mfrom\u001b[0m \u001b[0;34m.\u001b[0m\u001b[0madv_activation\u001b[0m \u001b[0;32mimport\u001b[0m \u001b[0mconvert_keras_advanced_activation\u001b[0m\u001b[0;34m\u001b[0m\u001b[0;34m\u001b[0m\u001b[0m\n\u001b[1;32m     15\u001b[0m \u001b[0;32mfrom\u001b[0m \u001b[0;34m.\u001b[0m\u001b[0mbatch_norm\u001b[0m \u001b[0;32mimport\u001b[0m \u001b[0mconvert_keras_batch_normalization\u001b[0m\u001b[0;34m\u001b[0m\u001b[0;34m\u001b[0m\u001b[0m\n",
            "\u001b[0;32m/usr/local/lib/python3.7/dist-packages/keras2onnx/ke2onnx/activation.py\u001b[0m in \u001b[0;36m<module>\u001b[0;34m()\u001b[0m\n\u001b[1;32m     19\u001b[0m     \u001b[0;32mexcept\u001b[0m \u001b[0mImportError\u001b[0m\u001b[0;34m:\u001b[0m\u001b[0;34m\u001b[0m\u001b[0;34m\u001b[0m\u001b[0m\n\u001b[1;32m     20\u001b[0m         \u001b[0;32mpass\u001b[0m\u001b[0;34m\u001b[0m\u001b[0;34m\u001b[0m\u001b[0m\n\u001b[0;32m---> 21\u001b[0;31m \u001b[0;32mif\u001b[0m \u001b[0;32mnot\u001b[0m \u001b[0mrelu6\u001b[0m \u001b[0;32mand\u001b[0m \u001b[0mhasattr\u001b[0m\u001b[0;34m(\u001b[0m\u001b[0mkeras\u001b[0m\u001b[0;34m.\u001b[0m\u001b[0mapplications\u001b[0m\u001b[0;34m.\u001b[0m\u001b[0mmobilenet\u001b[0m\u001b[0;34m,\u001b[0m \u001b[0;34m'relu6'\u001b[0m\u001b[0;34m)\u001b[0m\u001b[0;34m:\u001b[0m\u001b[0;34m\u001b[0m\u001b[0;34m\u001b[0m\u001b[0m\n\u001b[0m\u001b[1;32m     22\u001b[0m     \u001b[0mrelu6\u001b[0m \u001b[0;34m=\u001b[0m \u001b[0mkeras\u001b[0m\u001b[0;34m.\u001b[0m\u001b[0mapplications\u001b[0m\u001b[0;34m.\u001b[0m\u001b[0mmobilenet\u001b[0m\u001b[0;34m.\u001b[0m\u001b[0mrelu6\u001b[0m\u001b[0;34m\u001b[0m\u001b[0;34m\u001b[0m\u001b[0m\n\u001b[1;32m     23\u001b[0m \u001b[0;34m\u001b[0m\u001b[0m\n",
            "\u001b[0;31mAttributeError\u001b[0m: module 'tensorflow.python.keras' has no attribute 'applications'"
          ]
        }
      ]
    },
    {
      "cell_type": "code",
      "source": [
        "# Convert model to onnx\n",
        "import tf2onnx\n",
        "import onnx\n",
        "\n",
        "input_signature = [tf.TensorSpec([1,41], tf.float64, name='x')]\n",
        "onnx_model, _ = tf2onnx.convert.from_keras(loaded_nm, input_signature, opset=13)\n",
        "onnx.save(onnx_model, \"data/newer_model/newer_model.onnx\")\n"
      ],
      "metadata": {
        "id": "ikQ0niYjBXr7"
      },
      "execution_count": null,
      "outputs": []
    },
    {
      "cell_type": "code",
      "source": [
        "from google.colab import files\n",
        "import os\n",
        "\n",
        "dir_to_zip = './data/newer_model' #@param {type: \"string\"}\n",
        "output_filename = 'newer_model.zip' #@param {type: \"string\"}\n",
        "delete_dir_after_download = \"No\"  #@param ['Yes', 'No']\n",
        "\n",
        "os.system( \"zip -r {} {}\".format( output_filename , dir_to_zip ) )\n",
        "\n",
        "if delete_dir_after_download == \"Yes\":\n",
        "    os.system( \"rm -r {}\".format( dir_to_zip ) )\n",
        "\n",
        "files.download( output_filename )"
      ],
      "metadata": {
        "colab": {
          "base_uri": "https://localhost:8080/",
          "height": 34
        },
        "id": "VZp9_1pcz_jO",
        "outputId": "952e3e9b-ea61-4a7b-e600-fe0570d26f3a"
      },
      "execution_count": null,
      "outputs": [
        {
          "output_type": "display_data",
          "data": {
            "text/plain": [
              "<IPython.core.display.Javascript object>"
            ],
            "application/javascript": [
              "\n",
              "    async function download(id, filename, size) {\n",
              "      if (!google.colab.kernel.accessAllowed) {\n",
              "        return;\n",
              "      }\n",
              "      const div = document.createElement('div');\n",
              "      const label = document.createElement('label');\n",
              "      label.textContent = `Downloading \"${filename}\": `;\n",
              "      div.appendChild(label);\n",
              "      const progress = document.createElement('progress');\n",
              "      progress.max = size;\n",
              "      div.appendChild(progress);\n",
              "      document.body.appendChild(div);\n",
              "\n",
              "      const buffers = [];\n",
              "      let downloaded = 0;\n",
              "\n",
              "      const channel = await google.colab.kernel.comms.open(id);\n",
              "      // Send a message to notify the kernel that we're ready.\n",
              "      channel.send({})\n",
              "\n",
              "      for await (const message of channel.messages) {\n",
              "        // Send a message to notify the kernel that we're ready.\n",
              "        channel.send({})\n",
              "        if (message.buffers) {\n",
              "          for (const buffer of message.buffers) {\n",
              "            buffers.push(buffer);\n",
              "            downloaded += buffer.byteLength;\n",
              "            progress.value = downloaded;\n",
              "          }\n",
              "        }\n",
              "      }\n",
              "      const blob = new Blob(buffers, {type: 'application/binary'});\n",
              "      const a = document.createElement('a');\n",
              "      a.href = window.URL.createObjectURL(blob);\n",
              "      a.download = filename;\n",
              "      div.appendChild(a);\n",
              "      a.click();\n",
              "      div.remove();\n",
              "    }\n",
              "  "
            ]
          },
          "metadata": {}
        },
        {
          "output_type": "display_data",
          "data": {
            "text/plain": [
              "<IPython.core.display.Javascript object>"
            ],
            "application/javascript": [
              "download(\"download_81539c09-e0df-4415-a02a-d68e49efeae6\", \"newer_model.zip\", 98684733)"
            ]
          },
          "metadata": {}
        }
      ]
    },
    {
      "cell_type": "code",
      "source": [
        "# Freeze? (not necessary - using ONNX now)\n",
        "from keras import backend as K\n",
        "def freeze_session(session, keep_var_names=None, output_names=None, clear_devices=True):\n",
        "    \"\"\"\n",
        "    Freezes the state of a session into a pruned computation graph.\n",
        "    Creates a new computation graph where variable nodes are replaced by\n",
        "    constants taking their current value in the session. The new graph will be\n",
        "    pruned so subgraphs that are not necessary to compute the requested\n",
        "    outputs are removed.\n",
        "    @param session The TensorFlow session to be frozen.\n",
        "    @param keep_var_names A list of variable names that should not be frozen,\n",
        "                          or None to freeze all the variables in the graph.\n",
        "    @param output_names Names of the relevant graph outputs.\n",
        "    @param clear_devices Remove the device directives from the graph for better portability.\n",
        "    @return The frozen graph definition.\n",
        "    \"\"\"\n",
        "    graph = session.graph\n",
        "    with graph.as_default():\n",
        "        freeze_var_names = list(set(v.op.name for v in tf.compat.v1.global_variables()).difference(keep_var_names or []))\n",
        "        output_names = output_names or []\n",
        "        output_names += [v.op.name for v in tf.compat.v1.global_variables()]\n",
        "        input_graph_def = graph.as_graph_def()\n",
        "        if clear_devices:\n",
        "            for node in input_graph_def.node:\n",
        "                node.device = \"\"\n",
        "        frozen_graph = tf.compat.v1.graph_util.convert_variables_to_constants(\n",
        "            session, input_graph_def, output_names, freeze_var_names)\n",
        "        return frozen_graph\n",
        "frozen_graph = freeze_session(K.get_session())\n",
        "tf.compat.v1.train.write_graph(frozen_graph, \"./new_data\", \"my_model.pb\", as_text=False)"
      ],
      "metadata": {
        "colab": {
          "base_uri": "https://localhost:8080/",
          "height": 35
        },
        "id": "WWCZP4CKu5HS",
        "outputId": "13cb4c78-60e2-4492-e2cf-27a6eb9d1b8a"
      },
      "execution_count": null,
      "outputs": [
        {
          "output_type": "execute_result",
          "data": {
            "text/plain": [
              "'./new_data/my_model.pb'"
            ],
            "application/vnd.google.colaboratory.intrinsic+json": {
              "type": "string"
            }
          },
          "metadata": {},
          "execution_count": 14
        }
      ]
    },
    {
      "cell_type": "markdown",
      "source": [
        "![model.png](data:image/png;base64,iVBORw0KGgoAAAANSUhEUgAAAMQAAAkaCAYAAAB9CrbnAAAAAXNSR0IArs4c6QAAIABJREFUeF7sXQd4VMX3PbRAQqiB0EPoFoooIl0RBUGlKE2kSC9KC0V6710UpIl0QUCKgMIPEJEmIk1FQOkQICQkgTQSQv7fnfj2/7LsZvdtdncm2Tvflw9N5s3cOeeeuXNnXsmUlJSUBC6MACMgEMjEgmBPYAT+HwEWBHsDI6BDgAXB7sAIsCDYBxgBywhwhGDPYAQ4QrAPMAIcIdzqA+Hh4UhISHBJn/7+/i5plxvlbVen+cCRI0fw559/4sKFC7h48SJu377ttLbNG8qSJQsqVKiA8uXLi59GjRohT548LuvPkxrmHCKNbMfHx2POnDnYtGlTipa8vb2RM2fONLZu+fLQ0NAUf/Dz88OgQYPQsGFDl/TnSY2yINLA9uHDhzF79mxcv35dtNKmTRuULVsWZcqUQYkSJdLQcuqXxsTE4NKlS+LnxIkT+PXXX8UFzZs3F8IgMXJxDAEWhGO4Yf/+/Rg6dKi4unLlyujdu7cQg4zy3Xff4csvvxRdV6xYEStWrJBhRobokwXhAI3R0dEiGty5cwcdO3ZEhw4dHGjFuZdcuXIFU6ZMwdWrV9GlSxf06dPHuR14SGssCAeInjBhArZv344XX3wR06dPd6AF11xy6tQpU9RatGgRqlWr5pqOMnCrLAiD5O7ZswcjRoxA5syZsWTJEpQsWdJgC66t/tVXX2H9+vVi92ndunWu7SwDts6CMEjq1KlTsXnzZpEzvPfeewavdk/19u3b4+7du2LnKzAw0D2dZpBeWBAGiaT1+dmzZzFjxgxUrVrV4NXuqT527FjQuQjlFLwVawxzFoQxvFC7dm08evQItLOTK1cug1e7p/rq1auxatUqdOrUCX379nVPpxmkFxaEASJp3592l4oUKSIcTtVC5yPjxo1DrVq1MH/+fFXNVNIuFoQBWv744w907twZzz77rNKO9vfff6Nfv36oVKkSvv76awMj5KosCAM+wIIwAFY6rcqCMEAcC8IAWOm0KgvCAHEsCANgpdOqLAgDxLEgDICVTquyIAwQx4IwAFY6rcqCMEAcC8IAWOm0KgvCAHEsCANgpdOqLAgDxLEgDICVTquyIAwQx4IwAFY6rcqCMEAcC8IAWOm0KgvCAHGOCuLgwYPo2bMnevToIW6poLdmUKEXr9ONeHRL+eLFi1GvXj0D1livyrduOA4jC8IAdo4K4vHjx5g2bRp27NgBeoDn+eefF73SzYK9evUSr5EZMGAAsmbNasAaFoRTwDJrhAVhAFVHBUFd0Js5KErQY52jRo0SUYJE8ttvv4Ee96Q7aJ1VOEI4jiQLwgB2aREEdUPPUIwfP970hgx66m7evHmoX7++AStsV2VB2MbIWg0WhAHs0iqIuLg40NNs//77r3jNZfXq1TFs2DCnLZW0obAgDJDKSybHwUqrIKjn06dPi9fE5MuXT+QTrnjmmQXhOMccIQxgl1ZBaMn13r17QW/fo/c50fuTtF0nA6akWpUF4TiSLAgD2KVVELt27cLw4cPF03b0VozJkyeLV9m88sorBqywXZUFYRsjziEcx8h0ZVoEoW2xvvrqqyJviIqKwsCBA5GYmChellygQAEnWJjcBAvCcSg5QhjAzlFB0PKIkml6XT4dwAUEBIhe6SXFdFjXrVs3py6dWBAGSOWk2nGwHBEEnUbTi81GjhwpTqT1LzfTcoqNGzc6denEgnCcY44QBrBzRBAGmndaVRaE41CyIAxgx4IwAFY6rcqCMEAcC8IAWOm0KgvCAHEsCANgpdOqLAgDxAUHB6Np06bImzcvKBFWtezbt0/cOEj3SM2cOVNVM5W0iwVhkJYGDRogMjJSfHuhYMGCBq92T3U67CPB0q3ltKXLxX4EWBD2YyVq0q0Wx48fx8SJE1GjRg2DV7unOn37jr4mRAd+znroyD2Wy++FBWGQA7pde82aNeI8gW7fVq3QB+O7d+8uotjOnTtRqFAh1UxU2h4WhEF6zpw5g65du4qr6F4kuoVbpUI2HThwAHSLCH0ymIsxBFgQxvAStZcuXSpuwShWrJg4Yfby8nKgFedf8sMPP4hlEn2nesOGDShatKjzO8ngLbIgHCSY7kE6efIk6tSpI/IK2Qk23VJOd9HGxsaKR1TpI+5cjCPAgjCOmbji/PnzIod4+PAhcubMKf6bXhbg7kJ3zdIz2bt37xZdkw20bOLiGAIsCMdwE1eFhISIdTrt+1OpUqUKypYti9KlS4sfOq9wRaEXFtBjqHRLOX0AMjQ0VDxkNGjQILRu3doVXXpMmywIJ1BNLw+YNWsW4uPjndCa8SZq1qyJoKAglCpVyvjFfEUKBFgQTnKIiIgInDt3DhcvXhQ/Fy5cEOt5W4VERJGGSvHixW1VF3+nZJk+zF6hQgXxL33zjotzEGBBOAdHh1s5duwYaIanQs9OcJGLAAtCLv5gQUgmwKx7FoRkPlgQkglgQahFAAtCLT44QkjmgwUhmQCOEGoRwIJQiw+OEJL5YEFIJoAjhFoEsCDU4oMjhGQ+WBCSCeAIoRYBLAi1+OAIIZkPFoRkAjhCqEUAC0ItPjhCSOaDBSGZAI4QahHAglCLD44QkvlgQUgmgCOEWgSwINTigyOEZD5YEJIJ4AihFgGaIOgtgEePHlXLOA+0hiOEZNJZEJIJ4AihFgEsCLX44AghmQ8WhGQCOEKoRQALQi0+OEJI5oMFIZkAjhBqEcCCUIsPjhCS+WBBSCaAI4RaBLAg1OKDI4RkPlgQkgngCKEWASwItfjgCCGZDxaEZAI4QqhFAAtCLT44QkjmgwUhmQCOEGoRwIJQiw+OEJL5YEFIJoAjhFoEsCDU4oMjhGQ+WBCSCeAIoRYBLAi1+OAIIZkPFoRkAjhCqEUAC0ItPjhCSOaDBSGZAI4QahHAglCLD44QkvlgQUgmgCOEWgSwINTigyOEZD5YEJIJ4AihFgEsCLX44AghmQ8WhGQCOEKoRQALQi0+OEJI5oMFIZkAjhBqEcCCUIsPjhCS+WBBSCaAI4RaBLAg1OKDI4RkPlgQkgngCKEWASwItfjgCCGZDxaEZAI4QqhFAAtCLT44QkjmgwUhmQCOEGoR4CxBJCUl4ciRI/j888+xYMEC+Pn5pXmgjx49wpYtW7By5UocPnwYDx8+RIMGDdC7d2+88847yJ49e4o+Jk6ciDFjxjzVb8+ePTF37lx4e3un2SZXN8ARwtUI22jfGYK4ffs2PvvsMyxcuBC1atXC2rVrnSKIsLAwjBs3DtWrV0eJEiWQkJCA7du3C4GMHj0aQUFByJIlixhhfHw8hg0bhps3b6J79+7Ili2baeR58+ZFpUqVTHUlQ55q9ywIyeykRRBRUVEYPny4cNBXX31VOFxcXJzTBGEJmsePH2Ps2LEiGpHwihYtKqrFxsZi4MCBKFasmBBLei0sCMnMpUUQNIMPHjxYLF/oZ8aMGWJp46wIYQ0aan/mzJnYsGEDKlSoIKrFxMSgf//+CAgIYEFI9ql03X1aBGE+cFrDpyaIf/75B9HR0XjhhRdSXEqzPl1Hy5r8+fOniiflKpQPHD16FMuWLUOePHlEfRLnhx9+iA4dOoh/02vhCCGZOXcJIjExEWvWrBG5BiXdNWvWFCMnMdCSi363ePFivPzyy1YRCQ8PF0n2okWLMGvWLNSrV89UVxPE7t27xe9IWFoCTsu5zJkzS0bavu5ZEPbh5LJa7hKEufOTAMj5NTHoRaIfrLmjt2nTBtOnT0fJkiVTYEI7UGfOnBECo3Ljxg2xdKNcgwT0wQcfIFOmTC7D0VkNsyCchaSD7bhTEOaiqF+/Pn766acUEcN8GLT1eurUKZGsU4TYtWsXdu7cialTp4qlUdasWa2OnJZnQ4cOxe+//45vvvkGpUqVchAl913GgnAf1hZ7crcgyAjaEaKdIkqMyVHbtm1rNwqUQ9A1I0aMwKpVq1Ismyw1cvbsWbRs2VIssZo2bWp3P7IqsiBkIf9fv+4WhD5nsCdCWILn3r17aNeuHV5//XWx7ZtauXDhAmiZNWTIkHSRbLMgPEgQejHYm0OkJogmTZqIs4fUyvHjx9G8eXORq7z55puS0bbdPQvCNkYureGuCOGMXSYCQr9k+vbbb8UptrWi5RAXL14Uy6siRYq4FEtnNM6CcAaKaWjDXYIgE1M7hyA7qlSpgly5cplGs3HjRpw8eRJ16tRBzpw5xRnGjh078N1334kDQYoOWlL922+/YfXq1WjUqJGoGxoaKs4pzp8/bzpJTwNMbruUBeE2qC135E5BGB3q33//jdmzZ2Pv3r24du2aOFto1qyZuFfplVdeSXG2QLkC3bKxb98+3L9/X5xgv/322+jbty8CAwONdi2tPgtCGvTJHTtTEJKHkiG6Z0FIppEFIZkAs+5ZEJL5YEFIJoAFoRYBLAi1+OAIIZkPFoRkAjhCqEUAC0ItPjhCSOaDBSGZAI4QahHAglCLD44QkvlgQUgmgCOEWgSwINTigyOEZD5YEJIJ4AihFgEsCLX44AghmQ8WhGQCOEKoRQALQi0+OEJI5oMFIZkAjhBqEcCCUIsPjhCS+WBBSCaAI4RaBLAg1OKDI4RkPlgQkgngCKEWASwItfjgCCGZDxaEZAI4QqhFAAtCLT44QkjmgwUhmQCOEGoRwIJQiw+OEJL5YEFIJoAjhFoEsCDU4oMjhGQ+WBCSCeAIoRYBLAi1+OAIIZkPFoRkAjhCqEUAC0ItPjhCSOaDBSGZAI4QahHAglCLD44QkvlgQUgmgCOEWgSwINTigyOEZD5YEJIJ4AihFgEsCLX44AghmQ8WhGQCOEKoRQALQi0+OEJI5oMFIZkAjhBqEcCCUIsPjhCS+dAEQWYkJSVJtoa7Z0FI9gEWhGQCeMmkFgEsCLX44AghmQ8WhGQCOEKoRQALQi0+OEJI5oMFIZkAjhBqEcCCUIsPjhBu5mPr1q1o3ry5qVdrgoiIiMCBAwdS1HWzqR7ZHQvCzbSPGzcOkZGRmDt3rujZkiBOnz6Nzp07Y8uWLQgMDHSzhZ7dHQvCzfzTzE9OXrVqVeHw58+fR82aNYUVdDBHEYTE0KxZM6xYscLN1nF3LAgJPkBRYvz48UIYEyZMQMeOHYUVY8eOFb+ncuXKFY4OErhhQUgAXYsStHTy9fVFVFRUCis6derE0UECL9QlC0IS8FqUsNQ9RwdJpLAg5AGvjxJ6Kzg6yOOEI4Rc7GEpSnB0kEsKL5kk4k9RokSJEqYcgqODRDL+65oFYYODsLAwJCYmuoypIUOGYP369aL9o0ePonjx4i7ry8/PD1myZHFZ+xmhYRaEGYt0Onzu3DlcvHgRFy5cwL179zICz2IMmTJlQvny5U0/r732GooUKZJhxueMgbAg/kPxwYMHmD17Nnbu3JkCV4oOrowQziDR3ja8vLxSVPXx8cHgwYPRtGlTe5vI8PVYEAD27t2LmTNngpZHdFp8584dxMbGIiYmBo8ePcowTpA5c2aQCLy9vZErVy7ky5dPjO2tt95CUFAQ8ufPn2HG6uhAPF4Q27dvF6fFVOig7ObNm4iLi3MUz3R1XYECBURST0IpWbIkNmzYgKxZs6arMTjbWI8WBEWCVq1aiWhAQrh7966z8VW+vezZs4tbROjEvHXr1hg6dKjyNrvSQI8WBJG/f/9+hIeH4/Lly67EWem2aRn17LPPChtp6Vi/fn2l7XWlcR4riM2bN2Pq1Kl4/Pix2FVKSEhwJc7Kt124cGEUK1ZM7Dpt27ZNLKM8sXisIIYPH47//e9/uHr1qkimuUBECYoWX331FapUqeKRkHisIOipNcobKDpQDsEFIrGmRJuWkpRPeGLxSEFER0fj1VdfFVusJ0+e9ETeLY7Z399f7Dq1aNECI0eO9EhcPFIQJIIePXqAhEFPrHFJRoB2mipUqIDnnnsOq1at8khYPFIQv/zyCwYOHCjOHf7991+PJN7SoGkLtmLFiggICMB3333nkbiwIFgQJsdnQXjoE3McISxP/iwIFgQvmXTaYEGwIFgQLIgU4ZJzCM4hOIfQSYIFkQZB0PYk3TbdpEkTFCxYUNwpSmcbdG/Url27QKfhdPiXXgovmXjJ5PCSiU5zhw0bJp4poPuh6M7Z+/fvi2cK6L4gEgfdAtGtW7f0ogewIFgQDgli4sSJGDRokHg+mV49SW/bo1tAtEKRg97Cd/v2bQwYMMAlgqBHQRcsWCAO0UiYq1evTnM/LAgWhGFB0G0NixYtQu7cuTFnzhxptzi8/vrr4jSZ7Pj4449ZEGmeDpIb4BzCYA5BT9i988474jmKN954w0k0GG+GBWEcM3uuYEEYEMTLL7+Mb7/9VtwR+umnn2LhwoX2YCzqNGrUSDzQX716dfE8M70Bg97pumPHDtCraPTJN9Wll5hVrlxZ3I6tJeq0RBozZgz++usvsVQyL7du3RIvTiaxOlJ4ycQRwtCSqUOHDmLdTo+avv322+JVNfYWcmJ63iA4OBh///23cPRKlSqJG+pIFNqbLxo3bowlS5aIh3XoKb5Lly6haNGiKF26NL755huRpNN9RpRD0O8oeac68fHxCAkJwYgRI/Dbb7/Za1aKeiwIFoQhQdDLCCgy0A2Bzz//vCGno4eR6O0e06dPN13Xr18/TJkyBfQGP21mX7x4Mbp37y62bWlpppUaNWqIyELtUOElkyH47a7MSyYDS6a0CMISI9oSjN6opyXGy5YtQ9euXXH48GFQtHj48KFFMlkQdvu4oYosCAOCoLMHWttfu3ZN5ALWnNUaAzTz06xPSx06q6AZn5Yp1I4miC5dumDWrFnImzeveFZj5cqVIlcx74sFYcjP7a7MgjAgCHplDW25UunVqxc2btxoF9CUAK9bt04kyU+ePBHOTbkE/dDfSBj6rdP27duLpRnlHHTWQc9t0IP/n3zyiUkYLAi7oDdciQVhQBDkuD///LN4AJ8Owj766CO7ACcxtG3bVrzMmA706EOLVKi948ePiwTa0lkCvXuV8gxaOlEkofyBdqA4h7ALdocqsSAMCIIQ1vIIes0l3aukRYzU0KcdprJly4qEmrZNtfLuu++CcgZ6tWRqh2uWkm+OEA75u82LWBAGBUGzOm17NmjQAPSCZDotpgfy9Wt82hGifOP69evi1o2zZ8+KXSnaTu3du7cpOmjt0HmEJgiKAPQ+WXoLuVbatWuHL774QjwDTv9NDzhpCXmhQoVEXjNjxgybZNuqwNuuvO1qaNtVcyha91OiW69ePXHARtFCeycsOSgd3NGLvpYuXYqePXsKZ6acgw7Y6J4neg/UM888I24KpB+qr99log+nkJioLiXX1F+ePHmwdu1a0N+0cvDgQdStW1fcVHjmzBlxG4f2NkJbzm/p7ywIFoRDgtCcifIBOqwrV66cOGijQrM7vfyMZn96MyBFDooqtHNESTk5OCXWdDhHSyhadtGrXzRBUOJMt5TT7+jQjV7FTwdu9FEVumFQH4kox6BXT9I3r0mAtCtFguGDOUemg+RreMlkcMnkONTqX8kRggWRpgihvosbs5AFwYJgQeg0w4JgQbAgWBApwqhH5hC0e0M309FLjvVPuhlbYGS82rRLRRsEL730EugmQ08sHikI2rmhswLaBj116pTY9eECcX8VnZrTWQftdHli8UhBENFEOj3PQFuVdODFBShVqpR4SQJt79IpuicWjxUEvRjg+++/FzfY0csAPL3QOQYdAFJiTfde0QNInlg8VhD0vEH//v0F5/SBdrp9wpMLvfGb3i314osviltMPLV4rCCIcHprBs2Gnv6dCHq3FD2jQYVuD6FvRHhq8WhBEOl0WzY9Ekr3F9H9SHRvkScVupWEbhPx8vISt5rT7psnF48XBN3307dvXyEE+hLpjRs3xKsoM3qhmxJJCLRMolKnTh3Mmzcvow/b5vg8XhCEEN1ZSjffHTlyRABGN9DRHaz0Q2cVtE2bEQolzHQTIj1/kTNnTuTIkUMMiyYE/V20GWGsjo6BBaFDjtbPc+fOdRTLdHcd3SVL5w3aR9vT3QBcYDALwgzU0NBQcWs2nVHQ7tM///wjbul2VdHep0TtFy9e3FXdiHbp4I1Ooilppm1V+p4cl5QIsCAkewQ9X12zZk1hBZ2cc5GLAAtCLv7ihQMsCMkk6LpnQUjmggUhmQCz7lkQkvlgQUgmgAWhFgEsCLX44AghmQ9NEHQ7Or3IjItcBFgQcvE3JdUsCMlE/Nc9C0IyDxwhJBPAOYRaBLAg1OKDI4RkPlgQkgngCKEWASwItfjgCCGZDxaEZAI4QqhFAAtCLT44QkjmgwUhmQCOEGoRwIJQiw+OEJL5YEFIJoAjhFoEsCDU4oMjhGQ+WBCSCeAIoRYBLAi1+OAIIZkPFoRkAjhCqEUAC0ItPjhCSOaDBSGZAI4QahHAglCLD44QkvlgQUgmgCOEWgSwINTigyOEZD5YEJIJ4AihFgEsCLX44AghmQ8WhGQCOELIJWDr1q1o3ry5yQhrgoiIiMCBAwdS1JVruWf0zhHCzTyPGzcOkZGRptfuWxLE6dOn0blzZ2zZsgWBgYFuttCzu2NBuJl/mvnJyenbDOTw9Flgetmx9l4miiAkhmbNmmHFihVuto67Y0FI8AGKEvRZYBLGhAkTxHfdSBCNGjUSv6dy5coVjg4SuGFBSABdixK0dPL19RWfBKYPpt+/f19YQ5+34ugggRgALAg5uEOLEpa65+ggiRQWhDzg9VFCbwVHB3mcUM8cISTibylKcHSQSAgLQi74FCXoW9GUQ3DuIJcLrXenRQj6tjN905mLMQSGDBmC9evXi4vo+xCu/hKpMevSR21/f3+nGeqwIE6ePAk6QKJP19LPzZs3nWYUN8QIGEGAPkhPnxnWPjdMZzhZsmQx0oSprkOC+OKLL57eFsyUCcjskA18ESOQNgQSU37OmM536IP0tWrVMtyuIUGcOXMGs2fPxrlz55I7ypMdyJ4V8MqS/MOFEZCBwJMk4NFjIP4JEB0PxD0WVnTo0AH9+/c3ZJHdgiAxdO3aNblxcn4/H8A7q6HOuDIj4BYEwuOA8OR8tl69epgzZ47d3dotCLq9QEQGigokBi6MgMoIUJS4Gw0kPsHgwYPRtm1bu6y1SxCmnIEiQ/HcdjXMlRgB6QhExQMh0cicObPYyStdurRNk2wKgnaTevTokdxQkVy8TLIJKVdQCoF7McDDR+LmSZrYbRWbgli+fDkWLlzISyVbSPLf1USAEu6rEcK2gwcPwscn9eW+TUF8+umn2LdvH+CfE/D1UnPQbBUjkBoCtx6KXahly5bhhRdeSBUrm4Kgxx3FoRvlDry1yo6XHhG4Fw08jMfQoUPRunVrxwVBt2PUr18foEO3UnnTIxRsMyOApMg4ZAqLFU8hjh492nFBhISEoEmTJkCWTEBJFgT7VjpFIDoBuBuFBg0aYPr06SyIdEojm+0sBFgQzkKS28kQCLAgMgSNPAhnIcCCcBaS3E6GQIAF8f80ju4VhGavN8a2/T9g4iL7b/LKEI7Ag0hGQDVB+Hj7oHPztnj9lTooUrAwvLJlE3bGJyQgKiYKJ/48jW92bcEf//ztdApZEE6HNP01qJIgXn25Fvq374EShYsiKSkJEQ8jERYRjuxeXiiQzw/e2XPgcWIiVm5bj0UbVjodbBaE0yFNfw2qIoim9d/CJ+26Im+u3Pj93Fks27wGv/91JgWg9avXRod3W+HomRNYummNQ2B3bNYGrRs1xeWb19BvyogUbbAgHII0Y12kgiBKFy+JaQNHIbBYAHYf/glTl81HTGyMS4DWnP74H6fQZ+JQFoRLUE7HjaogiKFd+6Llm++IWXvo7Am4ftt1LyFgQaRjZ3WH6SoIYs30hSgbUAprd2zG52uXGR52+3dboulrjVC8cDGRhFP+ERpxH+t3bcHKbRtEe73adEKnZm2RLevTj7Jqu0r6JdPlm9fRpnFzFPYriEyZMuFhdBR2/Pw/zFn5ZQr7aBOgV+uOaFS7PvLnySf+FhMXi1N//4H5a5YKkWvl2znLRHszv16A+q/URc0q1fAo/hGmLZuPHw/tNzxuvsAFCMgWxCuVX8L4j4eKJ5UmLZqNg78fMzTKJvXewLCufZEtmxdu3b2Nm3eDUaxQEQQULobHiY9FrrFi63q0bPiu2FLNnycvCvkVRPiDSISGh4m+fjp+CEs2roYmCNrBKl+yNO6Fh+HmndsoXrgIivkXQcLjBKzYugFLNq4S15EYpvQfgVovvCxEcPnGVcTFP8Izpcoht28uXLx2GcPmTDRFPE0QlCPVrlpdjJmWhtO++hy7Du41NG6u7CIEZAtCc+io2BiM/WI6fvvztKGRvlXndTRv0Bgrt24QybZWpg4chTdq1BPt6XMFe5ZMT548wQ+/7MPYBTNMjj97yHi8XPEFnL3wF7qMHpAi6py7dAGTF881RQPKiSb3H4FSxQNSRD0SRPFCRRAdmxxBZq1YiJCwe4bGy5VdjIDqgiAnIgfTF0sJsTlMtJvUs1UH3Aq5g9ZB3Ux/tkcQNNN/NKp/isReay/kfhj6Tx0pZn1a6hX1L4IZX33+1JJnQIee+KBJCyHITyYPE/1rYzlz4S/0nTLCZRsHLnaZjN28bEG8UbMeRnQfIA7eaEb+9ezvKQCfOXicmFWp0DKEljvmgvD3K4j33miCas+/IJZEfnnzizMLWpLQGt6oII6d+d3kxJox5pGMfj/+k0/hn79Aqg6it5UEUaJwMaze/i0Wrv86YztWeh2dbEE8V6YCpgWNhl+evFi8cTVW/ZcEW8LT0uz+/pvv4OMPugixaKfZoeH3xaHeC89UxM27tw0LwtKtG+aCKJi/gMhd6DWIlLskPnli0QUoH5myZJ4pQhQpWEhsHHz747b06jIZ227ZgiB05w2bhDovvvLUzG+OvLkgAooUx9xPJ4hly/c//Yh5a5aaliF00De4cx/cCQ1xiSC5NPqrAAAgAElEQVQyZ84iNgNoV2vK0nnYe/SgTUfRkmpOom1CJa+CCoIg5x3QsSdyeHlhzY7NWPjNcouAmAsitYRcW8Nfu33TJYK4GxaKz4ZPRpGC/nZvF7Mg5Pm53T2rIAixHv94KBrXbSCWHj/9+ouY7fU7MLTFObLHALHfr63LaYdpWLd+eJKUlCKxrVW1Okb1GADKLcxzCHEI2PBdXLz6L9p/2icFTqndumFJfOM+HoIm9d5E6P1QTF/+BX7+7YipPbovq1XDpuK+K23njAVht1vKq6iKIAiBET0G4J1X34RXNi+RD0Q8iEBk1EP45PBGgXz5kd0ruzh0O3r6N/SbOlKcAywaMxPPlSkvlkrnr/yLHNmzo2TRErhx5xZoSWW+ZGrVqCn6ftgN2bN5CbFQe6cv/CUEZVQQ2vZquZKlEZ8Qj2vBN3E37B6KFyoqzkLCI8Mxcv5UscWq7TLRwRwvmeT5u82eVRIEGUuntx2atgIl2zm9fcQpMZ0LRMfG4MrNa/j+wB5s2bfLNK5K5Z5Fv/bd8XzZCkJIcY8e4cRfp/HL78fQv3133Am7l2LJRBcGdeqNd15riNw5fYUjb9y9HXNXLTYsCGqLohDdlEg5UC6fnMJesuHyzatY/8PWFAduHCFsuqP8CqoJQj4ibIFHI8CC8Gj6efDmCLAg2CcYAR0CLAh2B0aABcE+wAhYRoAjBHsGI8ARgn2AEeAIwT7ACNhEgJdMNiHiCp6EAAvCk9jmsdpEgAVhEyKu4EkIsCA8iW0eq00EXCKI4nls9ssVGAElEYhJAO5FO/ELQkqOko1iBIwh4LRPatGD/QUKpP7gvTHTuDYj4D4EHj16hMjISOdFCH9/f+za9f/PK7hvKNwTI5B2BOg76/S9dadFCBZE2knhFuQhwIKQhz33rCACLAgFSWGT5CHAgpCHPfesIAIsCAVJYZPkIcCCkIc996wgAiwIBUlhk+QhwIKQhz33rCACLAgFSWGT5CHAgpCHPfesIAIsCAVJYZPkIcCCcCL2YWFh+PDDD1G7dm2MHj3aiS17dlNr167FzJkzsWHDBlSoUMGlYCgriNjYWAwcOBCLFy9Go0aNQKD4+fm5FIy0Nu5O4tJqa3q63p0TDQvCSZ6RGmkklPbt2z/V05o1a0RE0YrWxu7du8Wvevbsiblz58Lb2zvFtRcuXECbNm1w5swZ8fsJEyZYjEjm/R46dEhEL/MyceJEjBkzRvy6SpUqTp2J9W1T++Zj1tty+PBh1KlTx2Id+tvHH3/sVNssUZ+hBaE5zpAhQ1I4npM0kKKZ1KID/e2XX36x6NzmYujQoYOwVYuQ9He9KLQxLViwQDi3NSFSn6tXrzZFVs3ZzEVBDnvr1i1TH86Kctbst4a9fkVgSTTa34sVK+bS5WiGFYTmALZmJWeIw1ZIt0cQluqYOz/ZSg5MRZ+jmM+emj1URx8RzJ2f2u/Xrx/mz59vWps7y/HM+7KFsz18uSNKsCBsMWXH320RZcmJ9c1qTli3bt0UkczcOa05uvZ7LbqQPdSned5lbqc1oZpHFzsgSFHFmp22okPjxo3x5ZdfQhuHeX2jUceo3VRfGUHoZwgyjJLpkydPPpVUW1qP69e9+tBrDogWis3XtVTP0cTdnhnVliAsRQLNdv1MS3hYWkeb22Btdtb38+KLL4pNC0tLEEsCpzbp9+Yis/R7a4K05qCaMEeNGoVu3bpZFQRdb23p54jzK5tDWEs6NYP1zmrJmameJoqAgADT7pQlQbz33ntW/+6IKGxFB0sCNU9cLS1dNNv1szgJwtLMb76UsiZA/cytCcI8KlFb1uwxd35rItFs7tWrFz766KNUk399X/QsPuVP1iIE2ebqKCE9Quh3VvSOoo8YqTmqfsdFn4zZsybVnE5f19pOjKXZxJ7oYOk6TdRaX7YEoSXH58+fT1UQWnI8a9asp/IM+oV+aaVNDNYEQbtYWuKuH4MmgsDAQFy9etXidrg2Pv0umcbT+++/b8p/zJeK5ks/a7N+ahE1rZFCuiCsOa6tcwhLkUK//WhLENaWVqltC1oC21aEsEaQfllz/fr1p5JbFSOEfhlnafmk//vmzZuf2iI138EyX9rZKwijCbsRkaQrQfj4+Fhd7tCg7RGE+V6/tTzDXhAdjRL6xDU0NFScK1ibkbWZX2YOYS4GWxFCv5WrXauf2el35vmQPYJwZXQgm9KVIGjJQAc3eufXO7g9gtDnK1o0sLbsslcUjkQJvSCoH0trZ3OxWXMGc0eytktkbqe1mdba9UZyCP0ZiF4QtM07Y8YMsZtEGyfWirUDQldGByUEoXdGfa6gd1zt9z/++KM48bWWa1gThP732lLLWl9Gl0yOJHqWooolos0FYC0amTu6NeGY92FJyNb6MLLLZK1/W9u5tiKEq6ODEoIgI6ztHGmzh+a8+ghhaWbRO7757Q1Un5ydiqXbKLT2HBEEXWttO5BI/u6779C9e3eTyTRe8zW2+al6as5PUVJLyK05kbkDp+b8ZJh2Gm7Lae2Nmubt2HPXgC1BuDo6KCMIMsR863XPnj3Cacxv7jOPHHTKSmGY7v8xv6fH/GzD0jkE7YTotwcdFYS17UBLOUta71GyNi5zZ9VPNNaWIOabC45sPVsTib33UmnXpyYId0QHpQRh78yjcj1XHxqpPHZX2+aO6MCCcDKL2mxrbX/eyd15THPunGictsuUkJCAmjVrCpKOHDkCLy8vjyGMB5pxEFi1apW42bFt27YYPHhwqgPLlJSUlJRajXbt2uHixYv4+uuvUalSpYyDEo/EYxAYOXKkyEfp+ZCmTZumTRBjx47Fzp07MXz4cNARPRdGIL0h0KpVK1y5ckXsSD7zzDNpEwTtKtD23VtvvYVJkyalNyzYXg9HgFY3tMrJlCkTfv31V9DHf1IrNpdMN27cEGsv+gqLPSHHw/Hn4SuGAG2/nzhxAnTj44gRI2xaZ1MQ1AIdQk2ZMgW+vr5Yv349ChcubLNhrsAIyEbgq6++EreT0PMh9HaPHDly2DTJLkFQK8OGDcPevXtRvXp1BAUFoWzZsjYb5wqMgCwESAD0mhsqc+bMQb169ewyxW5BhISEiCefgoODRcMkClqbcWEEVEKA/JMEcODAAWGWPVutevvtFgRdFBMTIzrbunWraKNy5criQfby5cuLf/lLpSq5hufY8s8//4gnAimBpvMy8tM8efJg0KBBaNKkiSEgDAlCa5nuSZo9e7Z4WosLI6AaAg0bNhQrGEcmaIcEQQDExcXh7NmzQpWkTlLpgwcPVMNGeXvi4+NBy1EqxYsXV95eFQ2kZ+61VQr9W65cOYfNdFgQDvfIF6ZA4NixY6bbY2zcNMDIuQEBFoQbQE6tCxaEZALMumdBSOaDBSGZABaEWgSwINTigyOEZD5YEJIJ4AihFgGaIGrUqIGjR4+qZZwHWsMRQjLpLAjJBHCEUIsAFoRafHCEkMwHC0IyARwh1CKABaEWHxwhJPPBgpBMAEcItQhgQajFB0cIyXywICQTwBFCLQJYEGrxwRFCMh8sCMkEcIRQiwAWhFp8cISQzAcLQjIBHCHUIoAFoRYfHCEk88GCkEwARwi1CGBBqMUHRwjJfLAgJBPAEUItAlgQavHBEUIyHywIyQRwhFCLABaEWnxwhJDMBwtCMgEcIdQigAWhFh8cISTzwYKQTABHCLUIYEGoxQdHCDfzQZ8SaN68ualXa4KIiIgQ3zjQ13WzqR7ZHQvCzbSPGzcOkZGR4kOWVCwJ4vTp0+jcuTO2bNmCwMBAN1vo2d2xINzMP8385ORVq1YVDn/+/Hnx9m/tRWUUQUgMzZo1w4oVK9xsHXfHgpDgAxQlxo8fL4QxYcIEdOzYUQiiUaNG4vdU6LvKHB3cTw4Lwv2YQ4sStHSiL7tGRUUhf/78uH//vrCmU6dOHB0k8EJdsiAkAa9FCUvdc3SQRAoLQh7w+iiht4KjgzxOOELIxR6WogRHB7mk8JJJIv4UJUqUKCFyCM4dJBKh61q6IMLDw5GQkKAGGhKsGDJkCNavXy96pu9DePKXSP39/SUwkLJLtwuCPqz9559/ik/50s+dO3ekg8AGqIFAlixZUKFCBfGJXfqh703nzZvXrca5TRD0PWb62PvmzZtTDjBzJiCTW8fMnamKQGJSCsv8/PwwaNAgIQx3FbcI4vDhw5g1axZu3LiRPK68OYDsWQGvzEC2LO4aK/ejOgJPkoD4xOSfmITkH0DczxUUFAQfHx+Xj8Dlgti/fz+GDh2aPBDvbICfN+DFInA5sxmhg8hHQFiMGEnFihXdcljpUkFER0ejdevWuHv3LpAvB5DPOyPQxGNwJwIULUKiRdTo0qUL+vTp49LeXSoIuk9n+/btgHdWoEgulw6EG8/ACMQ+Bm4/FANctGgRqlWr5rLBukwQe/bswYgRI4BMmYBiuXiZ5DIKPaTh+7FARJzYfVq3bp3LBu0yQUydOjV5R8nPB8iT3WUD4IY9CIHrkcDjJ9i0aZPL7gR2mSBovXf27FmgiG9yMs2FEUgrAneixM7TlClTXLYV6zJB1KpVC3T2gMC8AJ01cGEE0opAeBwQHituj+/bt29aW7N4vUsEcenSJbRp0wbImhkIyOMSw7lRD0QgOgG4GwWabOfPn+8SAFwiiD/++EM8BokcWYGivLvkEuY8sdG4x0DwQ1SqVAlff/21SxBgQbgEVm7UJQiwIFwCKzeaXhFgQaRX5thulyDAgnAJrNxoekWABZFemWO7XYKAJwpidK8gNHu9Mbbt/wETF82xiuu3c5ahROFiWLltPRZtWOkS/LlRxRBgQbAgFHNJueawIFgQcj1Qsd5ZECwIxVxSrjksCBaEXA9UrHcWhDFB9GrTCZ2atcWpv//AjgO70bFZG5QqFoDMmTPjYUw09h79GfNWL0FMbPJjiVQogf+gSQsEFCkOr2zZ8OTJE4RG3Mfy79Zh057vTfX8/Qrik3ZdUefFV5DLJ6f4PdVb8/0mNHv9LRT2K4hpX32OXQf3ir+llvTr7ewz8b/HawH4ePugV+uOaFS7PvLnySfaiYmLFeOZv2YpLt+8lsJDa1aphh6tO6JCYBl4ZfNCYmIi7obdw4Yft2Htjk2ibpN6b2BY176ibUslKSkJB347giGzxok/G7XBrZJhQTgmiKu3rqNQAX9xt+2/16+gUIGCCChcDJkyZcKm/+3AjK8+Fzy+/+Y7wsl9cnjj+p1buBt6D0X9C6FAPj+s27nZtHtVunhJTO4/AuVKlkZUTDQu37iKuPhHKB9YBpkzZ8HjxwnI4ZU9TYIgR5zSfwRqvfCyEIHWxzOlyiG3by5cvHYZw+ZMxPXbN4XtTeu/JWzPmys3boXcwbXgGyhWqIgYZ+KTRKzYugFLNq4SAu76/ofCPn3Jkys3/PMXEP0MmztJiM2oDW4VA3XGgnBMEPR+n59/O4KxC2aYosHEvsPQqM7ruHH7JgZOHyMc64uR01C98ovYsncnpi79zMRvlQrPI2vWrPj9rzPidySGhrVew6UbVzF58Vz88c/f4vcUNcZ/PBTVnq+C2LjYNAlCixrnLl0QfWjRQBNjqeIBWLtjMz5fu0xEsxmDxqBowUJYvuUbrNia/KIzKn0+6IL277yP2/fumsZp7ri1qlbHqB4D4J3DG1+s+wqb/7dDVDFig9vFwIIwfg6hERoaHoYR8yabHJewfKNmPYzoPgCPExMxadFsHPz9GBaOnoGXK76AvccOYvjcSRY5fq5MBUwLGi1mYnLGjbu3p6hX76UaGNVrEHJ4eaVJEGumL0RR/yIiev14aH+KPgZ06CmWdb/9eRqfTB4mloI9W3UQ/z9g2qgUdUksnw2fjHy582DasvlPtUVRYNGYmXimVFns+HkPJnw523S9ERtYEAYQSMvt32k5mNMEcenGFbT/NOXbGcjxx3/yKXy9fUyO26NVR3zUvA2yZM6CC1f/xZa9u7Bl364UI9XW4BFRD8WShWZwfSEHWzXlC/jn93NYEJpttIRJrRz/4xQo59AwSq0u5Un6nEarSxGtcd0G+P3cWQyaOdYUQY3aYMAdnFfVk5dMGvnW0KSktXABf8z6eiG2//RjipBPSag+WaU/WhIE/f7Dd1qibePmoi0q4Q8isfPg//DZ6iXi/7u3bI/OLdrh5t1gtA7qZtEcYUsakmpNdLTUu3X3NhKfPLHYDy3VpiyZJyJb9UpVRQL9ICr5bRTmhXKcrzavxaGTv5r+pOVMtLybtGQejpw6bvqbURuc5+UGWvJEQfRp2xkdmraGpVleg+6Vyi+JtTvtCk1ZOg97jx50WBBam/Wr18YHb7+PKuWfE8m3tpxo/VYz9P2wm0i4O474JMUOFV1rWlL55rI7QmhLIJqlSbjWxmPNVcZ9PATvvNoQB08cRdCMMXZ5VKVyz4pcqEC+/KaEW3+hURvs6tTZlTxREG/VeR1Du/YVr3ulrUbzJQxhPLBjT7Rp3BzXg2/io1H9TU5qbTsztQhhzpmp7du3RETQcgRKsi2t71s1aioEg6SkFILQ8hOyn2Z1fZk3bJLY/dGioLbuL1LQ35Q4p+ZLmqAoamkbBKnVp2XdrMFjUa1iVeyzki8ZtcHZvm5Xe54oCCLv8xFTQDs9V2/dwOwVC3H0zAkTXi0bvgta++f29cWGH7Zi7qrFpr8ZFQQl2pdvXEuxv9+5xQdimXT99i20HdxDtL10/BxUfbYSzlz466kdoEn9R6BsQCnEme0yjek9CO++1gg37gRj8Myxpj60ZUuunL4mQVAfNOs3qfcmQu+HYvryL8QumVZefbkWWjVsKm5kpERaW/4VyJsfuw//hKnL5psmBcJv8Ee9ER0bK7Cj8jHtPL3bCrQdPfKzKU+dZ2j9GLHBLgd2diVPFARhqG0L0rYmHTaFRdxHZNRD+OXNh7y58oglza9nT2LonAkpljBGBUGz+AvPPI/gkLtiG5aWE4FFS4gt1zU7NmPhN8sFpbS+HtChhzgsozX7xWuXxNkFzarRsTF4/Phx8q6O7mBOPwbtmpzeOVG6eACu3LqOMiVKiQM3LdfRn3XEJ8TjWvBNkSMUL1RUnC+ER4Zj5Pyp4hoq2vZqtqzZEBYRjss3r4rDucBiJZDbNze2/heZGtauLw7mfHP6IjjkNmLj4p5y05+OH8KSjath1AZn+7vN9jxVEAQMrXm7tWwvIkVObx8hAu0klmbFr7euf2o9b1QQNHPSLJ4/T15xmq21T/vyK7dtSMEPnQr3bttZRAPKXchpL1y9JPbxP+3a96mkWgipbgNxKEZOTQkzHbjRzB8cckdsnZon/+an4TTmuEePhLOv/2Gr6RRcM0w7ZafTeGqfTtnvR0aIRHrJptUICbuHVVO/EHlOakV/q71RG2w6sTMreLIgnImjq9uytMvk6j49sn0WRPqgnQXhJp5YEG4COo3dsCDSCKC9l7Mg7EVKbj0WhJvwZ0G4Ceg0dsOCSCOA9l7OgrAXKa7nEQiwIDyCZh6kvQiwIOxFiut5BAIsCI+gmQdpLwIsCHuR4noegQALwiNo5kHaiwALwl6kuJ5HIJDuBZE9K1DY1yO44kG6AYFHj4E7Uen4C0JuwIi78DwE0u0ntbJly4Z8+ZJfuMWFEUgrAgkJCQgPD0+/EcKVSk4ruHx9+kNAe5uLK/3KpR9ddKXh6Y9OtjitCLAg0oogX5+hEGBBZCg6eTBpRYAFkVYE+foMhQALIkPRyYNJKwIsiLQiyNdnKARYEBmKTh5MWhFgQaQVQb4+QyHAgshQdPJg0ooACyKtCPL1GQoBFkSGopMHk1YEWBBpRVDi9RMnTsThw4exdu1a+Pn52W1JbGwsBg4cKOrPnTsX3t7edl+b0SuyINIpwxcuXECbNm0wZMgQfPjhh4ZHQUKqU6cODh06hNq1axu+PqNewIJIp8zaEx0oEowdOxZdu3ZFhQpPv52b2rh16xZHCZ0PsCDSoSDsiQ5aHRrehg0bLApCq7NgwQKOEv/5AQsiHQoitegQFhYmllC7d+8WI6tSpYpVQdDfOUqkdAAWRDoThObwHTp0sJg70Kzfr18/zJ8/X4xM+29LSyb6uz3RJp1BlCZzPVIQNCuOGZPyy5qNGjUy7dZoTnLmzJkUM6y2O7N48eIUvzeflYkR82RV36bGWM+ePQ2v32lHafXq1XbtLOnFYU0QWpRwZLcqTZ6n6MUeJwi9U5tzoheFtgtDdSZMmIDRo0cLJ2zfvr24THN4fT3z9tasWSNmcWt1jArCVnQw799eQXCU+H/kPE4QliYmvcPqZ3YtktA6nBJP+n9am2sC0UcG7XfUviYcTWALFy4UEUm/nidh0kxPSx97zwGMRAdtOWRryaThYbRtRSf4NJvlsYKwFim0WZ2QtbQUshZFLDGhCeDEiROmyKKPOEbZc1WEMNquUbvTU32PE4QlJ9cTphcE/d58uaP/e2rLJa1NijgvvviiOBmm3ENf9FHFXqcxMpPbu2Qy0qa9dqbXeh4nCH0eoDm3PuG1FSH0yx69IMyFZM0hzBN6oyfFRmZzewRhpL306uRG7PY4QWgOqV/6WBIJgajPIcaPHy9OfWnnSUuGY2JiTHv+5vv95Iznz59Hs2bNxE5SkyZNTIdjjghJTyrZO3PmzFTPF+zNITg6pJSLxwlC7/yWZg5LO0Pa7/Szuzazp9aepev0fdo6NLM2s2mzOt2DRLtf1oqtCMHR4WnkPE4Q+pmf/ptm+169euGjjz4Ssz85cWBgoLjxjYo95xOWzhj011k69zC65WpOnT1RwpYgODqwIIwsJ5Wua2+UsBVlrJ14Kz14FxrnkRHChXi6tWltuWY0MdeiJJ9OZ6AIERwcjKZNmyJ//vzYs2ePWx2RO8u4CPzwww8iL6tfv77YuHBFccnLjsnQBg0aIDIyEjt37kShQoVcYTu36WEIfPbZZ+IOAsoru3Xr5pLRu0wQffr0wfHjx8W2Zt26dV1iPDfqWQhoPjVnzhzUq1fPJYN3mSDmzZsndoXatWuHoKAglxjPjXoOArRRQY/lRkREuHTV4TJB0DYpPR5JhUIdPxvsOc7ripGOGDFC5KOvvvoqZs+e7YouRJsuEwQ1vnTpUnGPUEBAANavXw8vLy+XDYQbzrgIbN26FZMmTRJ3HtMjt0WLFnXZYF0qCLK6R48eOHnyJF5//XUMGjSIE2yXUZkxG961axemTZsGuhVn1KhRaN68uUsH6nJB0D1DvXv3xsOHD+Hr6ytE8e6777p0UNx4+keA/IWS5++//14Mhu4umDx5sssH5nJB0AhCQkLEum/fvn1iQC+99JK4ma58+fIoV64cf6nU5TSnjw6uXLkiniO/ePGiWFWQ32TJkkVMoq1bt3bLINwiCG0k3333HWbNmoX4+Hi3DI47Sd8I1KxZU+xQlipVym0DcasgaFS0bXbu3DkxC9APzQj0hJynFpocaCakUrx4cU+FQYybkmVaNWirh2effdbteLhdEG4foeIdHjt2DDQTUklKSlLc2oxvHgtCMscsCMkEmHXPgpDMBwtCMgEsCLUIYEGoxQdHCMl8sCAkE8ARQi0CNEHUqFEDR48eVcs4D7SGI4Rk0lkQkgngCKEWASwItfjgCCGZDxaEZAI4QqhFAAtCLT44QkjmgwUhmQCOEGoRwIJQiw+OEJL5YEFIJoAjhFoEsCDU4oMjhGQ+WBCSCeAIoRYBLAi1+OAIIZkPFoRkAjhCqEUAC0ItPjhCSOaDBSGZAI4QahHAglCLD44QkvlgQUgmgCOEWgSwINTigyOEZD5YEJIJ4AihFgEsCLX44AghmQ8WhGQCOEKoRQALQi0+OEJI5oMFIZkAjhBqEcCCUIsPjhBu5oO+hqP/6Ic1QdBLoQ8cOODyD4S4efjKd8eCcDNF48aNE58rpq+zUrEkiNOnT6Nz587YsmULAgMD3WyhZ3fHgnAz/zTzk5NXrVpVODx9YYne/q29qIwiCImhWbNmWLFihZut4+5YEBJ8gKLE+PHjhTAmTJiAjh07CkHQZ6Po91ToazocHdxPDgvC/ZiLj8aQs9PSib67FxUVhfz58+P+/fvCmk6dOnF0kMALdcmCkAS8FiUsdc/RQRIpLAh5wOujhN4Kjg7yOOEIIRd7WIoSHB3kksJLJon4U5QoUaKEyCE4d5BIhK7rdCUI+mInOVFGKkOGDMH69evFkOj7EBnpS6T0EclChQqlK7qUFsTVq1dx+PBh08e8//3333QFLhsL5M6d2/SZXfrcbpMmTZSGRVlBfPvtt5g9ezYSExNTApglk9KAsnFmCCSm/NRw9erVMWjQIJQpU0ZJqJQTRHBwMObMmSPu4xEllxeQPSuQPQvglQXIxIJQ0pOsGUWCePQYiE8EHsYDCckTXFBQENq1a6fcUJQSxIMHD9C6dWuEhoYCmTMBft5AruzKgcYGOYjAkyQgLCZZGIA4oe/Xr5+DjbnmMqUEMWbMGOzatQvwyQYU9AGyZHbNqLlVuQhEJwB3k3fWFixYgFdeeUWuPbrelRHEzp07MXbs2OQlUfHcQDYWgzJe4gpD7scCEXEoVaoUNmzYgMyZ1eBbCUHQUomeEaB/UcAHyM3LJFf4oHJtBj8E4h6jbdu2GDx4sBLmKSGIQ4cOYcCAAYB3NqCIrxLAsBFuQICS7VsPxY2OmzZtckOHtrtQQhDLly/HwoULgTzZAT8f21ZzjYyDwOVwMZaDBw/Cx0c+90oI4tNPP8W+ffsA/5yAr1fGIZtHYhuBWw/FtuzSpUvFQ1OyixKCeO+993D9+vXkZJrOGrh4DgL3aBv2EYYOHSq23GUXJQTxxhtvJN+jVDIvwCfRsn3Cvf3/t9vUu3dvdO3a1b19W+iNBSGdAg83gAXxtANwhPBgUbAgWBAe7P5PD50FwYJgQegQYEGwIFgQLIhUfcCRHGLh6BmoXsn2vnVMbAymffU5dh3cy36oIgIcIZwTIUb0GKJ61k0AACAASURBVIBK5Z41NeadIweK+hdBbFwsgkPumH4fF/8IX21ei0Mnf1XRHdgmFoRzBGHeSq82ndCpWVvcuHMLrYO6saOlFwRYECyI9OKrbrGTBcGCcIujpZdOWBDuF8ToXkFo9npjbNv/A+6G3UPbJu8hl09ObNm3C1OWzEPNKtXQoWkrPF/2Gfjk8EamTJkQExeLQ78fw7w1SxESds9k9LdzlqGwX0HM/HoBqj3/AupWqynaevLkCS7dvIbF367Ez78dMdX38fZBr9Yd0bBWfeTPk1c8CBOfkICLVy9hxvIvcO7SBbxc8QWM/+RTcc2kxXPxTr03UOelGsIWavdO2D1s+GEr1u54+hZpsr1H644oF1AaObJnB736hWw/ff5PLNu0Bn/883cKwAmHD5q0QECR4vDKlk20HxpxH8u/W4dNe7431dXarRBYBl7ZvMTLHgi7DT9us2iHw/pjQcgTBCXWlSs8j9w5k5+5IIFMXDQH5OSligXgXngYrt66jhxe2VE2oBS8c3jjl5O/Imj66JSCKOCP67dvonTxkrh04xqiY6NRvmQZ5PbNJRL6kZ9NMTni+I+HonHdBoh7FId/r1/Bk6QkFPUvDCQlYeyCGfjtz9MmQZAQb4fcwTOly+Fa8E2ERYSjdImSKJjPD/EJ8VixdT2WblpjsqVHqw5o/05LYSfZfuHKv8jjmwulSwTC1yenEPKkJfNw5NRxcc37b76DT9p1FUK7fucW7obeQ1H/QiiQzw/rdm7Gog0rRb2m9d8S9fLmyo1bIXdwLfgGihUqgoDCxZD4JBErtm7Ako2rHNZAigtZEPIEQU7zMDoKc1cuwtEzJ0yGLBw9Hb+ePYmV2zaYfte2cQt83K6LqD/2i+nCcamQeEgI9yPDMW/VYuz6ZZ/4fa2q1UGRKF/uPFi7YzM+X7sMVZ+thMn9hiNHDm/M+Opz/Hhov6n9ei/VwNXgm0JYWoQgxwy9H4rpy78wRRmKMMO79UOj2vXFhsHA6WPENdTfuD6DheNv3f+jaF8rZN/w7v3xwjMVRaToPjZI/OmLkdNQvfKL2LJ3J6Yu/cxUv0qF55E1a1b8/tcZETlmDBqDogULYfmWb4QItdLngy5o/877uH3vrsmONKuCBSFPEPcjIzB16Tz8dPywTR6fK1MB04JGI69vrhTnGCSIwGIBTzkVNThn6ATUq1YTe44cwIh5k02OniunLxasW471P2yx2K8mCFpSaWLSV6Tt5SkDRiJv7jxCaN/+uE04fIs33sYfF8+h75QRoPMWfXmrzusY2rWviERTls7D3qMHQWc31NfeYwcxfO4ki7Z0bNYGPVt1EBPAgGmjUtQhsXw2fLIQ/bRl81MI3Cag1iqwIOQJ4sRfp9Fr/BCL1LRo0AR1X6ohlgZ+efPBJ4ePWGObH+yRIIr5F8bijauxShdRqFEtVzn+xyn0mTjUNCu/UvlFcT5y7OzvYg1OM7G+aIKgpYw1R1s+cR6eLVMBK7etF0sbcu6XnquMb3ZtwbzVi58aE0WWVVO+EMuzr7esE0utHq064qPmbZAlcxZcuPovtuzdJfIofdHGkJqDO/WwkwUhTxDazK23gJYXk/qPQLmAUiIhjY6NEevx0PAwlCpeEjnJSXUn3VpSben025IgyDE/7fIJXn25lljeUBJ75dZ1rNy63rTc0ifV+uWZ3k4SAC3BNEGQHSUKFzP9vyUHtlTnw3daom3j5ihcwF9cEv4gEjsP/g+frV4i/l+7A4AS6AdRDy3qwqmHnSwIeYLQkmi9BZP7j0DDWq+JpcfcVYtNybA2w/rn90uTILS+qL1WDd/Fe2+8LWbthzHRIgfZ/tOPpqVV1ixZMWnRbBz8/dhTIJFzFy9U1DTbLxo7E1WfqWQ1QlADqUWz+tVr44O330eV8s+JXbUdP+/BhC9nY9zHQ/DOqw1x8MRRBM0Y4/BKyO4LWRBqCcLaTEtJ76heg5DDy8spgtAL4/MRU0CJrCZQLULkzpkLC9cvx7qd36UAScsHHj9+bBLMmN6D8O5rjVIkzfqL/v+aBIxbOMu002SO/sCOPdGmcXNcv518wj+gQ0+xLXvzbrDzEufU1MGCUEsQ62ctEduU+p0Xms1nDR6LlytWFWt/R5dMlISWDyyNI6dPpEh65w2bhNpVq5vOQTRB+OcvILZmJy+ea4pUtKQb2XOgEJA+N2lYuz6Gde0rzh7Md5n8/QqCtntfer6KuIdL2zZ+o2Y9XL5xDZdvXjOR0LnFB+jesr0QRNvBPf5/xytvfuw+/BOmLptvsp1wGfxRb0THxmL2ioV2B4FUK7Ig1BIE7cS0fPMdkT+Qo0RGPUBg0QCx306HUbQX76ggNEfPkT0Hbt65hdDw+yhZtLhY+oRF3DedEZjqeWVH4pMnyJY1Ky7fuCrOLEgQdL5BW53knNqZAqGobYNmy5otxRkKCTyntw/+uX4Foz6bYhIA5QcvPPM8gkPuiq3bAvnyI7BoCbHlumbHZiz8ZrkgR98unYVcvnlVHM4FFiuB3L65sfW/A02nKIIFoZYgaNYb0KEH3qj5qjhxJmFoSe9HLT4Qp9KOCoIixICOPcVukHYCHvfoEf65fhlLvl1lOgvRJ9VfrF0mTtLphDhLlizi1PnU339YPHUmJM1Pnsl+OiP55fdfsWTT6hSn7B9/0EUss7QTc+30efP/dqQ4g9G3SweWZAdtBtC2NUUc83bTJAwWhGsEkSZSJF9szy6TZBNd1z0LggVhjgALIg78GhqdVzjyxJzrpiz3t8yCYEGk8DoWxP/f7WrtYM79MnVTj7xkehpo+rTSxYsXgaK5gBxZ3cSEOt14dIQIiQai4kEfy2natKl0UpR4cx99wHzHjh38bQjp7iDBgJsPxPfn1qxZg2eeeUaCASm7VEIQa9euxdy5c5M/sFgwp3RQ2AA3IUDfnLsaIR6aOnbsmBJfEVJCECdOnECvXr2SvzRaLLeb2OBupCMQFQ+ERIvIQBFChaKEIAiIDz/8UHygnT+aooJbuMEGig43HgCJT5T6RK8ygjh58iR69OiRzAR9Vos+r8Ul4yLwXzJdu3ZtfPbZ/z+9J3vAygiCgFi0aBGWLVsGZMuS/I1q+jwvl4yHwH9brdmyZcP69etRsmRJZcaolCAIFYoSFC1EyZMjWRhcMgYCcY+TP9z+KFGMZ9iwYWjZsqVSY1NOEITOkiVLxI8o9Imt7FmT//XKDHh53jmFUh5jxBjKE+ITxTfkxL8xCeLqcuXKYdCgQahWrZqR1txSV0lB0MhPnTqFOXPm4O+/U75XyC2ocCcuQ4A2TwYOHOiy9tPasLKC0AZ29uxZsftEJ9n0b2hoaFrHrNT18fHxCAkJETYVL15cKducYQxFgwoVKqB8+fLiJyAgwBnNuqwN5QXhspEr0jAdSNWsWVNYQ88ycJGLAAtCLv7ihJYFIZkEXfcsCMlcsCAkE2DWPQtCMh8sCMkEsCDUIoAFoRYfHCEk86EJokaNGjh69Khka7h7FoRkH2BBSCaAl0xqEcCCUIsPjhCS+WBBSCaAI4RaBLAg1OKDI4RkPlgQkgngCKEWASwItfjgCCGZDxaEZAI4QqhFAAtCLT44QkjmgwUhmQCOEGoRwIJQiw+OEJL5YEFIJoAjhFoEsCDU4oMjhGQ+WBCSCeAIoRYBLAi1+OAIIZkPFoRkAjhCqEUAC0ItPjhCSOaDBSGZAI4QahHAglCLD44QkvlgQUgmgCOEWgSwINTigyOEZD5YEJIJ4AihFgEsCLX44AjhZj62bt2K5s2bm3q1JoiIiAgcOHAgRV03m+qR3bEg3Ew7fYI4MjIy+aurgOndrvr3Mp0+fRqdO3fGli1bEBgY6GYLPbs7FoSb+aeZn5y8atWqwuHPnz8vXnasCYIiCImhWbNmWLFihZut4+5YEBJ8gKLE+PHjhTAmTJiAjh07CkE0atRI/J7KlStXODpI4IYFIQF0LUrQ0snX1xdRUVHInz8/7t+/L6zp1KkTRwcJvFCXLAhJwGtRwlL3HB0kkcKCkAe8PkroreDoII8TjhBysYelKMHRQS4pvGSSiD9FiRIlSogcgnMHiUTounaqIBITExEWFqbGyNKJFUOGDMH69euFtfR9iIz4JVJXUuHv7+/U5tMkiODgYPz888+mT+b+888//CVNp9LDjdlCIF++fOJzv/TpX/qhreu0FIcFsW3bNsyaNRuxsTEp+8/inRZ7+FpGwAACT4DERynq161bF0FBQWIp6kgxLAjaK589ezZ2796d3J9vCSBHQcArL5A9L5ApiyN28DWMgGMIPI4G4iOBRxHAg3+FQLy8vDB48GC89957hts0JIiEhAS0adMG169fT3Z8vxeA3KUNd8oXMAIuQYCiRdgZIOqaaL53797o2rWroa4MCWL69OnYuHFjckTwfxnImtNQZ1yZEXALAg+vAPdOiK6WL1+OypUr292t3YLYv38/hg4dmtxwsTeA7Pns7oQrMgJuR4AiReRFVKxY0dBtMHYJ4smTJ2jatCnu3LkD+FUG8lRw+/i4Q0bAMAI3dwPxD9ClSxf06dPHrsvtEgTdn9+tW7fkqEDRgQsjkB4QiL0L3D6I559/HitXrrTLYrsE8e2332LGjBlArlJAwWp2NcyVGAHpCDxJAK5uRbZs2cShpz3FLkFMnDgRdO6AAlWB3GXtaZfrMAJqIHDjRyDhIb755huUK1fOpk12CaJDhw74+++/gaL1gRwFbDbKFRgBZRC4exSIvikexGrSpIlNs+wSRIsWLXDjxg2gRGMgm6/NRrkCI6AMAqGnxIEd3TNGZ2i2CgvCFkL89/SNAAsiffPH1jsZARaEkwHl5tI3AiyI9M0fW+9kBFgQTgaUm0vfCKgsiBYNqqDFG1UQWMwP3tm9kCkTEJ+QiOu37+ObXSewbf/Z9A0+W68eAioKonTxAhjWrSGqPpv80EZM3CPcDXso/ruQXy745MiOe+EPMfaLnfjtz+Rbd7kwAk5BQDVBkBgm9X8X5QL8ERwSgTU7jmPj7lMpxtqqUVXUr14BX285yoJwihdwIyYEVBPE1IHN8EaNZ/Dv9XsY+dl2XL4ZymwxAu5DQCVBNKz9LIZ1bYhMmTJh/pqfsGXfGfcBwT0xAoSASoIY2vVNtGxYFWfO30L3sWsNEeTj7YVereugYa1nkT9PTmTOnAmJiU9E7rH5f6exctuxFO2N7tUYzV6vLBJzikJtGr+Ewn65hRjvR0aLa5ZsPARqd+m4digX6I8te09j6tI9T9m1dPyHqPJMMat/NzQQriwXAZUEsXB0W7z0XAmxgzRv9U92A0N5x9g+TfBcmSJ4FJ+AK7fCcO9+FEoV90Mx/7yinR9++QtjF+w0takJ4o9/glG+pD/uhUfh5p1wFC+cT1wTn/AYSzcdxoqtxzCgQ3180KSaWMZ1H7cOMbHxpnbqvVQWo3o1BpCEcQt34cipy3bbzRUVREAlQXw7pytKFM6Hldt+xaINv9iN1uT+76JhredwNTgM05btwe9/XTdd27HZK+jSoqaIGJ+vPWBK0DVBJDxOxNZ9ZzH9q+SZnyLC7CHv4eWKJXHq75siUtWqWhrj+jRBdq+smPX1Pnx/4A9T+8O7N0SLN17AiT+vo8/E5BeIcUnHCKR3QVQqVxRTBjRD3tzeWLDuZ6z/4fen2Jg3rCXqvFgGB0/8i6AZm8XfNUFcuHL3qVmfRNSzVR2E3H+I/lM3iXMPaqN21TL4/sBZTPjyB5N4aDlFkYiiyddbUi7L0rFbeK7pKglizfSPUKZEAazefhwL1x+0i5Qm9Z4XiXhYZLTJec0v7NO2Hjo0rY5rwffRdvDyFILQi0S7TmszKvaR6ayjc4sa6N6yNm7fe4CB0zcLkbz7WiUM7twAoeHRpt/ZZTRXUhcBlQQxZ+j7qFetbIqZ3BZyvdrURadmr+DGnXC0DvrKYnVLdfRJ9cRFyTN+aoIIKJIfcz99HwXz+5qWXrRUe7Pms9iyz3Kybct2/ruCCKgkCG0WjngYa/cpdNP6lcUsHRZhPUJogrh0IxTtP03+DptRQdA1Y3o3xruvVcb/jv6NRRsO4bPhLZHT24uTaQX92mGTVBIEzcIzBjVHmRIF8dufVzF41pYUOzqWBknJ7/hP3oavT/YUSbO+rrb+33PkHEZ+9r3DgnirznOgreHIh7HY8fOfIlk/d+mO4S1ih8niC12PgEqCoNG+/2ZVfNLuVeHgF67eFYny0TNXUgDR/t3qIkn+avMRcevGnE/fR90Xy1rcZWrb+CX0bF1XvGV82ld7sOfw3w4Lgi5cPrE9KpQqhKu3wjiZdr17ur8H1QRBCNAuz0fNayB3zhx48iQJEQ9jEBYRg+xeWeCfPxdyZM+GkLCHGDl/u9gapXOIyf2bolzJgoh7lIAbdyJwN+wBShbNL84UaGt1zffH8aVuK9eRJRPZ1vfDV9Hu7ZeROVMm3Lwbwcm0+13WtT2qKAgaMW2n0mFYtYoByJvLR5wjJCUBD6PjcO7Sbazd8VuKyOHvl0tEljpVyyBXzhz/3Sr+WBym0VbsroN/pQDSUUFo27yFCuTik2nXuqac1lUVhBw0uFePR4AF4fEuwADoEWBBsD8wAjoEWBDsDowAC4J9gBGwjABHCPYMRoAjBPsAI8ARgn2AEbCJAC+ZbELEFTwJARaEJ7HNY7WJAAvCJkRcwZMQYEF4Ets8VpsIuFQQ9EmtbPyxdpskcAV1ELj/J/Dwqou+IKTOMNkSRsAQAi75pJafnx+yZMliyBCuzAjIRODhw4eIjY11TYTYsmULSpRIfoM3F0YgPSBA31en76y7JEKwINKDC7CNegRYEOwPjIAOARYEuwMjwIJgH2AELCPAEYI9gxHgCME+wAhwhGAfYARsIsBLJpsQcQVPQoAF4Uls81htIsCCsAkRV/AkBFgQnsQ2j9UmAiyI/yC6cOEC2rRpI+5h+fDDD20CxxVciwDdYDdw4EDRydy5c+Ht7e3aDv9rnQXxHxATJ07E4cOHsXbtWtBdulzkI0B81KlTB4cOHULt2rXdYpAygtAGT6OeMGECRo8ebQIgLCxMzNq7d+8WvzMHiJx5zJgxqFKlCjZs2IAKFSoYAs+e6KD1oTW8Zs0aq5FEG0tqdYwYaD5+W+MkUbdv396pjkQz9tixY9G1a1fD+Foaq4b5mTNnxJ+tYUW437p1y21RQhlB6AFq1KhRipk6NfC00Lp48WKYX2ev06UWHYyGbr09zhCEPWLVj1MvHmfNrJoN1I8jE445D+Zj0mymKKCfCOk6re6CBQvcEiWUEYTekcxnQG3G04Dt2bOnacbQO4B5ZLFHELYczugMpY90aRWENrYOHTrYndfosUqrIIxGJnvwpjqWMCXcPv74Y4uCM8qBvXZYqqeMIMg4S2TqhaINQB8J9NHDEQekPlevXm0xd9AcgmYte9awmq2NGzfGl19+CSOObIkcchJyBnvzGrL3k08+Qdu2bcXyJq2zKmHbr18/zJ8/X5in/bfRJal+bBpGxYoVSxEN9H2Zt29r0kqLAMyvVUoQlmZX8whAuYI+j9BEZGtdbQk0WzOwUYckW3755ReMGjUK3bp1e0oQ1pZf1n5PYqBivoyw5gBa/datW4sdM3NBWEtS7UleHXFYa45sLUKkJn53bXooJQi982vLopMnT4qdBooKNFPRLEXJtRYNtGTXkfwhteigRSxy8F69euGjjz6ClgBaWprpHaZAgQJiiWMpQpg7P/VjaXtRq1e3bl3h/5Qka8XSUkgv3tDQUIuCoOvNnd8eMWhr+dQihLnzpzarW8shUouo7ooSSgnCUoL8448/CmcggUyePBkjR44EJdDm/280f7AVHbS1LkUkfc6iEfP++++bZm6985IQbLWt1Y+MjBQ+nidPnqd2UfSTg34paGkHyXxpZysR1URAmNH47Mk1UosQmlC1fhs2bIg9e/akeqZj7y6TPhramsCcsXRSShD6PIKWQCtWrMCiRYuEADSn0BzCPGLYQ6o5YLYApuizefPmpxI9um7mzJmm35svAWwJguywtXultREYGJhCLNYijH5NbksQliKFLWeyRxBaJLF1wGkJd1tLInswtTUGe/6unCD0eQQJYeHChWKpojm89ncSzPjx40XySMWR7UBbIFvb3dA7HPVtvjtiq10jEcLSMkLvUBRBzTcFbAlCZoSwZpstzGxNXvY4uz11lBOEfqlAMw05uj4/sPR3/ZLGnkHbG4atkaDNlgQe7SaRcK0V82TfaA5hvhujz20o2aaDMu3A0pIN5rmV7BzC1vYqjcF8E8GWWIxynlp95QRhaZtV7/CW/m40f9AD4sihkK3ZyhqBRneZLPVjbdtSPyZrs7AKu0yORAhbeGdoQejzCG2g5ucL5gd1juQP5lFCnxOkFkHs2e1w1oxmyfnN8xdLzmBryeSIA9mbQ9jTtqV8wVq+5iws7bGL6igXIfQJnzYIc4fX5xmOnD+Yg5NalLAkUFsCdCaJ5hHRnu1l1QVhCVNry153RgdlBWGvmp1Zz56Z15n9cVu2EXDmxGK7t+QaSkYIe413Zj1r25zO7IPbMoaAra1YY63ZV9slgujRowfohPnzzz9HzZo17bOEazECCiDQv39/cZpPwnj99ddtWpQpKSkpyVYtLUHt27cvOnXqZKs6/50RUAYBujHz3r172Lp1K4oXL27TLrsEsX37dvGQDx3hT5kyxWajXIERUAEBEgIJInfu3Ni/f79dJtkliPPnz4v7jwICAsTBWrZs2exqnCsxAjIR2LZtm7jdvlq1auKWIXuKXYKghrp3745Tp06hZcuWGDZsmD1tcx1GQBoCwcHB4jmSmJgYcQNpixYt7LLFbkFoUYJatTdBscsCrsQIuACBwYMH48CBA4aX+XYLgmxetWqVeIahUKFC4lbg1157zQVD4SYZgbQhMGfOHKxbt07chk9LfHqexd5iSBDUqLaNRf9NT3INGjSIP8RoL9pcz6UIHD9+HLNnz8alS5dEP7QR1KRJE0N9GhYEtb5y5UpxJkGlZMmSqFixIsqXLy9eZ0KJNxdGwB0IxMXFibd4XLx4Ufx75MgR0S35Y1BQECpXrmzYDIcEQb2cO3cOFJpOnz5tuFO+gBFwFQJdunRBnz59HG7eYUFoPf75558mhZJS796967AxnnhhfHw8QkJCxNDtOTjyRIysjTlz5sxiZaL90AqFnjdJS0mzINLSOV8LHDt2zHQ7jB03DTBkLkaABeFigG01z4KwhZB7/86CcC/eT/XGgpBMgFn3LAjJfLAgJBPAglCLABaEWnxwhJDMhyaIGjVq4OjRo5Kt4e5ZEJJ9gAUhmQBeMqlFAAtCLT44QkjmgwUhmQCOEGoRwIJQiw+OEJL5YEFIJoAjhFoEsCDU4oMjhGQ+WBCSCeAIoRYBLAi1+OAIIZkPFoRkAjhCqEUAC0ItPjhCSOaDBSGZAI4QahHAglCLD44QkvlgQUgmgCOEWgSwINTigyOEZD5YEJIJ4AihFgEsCLX44AghmQ8WhGQCOEKoRQALQi0+OEJI5oMFIZkAjhBqEcCCUIsPjhCS+WBBSCaAI4RaBLAg1OKDI4Sb+aCvYTZv3tzUqzVBREREiC/g6Ou62VSP7I4F4Wbax40bh8jISMydO1f0bEkQ9ImBzp07Y8uWLQgMDHSzhZ7dHQvCzfzTzE9OXrVqVeHw9O2+mjVrQntRGUUQEkOzZs2wYsUKN1vH3bEgJPgARYnx48cLYdBnnzp27CgE0ahRI/F7KleuXOHoIIEbFoQE0LUoQUsnX19fREVFIX/+/Lh//76wplOnThwdJPBCXbIgJAGvRQlL3XN0kEQKC0Ie8PooobeCo4M8TjhCyMUelqIERwe5pPCSSSL+FCVKlCghcgjOHSQSoetauiDCw8ORkJCgBhoSrBgyZAjWr18veqbvQ3jyl0j9/f0lMJCyS7cLgj6uTZ/ypQ9t08+dO3ekg8AGqIFAlixZQJ/W1T6z27BhQ+TNm9etxrlNEPQ95tmzZ2Pz5s0pB5g5E5DJrWPmzlRFIDEphWV+fn4YNGgQSBjuKm4RxOHDhzFr1izcuHEjeVx5cwDZswJemYFsWdw1Vu5HdQSeJAHxick/MQnJP4C4nysoKAg+Pj4uH4HLBbF//34MHTo0eSDe2QA/b8CLReByZjNCB5GPgLAYMZKKFSu65bDSpYKIjo5G69atcffuXSBfDiCfd0agicfgTgQoWoREi6jRpUsX9OnTx6W9u1QQdJ/O9u3bAe+sQJFcLh0IN56BEYh9DNx+KAa4aNEiVKtWzWWDdZkg9uzZgxEjRgCZMgHFcvEyyWUUekjD92OBiDixA7Vu3TqXDdplgpg6dWryjpKfD5Anu8sGwA17EALXI4HHT7Bp0yaX3QnsMkHQeu/s2bNAEd/kZJoLI5BWBO5EiZ2nKVOmuGwr1mWCqFWrFujsAYF5ATpr4MIIpBWB8DggPFbcHt+3b9+0tmbxepcI4tKlS2jTpg2QNTMQkMclhnOjHohAdAJwNwo02c6fP98lALhEEH/88Yd4DBI5sgJFeXfJJcx5YqNxj4Hgh6hUqRK+/vprlyDAgnAJrNyoSxBgQbgEVm40vSLAgkivzLHdLkGABeESWLnR9IoACyK9Msd2uwQBTxWEv19BfNy2M2q+UA15c+VB5syZkZiYiLth97D5fzuwctsGl+DNjSqOgCcKolbV6hjerR+KFCyE+IQE3Lsfirj4RyiYzw+5cvriyq3raB3UTXHm2DyXIOCJglg4egZervgCTvx1BmMXzEBI2D0Tts1eb4y6L72CwTPHuQRvblRxBDxNEFWfrYTJ/YbDx9sH05bNx4+H9ivOEJvnVgQ8TRAUGcZ/8ilyevtg1tcL8P2BPW7FmztTHAFPEwTRsWb6QlQILGtxyWSNrppVqqFH646oEFgGXtm8RAJ+4eol/HhoH3q17oQ7YfdMeUeTem9gWmu20AAAIABJREFUWNe+iIqNwdgvpuO3P0+naJaWbBSpVm5bj0UbVpr+Ron+J+26os6LryCXT07x+4fRUfjl92OYvvwLxMQmP+qoFUs20abAhh+3Ye2OTaKaZgtFREslKSkJB347giGzkpeIRm1Q3L2Nm+eJgnj/zXeE4/n65ERwyB1s3LMda75PdiBLRV//XngY/r12Gfny5EOpYgEIfxCBfLnzIvjenTQJonTxkhjbZzCeLVMBD6Ie4OLVS8jhlR1lA0rBO4c3fj17Ep9MHmYyr2n9t8QY8ubKjVshd3At+AaKFSqCgMLFkPgkESu2bsCSjauEuLq+/6FoS1/y5MoN//wFcPnGVQybOwmXb16DURuMe1s6uMITBSFmzroNxIxfzL+IYOnGnWCx1bpt/w8pWAsoUhxzP52AEoWLYffhnzB12XzTTP3qy7XwaZdPxKxKDqXtTDkSIcZ9PASN6zTAwd+PiURfiwa0IzaqxwD45vTF52uXYePu7SCbZgwag6IFC2H5lm+wYmvyS8io9PmgC9q/8z5u37uLgdPH4Prtm095odYmCe2LdV+JbWYqRmxIB67tmImeKghCi5YRdBbRuN4byJ3TVyyDfj37OyYtmWfaeerYrA16tuqAO6EhFh1sQIee+KBJC1y7fdNhQTxXpgKmBY0Wr44aMW/y/7F3HeBRVFv4Jw0SAoEEQ8cgUlR4iKDSEVAQBIJPBaQ36aCEIiK9KwlNQIoFBRQEpAqCgqg0EZEmAor0EEJJQiqp7zs3zr7ZzSbZ3ezszOyc+b584u7ce8/9//Pfc8+9s3Nx+q8/zcic9da7eKFBM2zeuxOzViyAZBNNxd6aMyGHgBe+MxMliwdYXTSgPi+bNBc1Kj+KHT/uwbQPI0R5e21wzNt0UMrIgpDooRGe8oDn6zcR05Nfz/yO0eFTxSg9cVAYaCn2p2OHEfb+pByM0tRldJ8hQjCORoj85vlSoxS9pi+bZ7IpL/ci2+d8/AF2/vS92W1Th45FmyYt8dvZUxg1d7IpEtlrgw5c2zETWRD/x03KFXy8vbF8w2p8vnU9Fr87B/Vr1xVTKXJGy0typIIk1YM690Kv0C5ITUsVOU1u1w9HD2DFhtWgpPyZWnXErvr9hOw3RVhetNH48aa1OHD8F9NXUv+SU5JFFDz0+1HTd/ba4Ji36aAUC8KcJMnZJAHQdKVVw+fE9GLKkrk5GJWmL5TY2hohPpm+QCTP0iqTFGVi4+9j3LzpOHvxfJ6eQ3P9ds1a5Rq1rBWuVfUxzHxzPEqVDDQl3PL77LVBB67tmIksiJyCoL0Kab4u5Qh/X72EN6aMyrH0SU5GgpE/7iHtdfgV8c0xjyfHJJGVKhlkEkTTuvUxYdAoFClc2JQ458WmZNP1W5G5Js7y8pQ3hI+ejHo162DvkZ/wzvwZOaq31wbHvE0HpYwmCHJWWoY8fOIYNuzZbubgXdq8jIGdeoLeEC2t6NCKzJQho1GsaDFs2bsT7338gdkUZOjrfXM8/0QOuGrGQlSu8DC+t3BAaQ6fkZlptg8hRSYS3szl880S61dbtcdzTzcyLbtKgitVIjDHyhe1Pbr3YCQmJyNi1VJhK9nYvf1ruHzjKt5dOEusiFm77LFBB67tmIlGFATtVNMa/IPUB7gTcw9JKckIKlFSPPVK166f94qlT+ka13+ESKy9PD1xI/omrkfdRJlSwSgXXAbkwCHlKphtzFE5afnT28vbVKZCmbJiz4IScFo6lW/MSUuhlOBTQnw58hpi78fh4XIVxUOI5MRdRg8w2SSv/25sDP65fllsGIaUr4ji/sWFeGlFqlWj5mKTkJZtI6NvIjklJYejSLmJvTY45nEaL2U0QdAI2qdjF7R4tjFKBwWjsI8PChUqJMRx49ZNbNu/2+omXa/QzujS9mUEBZQU98cnJeLnY4dx7I8TGNNnaA5BEO1hvQajbdOWCPAvLrzgTuw9UXejOs9Y3amm6VT/V7uL72i6RbvIJNY//j6H1ds24PDJY2beRCKlJV/aIKSolpmZiXtxsSKRXrFxtVg6/nz2YrGkmtclXzCw1waNu7f95hlNEPYjlHcJa6tMzm6D63MhAiyIgoHNgigYfporzYIoGCUsiILhp7nSLIiCUcKCKBh+mivNgigYJSyIguGnudIsCM1RwgapiQALQk30uW3NIcCC0BwlbJCaCLAg1ESf29YcAiwIzVHCBqmJAAtCTfS5bc0hwILQHCVskJoI6F4Qhb2AMv5qQshtuxMCD9KBqAQdnyDkTmRwXzSDgG6P1PL29kbJkiU1AyQbom8E0tLSEBMTo98IoaSS9U0tW+8IAtJhnkr6laKHLippuCOAchl9I8CC0Dd/bL2TEWBBOBlQrk7fCLAg9M0fW+9kBFgQTgaUq9M3AiwIffPH1jsZARaEkwHl6vSNAAtC3/yx9U5GgAXhZEC5On0jwILQN39svZMRYEE4GVCuTt8IsCB0zN/06dNx8OBBrF27FkFBQTb3JDk5GSNHjhT3z58/H76+vjaXdfcbWRA6Zfj8+fPo3LkzxowZg27dutndCxJS48aNceDAATRq1Mju8u5agAWhU2ZtiQ4UCSZPnox+/fqhevWcbwCnOm7cuMFRQuYDLAgdCsKW6CDdQ91bv369VUFI9yxZsoSjxL9+wILQoSDyig53794VU6jdu3eLntWuXTtXQdD3HCXMHYAFoTNBSA7fo0cPq7kDjfojRozAokWLRM+kf1ubMtH3tkQbnUFUIHMNKQgaFSdNMj9zunXr1qbVGslJTp48aTbCSqszy5cvN/vcclQmRiyTVXmdEmMDBw60e/5OK0qrV6+2aWVJLo7cBCFFCUdWqwrkeRotbDhByJ3akhO5KKRVGLpn2rRpmDhxonDC7t27i2KSw8vvs6xvzZo1YhTP7R57BZFfdLBs31ZBcJT4P3KGE4S1gUnusPKRXYokNA+nxJP+n+bmkkDkkUH6jOqXhCMJbOnSpSIiyefzJEwa6WnqY+s+gD3RQZoO5TdlkvCwt26NDvAFNsuwgsgtUkijOiFrbSqUWxSxxoQkgGPHjpkiizzi2MueUhHC3nrttVtP9xtOENacXE6YXBD0ueV0R/59XtMlqU6KOE899ZTYGabcQ37Jo4qtTmPPSG7rlMmeOm21U6/3GU4Q8jxAcm55wptfhJBPe+SCsBRSbg5hmdDbu1Nsz2huiyDsqU+vTm6P3YYThOSQ8qmPNZEQiPIcYurUqWLXl1aepGQ4KSnJtOZvud5Pznju3DmEhoaKlaS2bduaNsccEZKcVLJ37ty5ee4v2JpDcHQwl4vhBCF3fmsjh7WVIekz+egujex51WetnLzN/DbNchvZpFGdnkGi1a/crvwiBEeHnMgZThDykZ/+TaP9oEGD0Lt3bzH6kxOHhISIB9/osmV/wtoeg7yctX0Pe5dcLamzJUrkJwiODiwIe6aTmr7X1iiRX5TJbcdb051X0DhDRggF8XRp1dJ0zd7EXIqSvDvtRhEiMjISHTp0QGBgIPbs2eNSR+TG3BeBXbt2ibysefPmYuFCiUuRlx2ToS1btkRcXBy++eYblC5dWgnbuU6DIbBw4ULxBAHllf3791ek94oJYsiQITh69KhY1mzSpIkixnOlxkJA8ql58+ahadOminReMUEsWLBArAp17doVYWFhihjPlRoHAVqooJ/lxsbGKjrrUEwQtExKP4+ki0Id/zbYOM6rRE/Hjx8v8tFmzZohIiJCiSZEnYoJgipfuXKleEaoUqVKWLduHXx8fBTrCFfsvghs2bIFM2bMEE8e009uy5Urp1hnFRUEWT1gwAAcP34cLVq0wKhRozjBVoxK96x4586dmDNnDuhRnAkTJqBjx46KdlRxQdAzQ4MHD0Z8fDz8/f2FKNq3b69op7hy/SNA/kLJ8/bt20Vn6OmCmTNnKt4xxQVBPYiOjhbzvr1794oO1a1bVzxMV61aNVStWpVPKlWcZn00cOnSJfE78gsXLohZBfmNp6enGEQ7derkkk64RBBST77++muEh4cjNTXVJZ3jRvSNQIMGDcQKZeXKlV3WEZcKgnpFy2Znz54VowD90YhAv5Az6kWDA42EdFWoUMGoMIh+U7JMswZp9vDYY4+5HA+XC8LlPdR4g0eOHAGNhHRlZWVp3Fr3N48FoTLHLAiVCbBongWhMh8sCJUJYEFoiwAWhLb44AihMh8sCJUJ4AihLQIkQdSvXx+HDx/WlnEGtIYjhMqksyBUJoAjhLYIYEFoiw+OECrzwYJQmQCOENoigAWhLT44QqjMBwtCZQI4QmiLABaEtvjgCKEyHywIlQngCKEtAlgQ2uKDI4TKfLAgVCaAI4S2CGBBaIsPjhAq88GCUJkAjhDaIoAFoS0+OEKozAcLQmUCOEJoiwAWhLb44AihMh8sCJUJ4AihLQJYENrigyOEynywIFQmgCOEtghgQWiLD44QKvPBglCZAI4Q2iKABaEtPjhCqMwHC0JlAjhCaIsAFoS2+OAI4WI+6DQc+aEfuQmCXgq9f/9+xQ8IcXH3Nd8cC8LFFE2ZMkUcV0yns9JlTRAnTpxAnz59sHnzZoSEhLjYQmM3x4JwMf808pOT16lTRzg8nbBEb/+WXlRGEYTEEBoailWrVrnYOm6OBaGCD1CUmDp1qhDGtGnT0LNnTyEIOjaKPqeLTtPh6OB6clgQrsdcHBpDzk5TJzp3LyEhAYGBgbh3756wplevXhwdVOCFmmRBqAS8FCWsNc/RQSVSWBDqAS+PEnIrODqoxwlHCHWxh7UowdFBXVJ4yqQi/hQlKlasKHIIzh1UJELWtOqCiImJQVpamjbQUMGKMWPGYN26daJlOh/CyCeRBgcHq8CAeZMuF8ShQ4dw5swZcRwv/UVFRakOAhugDQTokHbpSF46nrdVq1YoUaKES41zmSDoPOaIiAhs2rTJrIOZmZlIT093aae5MW0i4OPjY2ZYUFAQRo0aJYThqsslgjh48CDCw8Nx7do10S+KCnRYe1JSElJSUlzVV25H4whQhPD19YWfnx+KFy+OgIAAYTE9+xUWFiY+V/pSXBD79u3D2LFjRT8oeSRRkBD4YgTyQ6B06dKmnKpmzZou2axUVBCJiYl47bXXEB0djcjISNy8eTM/DPh7RsAMAYoYlStXFpGjb9++GDJkiKIIKSoIek5n27ZtuH//Pv766y9FO8KVuy8CNH2qWrWq6OCyZctQr149xTqrmCD27NmD8ePHC8P/+OMPzhUUo9AYFZcvXx5lypQBrT598cUXinVaMUHMnj1brChdv34dt27dUqwDXLFxEKhVqxZoJWrjxo2KPQmsmCBovnfq1ClcuHAB8fHxxmGNe6oYAlWqVBH7ErNmzVJsKVYxQTRs2BC093Dy5EneZ1DMRYxVcbly5VC2bFnxePzw4cMV6bwigrh48SI6d+6MBw8eiF1pvhgBZyBA0YGiBA22ixYtckaVOepQRBCnT58WP4OkZVf6iSRfjIAzEChatChq1KgByiU+/fRTZ1TJglAERa7UJQiwIFwCMzeiFwRYEHphiu10CQIsCJfAzI3oBQEWhBOZ+v7779GkSRO89957mDRpkk01O1LGpor5JocQYEEAmDNnjnj0l5Zw3377bSxdutQhMB1xbkfKOGQcF7IJARYEgJ9++glPPPGEeNqRHhTs0qWLTeBZ3uSIcztSxiHjuJBNCBheEPToOD3dSI+A0G+Nvb29hSDofaj2Xo44tyNl7LWL77cdAcML4sMPPxTb9PRrO3rKkd53So+U04OD9l6OOLcjZey1i++3HQFDC6JYsWLiLRS0XU/vPn388cdFPnH8+HE0bdrUdhT/vdMR53akjN2GcQGbETC0IOiXUbQi9PvvvwsBUIT45ptvQEKhx0J27dqVA0j6jl4W/Prrr4N+fkgXvebm888/F9v91laZHCljM4N8o1MRMLQg6F1F//3vfzFv3jyMGzdOAEufUV5BU6lhw4aZgU2O/fXXX6Nly5ZiRYoeO6eXGVBCTi8Spn/Tj0zky66OlHEqw1yZXQgYVhD0anhy/iJFiphFA3pZAb3+kR4YbNasmdnvLKTlWfoxEoll69atJrA/++wzdOvWDRkZGWaCcKSMXQzyzU5FwLCCeOedd8TmGeULjRo1MoH69NNP46uvvhIj/ptvvmn2FobffvtNTIvkEUUqKE23KlWqZCYIR8o4lWGuzC4EDCsI2nugU3UWLlyI0aNHm4FGI3/79u1FBOnatav4rkWLFiJPoL2KQYMGYcOGDTmAtkyQHSljF3t8s9MRMKQg2rRpI551l5Li3FD9+++/8dJLL4lcgYRBO9j03idakaJ3QVleloJwpIzTGeYK7ULAkIJYvHgxBg8ejLt37+b6Hic6fYd+bC7tSVDE+Oijj0SOQPsW3333XQ6gaXpEL7uSkmpHytjFHt/sdAQMJwha9fnxxx9FLmBtuiQhTNOmDh06iGXYdu3amZZkaTfb2sadFHVKlixpEoSUV9hTxukMc4V2IWA4QfTu3VsIgd732r9/f2zfvt0qYNJqE70ATdqToHf10GMdNIWiPILOeKZLWlpt3rx5jlUmR8rYxSDf7FQEDCcIyUFph1q+umSJqjS6P/zww6ZVJUqSP/74Y/G+HnrtDf2um94h++STT8LDwwNXr14Vu93yfQhHyjiVYa7MLgQMJQjJyR955BGrG2+WyNEqE73Zg5Zm69atK76m/Yvp06ejcePGYg+DXrP/559/4v333wdFH2s71Y6UsYtFvtlpCBhKEE5DjStyWwRYEG5LLXfMEQRYEI6gxmXcFgEWhNtSyx1zBAEWhCOocRm3RYAF4bbUcsccQYAF4QhqXMZtEWBBuC213DFHEGBBOIIal3FbBFgQbkstd8wRBFgQjqDGZdwWARaE21LLHXMEAd0Lgp42peO1+GIEnIGAn5+fOFJLtycIOQMEroMRsERAt4Kgd7HSr9T4YgScgUBaWpp48ZxuBaGk4c4AmOvQFwLSYZ5K+pWip5Aqabi+qGRrnYEAC8IZKHIdboMAC8JtqOSOOAMBFoQzUOQ63AYBFoTbUMkdcQYCLAhnoMh1uA0CLAi3oZI74gwEWBDOQJHrcBsEWBBuQyV3xBkIsCCcgSLX4TYIsCDchkruiDMQYEE4A0WLOs6fPy/eCTtmzBhx7hxfwNq1azF37lysX78e1atX1ywkLAgFqKGXIR88eFA4QVBQkAIt6K9KOpyGBgd64/rEiRM12wFDCoIclg5ctHbRYSgFIczW6ECCoWO5CtKWpf2W/VqzZk2uEYrapzeY53WPI15LNtARANaOGqA2hw4dqukowYKwwvrAgQMxf/58ccCivZct0UFy3IKKT7ItOTkZI0eOFP9ri93S/cuXL3eaIKQIsHv3bhw4cMCqIKR26SxvZw4E9nKU1/2GFkTt2rVNo5WcUPnn9oCdX3SgKVT37t1NVTpLECSwGzdu2CQGalyKDvTvgkYIubikjuUmCKltLUcJFoQsyZNGbkcFQQ6/evXqXHMHqp8uGh3l/7ZHdJb3SkKmOvM6EckymtCZeB9++CF69OhRoMRf3n6NGjVEXXnZYm80Kwg2jpRlQfwrCGl0P3nypDhU0d6QLjmGrQ6WlyBym3ZZ+5xGe/rc1gSe7vv5558xYcIEccaepb25OawtjmyrOKUIlVckccSZnVHG0IKwBqCjJOUXHawlwFK0sGaHpfPnJhLJwekQSDrSiwRNlzVRk+hHjBiBRYsWoVSpUmI0tyZgS+en+mzJUWwVhC3icoZzO1IHC8IKavZGCHujAzVpy5RJEgEd8nj58mWrUUCa5skXAqRo98orr5gineSEdAYeCSE/m6X74+LiBEIBAQH55ii2CoLqk2xcsmSJTVM9R5zbkTKGFoQ8V7BMDu1NNp0dISQy81u1ou83bdqUYynTciPMMvHOTxDUvr0juT2CsHchwBHndqQMC0KWVMtXX5SOEs6MENZWmOQjMDmG5cpOfoJQMkJoNToQTiwIJwmCwLQnSuQnCHtyCGsrW1K+QMcF02oS7TnkdlmuqimdQ2g1OrAgZPsQBZ0yEZj2PJ7grFWm3Ebb/MSZW4RQepVJy9HB8ILIbcRs3bq1zcuYlnXY+hBbfhHCnvmvpfPnt0EoF6+ty8S22GNLDqHl6MCCcMIKk2UVtkYJZwpCmq7Jd8HzWz7OL4ewRQC59T23jTmtRwfDCsIRsu0pY2uUsKdOd7hX69GBBaGQl0mjL+0f2PKwnUJmaKpaLe9Oy4HS7SpTZGQkOnTogMDAQOzZs0dT5LMx+kVg165dYjOzefPm4gdNSlyKvOyYDG3ZsiVoJ/Wbb75B6dKllbCd6zQYAgsXLhQPaNKjMPSslxKXYoIYMmQIjh49KqYl9EgCX4xAQRGQfGrevHlo2rRpQauzWl4xQSxYsEA8z9+1a1eEhYUpYjxXahwEKPej38LHxsYqOutQTBD0ZGe/fv0EYxTqbPk9gHHo5Z7ai8D48eNFPtqsWTNERETYW9zm+xUTBFmwcuVK8VhCpUqVsG7dOvj4+NhsGN/ICEgIbNmyBTNmzBA/G6Y3g5QrV04xcBQVBFk9YMAAHD9+XPy4fdSoUZxgK0ale1a8c+dOzJkzB3SiLf1wqmPHjop2VHFBnDt3DoMHD0Z8fDz8/f2FKNq3b69op7hy/SNA/kLJ8/bt20Vn6JGdmTNnKt4xxQVBPYiOjhbzvr1794oO1a1bV7wQq1q1aqhatSqfVKo4zfpo4NKlS+LHSRcuXBCzCvIbT09PMYh26tTJJZ1wiSCknnz99dcIDw9HamqqSzrHjegbgQYNGogVysqVK7usIy4VBPWKls3Onj0rRgH6oxGBHms26kWDA42EdFWoUMGoMIh+U7JMswZp9vDYY4+5HA+XC8LlPdR4g0eOHAGNhHRlZWVp3Fr3N48FoTLHLAiVCbBongWhMh8sCJUJYEFoiwAWhLb44AihMh8sCJUJ4AihLQIkQdSvXx+HDx/WlnEGtIYjhMqksyBUJoAjhLYIYEFoiw+OECrzwYJQmQCOENoigAWhLT44QqjMBwtCZQI4QmiLABaEtvjgCKEyHywIlQngCKEtAlgQ2uKDI4TKfLAgVCaAI4S2CGBBaIsPjhAq88GCUJkAjhDaIoAFoS0+OEKozAcLQmUCOEJoiwAWhLb44AihMh8sCJUJ4AihLQJYENrigyOEynywIFQmgCOEtghgQWiLD44QKvPBglCZAI4Q2iKABaEtPjhCqMwHC0JlAjhCaIsAFoS2+OAI4WI+6DQc+aEfuQmCXgq9f/9+xQ8IcXH3Nd8cC8LFFE2ZMkUcV0yns9JlTRAnTpxAnz59sHnzZtAB83y5DgEWhOuwFi3RyE9OXqdOHeHwdMISvf1belEZRRASQ2hoKFatWuVi67g5FoQKPkBRYurUqUIY06ZNQ8+ePYUg6Ngo+pwuOk2Ho4PryWFBuB5zU5SgqROdu5eQkIDAwEDcu3dPWNOrVy+ODirwQk2yIFQCXooS1prn6KASKSwI9YCXcgmKEvKLo4N6nHCEUBd7WIsSHB3UJYWnTCriT1GiYsWKIofg3EFFImRNsyDy4eH+/ftISUlRjK0xY8Zg3bp1on46H0LJk0iDg4MV64e7VMyCsGCSDgz//fffTQeIX79+3V24RmEfH1SvUQNVq1YVR9+2b98e3t7ebtM/Z3SEBSFDcdGiRfj888/NcC2UlQVvuMdxuamFPMz6VqlSJYwaNQqNGjVyhi+5RR0sCEBEhIiICLFrTFeFtBQUzUxH0awMFM3McAuiqRPphTyQUMgDiZ5euOvpgzgPL9G3bt26YeTIkW7Tz4J0xPCCoCnSgAEDBIYkgippyQjISCsIprope9XbF1e8fYW9jRs3xoIFC3Rju1KGGl4Q3bt3F5GhQnoKKqcmKYWzZuu97+mFP338QdOpsLAwdO3aVbO2usIwQwtCyhn8M9NRJ+W+K/DWZBu3PX1wrrC/sI1WvB599FFN2ukKowwriGPHjmHQoEEC4/+k3EdAZror8NZsG3/5FEWUV2E888wzWLp0qWbtVNowwwpixYoVoL8KacmonJasNM6arz8DhXDYtwSyChXCDz/8gGLFimneZiUMNKwgRo8eLX6RViM1AQ+lpyqBre7qPFGkOOI9vLB8+XLUrVtXd/Y7w2DDCoI2pW7evIm6yXHwy3KfpdWCOMVfPn6I8ipi6OTakIKgZ4ief/55eCILDZNiCuJDblX2plcR/O3jh3bt2okHD414GVIQkZGR6NChA4pkZeLp5Fgj8m61z7RZd7awP5577jmEh4cbEhcWBAvC5PgsCIP+Yo4jhPXBnwXBguApk0wbLAgWBAuCBWEWLjmH0FgO0Wb4SLTsPwgXf/sVH/bt7tLEliMERwi7I4TksJ4WP6zJzMhAzM1IHP7qS+z9aJnDjsyCcBg6pxTkCGFnhJAcNu3BA9y7kf1rukIeHggoXRq+xYojMz0dP6/5DFvnznKIIBaEQ7A5rRALwkFB3L56Ge+1b20ionDRonht8gzUadMOibEx+HL8WPz58367iWJB2A2ZUwuwIJwkCGLloZDKGLDsEwQEl8a3SxZi38fL7SaLBWE3ZE4twIJwoiCImbe378ZDlUJEHrHrg+w3fNtzsSDsQcv597IgnCiIqs82QLc5EfAuUgQbpkzAid07TYzVaNwULw59E+VrPA6vwoUhJeEHvvgc+1d9bLrPmiCkzyynaVIhEmHJMuWwcfokHNu22WEv4VUmXmVyeJXJ0jlLlC6DrnMi8OjTz+LC4YNY9kYvk2M++9/X0C5sLPwCSohEPPrSPwiqWBEPPVxZJOEUTWiKRRcLwmE9O6UgRwgHI4R8lcm7cGGULFsOnj4++OfYUWycNglRF/8SBFFe0WfBUgSWr4DvVizB3pX/X5J96a3ReK5XP9yLvIGPhr6B25cvsSCc4taOV8KCcFBQ/ut+AAAgAElEQVQQlvsQD5KS8MMnK7B76SIzNlr0GyimSn/9chgrB/cz+05Kwv1LBmLD9Ik4vmMbC8JxX3ZKSRaEg4KQpkxlqlRF66EjUKtlK6SmJGPHvLk4tH6tiZzO0+eg/iud8iTrQWKiaf7PUyan+LXDlbAgCigICfnu78/HU23b4+Zf57Fq5DAx/aFr8CdrUK1+Q8RG3USSxavvpbJpKcnYs2wxzv74A0cIh13ZOQVZEE4SxMO166DH3AUilzi0/gtsmjFZMNR11lw83fEVnPnhe3w8NPuFaHld9kYIadpVLKgUrzLlB64N37MgnCQIwjp07Lto0r0XEu7ewdpxo0TeEDpmPJr27IM7V6+YEmd7BVGvw8t4deI0JCfEY/XoN/HPb7+aqniqXQe8MmEqPD29WBA2OHx+t7AgnCgIaUWpTNVqOLt/nxCAtDdRrNRD+H3XDmyYOgGUM9BFj3u8/M4kPEhMwObZ08Vn1iKEVId/UKns56Ten2kq33fRMlSt3xCpSUksiPy83YbvWRBOFATh3fKNQWg9eATS01KxPXwODm9YB2l5lZZl4+/cRtTff4nNudKVq8AvIABHNq7HV1PezVUQYuo1Oxx124WKe25fuYTYmzdRtlp1ZGVlib0M2uPgjTkbPD6fW1gQThYE4S0l0tfOnMaSPl1FRKCVpqY9+qB0lUfh4ekpdqoT7t0VifTuJQsReysqT0FIDw8+8VxLEVmyMjNx99pV7PnwA7QcMJh3qguuBVEDC8JOQTgJd01Ww49usCDsfnRDk57sJKNYECwIFoRMTCwIFgQLggVhFl8NmUPQqaJ0Yg5djZPuoZCTphx6r+aGdxH84+2H1157DW+//bbeu+OQ/YYUBCHV6bXX8M+lS3gyJQ7F3OgcOYe84N9C532KItqrMN599128/PLLBalKt2UNK4gJEybg22+/RdXURJRJf6BbAp1p+PEiAUj08MRnn32GJ554wplV66Yuwwpi9erVWLhwIYLTH6B6avbOsZGvJA9P/FYkQEBAB8gb9fxqwwriypUr6NKlC9LS0oQgSBhGvk4XLoZYT2/xVvRJkyYZFgrDCoIY37BhA9577z14ZWWibsp9+GRlGtIRrnv74pK3L8qULo2vNmyAn5+fIXGgThtaEATAmDFjxJlqJTLSUCU1yXCnCd30Koy/fYoKAcydOxfNmzc3rBhYEACioqLQr18/3Lp1Syy/PpKahHLpKW7vFA8KeeAfn6K44+kt+tqpUyeMHTvW7fudXwcNHyEIoMTERERERGDbtm0Cr+IZ6fDPykDRzHTxVzgrKz8cdfF9oocXEjw8QP+95+GNjEKFUMzfH6NGjxbHaPHFUyYzH6Bl2Hnz5uHevXuG8A06Zy8sLAzBwcGG6K8tneQIYYFScnIyTp8+jfPnz+Ovv/4S/42Pj7cFS4fuSU1NRXR0tChboUIFh+qwtVDFihVRvXp1VKtWzfRna1mj3MeCUJnpI0eOoEGDBsIK+rEPX+oiwIJQF3+wIFQmwKJ5FoTKfLAgVCaABaEtAlgQ2uKDI4TKfLAgVCaAI4S2CJAEUb9+ffFQHV/qIsARQl38TUk1C0JlIv5tngWhMg8cIVQmgKdM2iKABaEtPjhCqMwHC0JlAjhCaIsAFoS2+OAIoTIfLAiVCeAIoS0CWBDa4oMjhMp8sCBUJoAjhLYIYEFoiw+OECrzwYJQmQCOENoigAWhLT44QqjMBwtCZQI4QmiLABaEtvjgCKEyHywIlQngCKEtAlgQ2uKDI4TKfLAgVCaAI4S2CGBBaIsPjhAq88GCUJkAjhDaIoAFoS0+OEKozAcLQmUCOEJoiwAWhLb44AihMh8sCJUJ4AihLgFbtmxBx44dTUbkJojY2Fjs37/f7F51LTdG6xwhXMzzlClTEBcXh/nz54uWrQnixIkT6NOnDzZv3oyQkBAXW2js5lgQLuafRn5y8jp16giHP3funHj7t/ReJoogJIbQ0FCsWrXKxdZxcywIFXyAosTUqVOFMKZNm4aePXsKQbRu3Vp8TtelS5c4OqjADQtCBdClKEFTJ39/fyQkJCAwMNB0clGvXr04OqjACzXJglAJeClKWGueo4NKpLAg1ANeHiXkVnB0UI8TjhDqYg9rUYKjg7qk8JRJRfwpStBBiJRD0MXRQUUy/m1adUHExMQgLS1NfSRUsmDMmDFYt26daJ3Oh1D6JFKVumlTs1o4Htjlgjh06BDOnDkjjrulv6ioKJvA4pvcHwFPT0+zY4NbtWqFEiVKuLTjLhMEncccERGBTZs2mXfQoxBQyKV95sa0ikCG+bHEQUFBGDVqFEgYrrpcIoiDBw8iPDwc165dy+5XiSJAYS/AxwPw9nRVX7kdrSOQmQWkZmT/JaVl/wHiea6wsDD4+fkp3gPFBbFv3z6MHTs2uyO+3kCQL+DDIlCcWXdoIO4BcDdJ9KRmzZou2axUVBCJiYno1KkTbt26BZQsApT0dQeauA+uRICiRXSiiBp9+/bFkCFDFG1dUUHQczrbtm0DfL2AssUU7QhX7sYIJKcDN+NFB5ctW4Z69eop1lnFBLFnzx6MHz8eKFQIKF+Mp0mKUWiQiu8lA7EpqFatGr744gvFOq2YIGbPnp29ohTkBwQUVqwDXLGBELgaB6RnYuPGjYo9CayYIGi+d+rUKaCsf3YyzRcjUFAEohLEytOsWbMUW4pVTBANGzYE7T0gpARAew18MQIFRSAmBYhJFo+4DB8+vKC1WS2viCAuXryIzp07A14eQKUARQznSg2IQGIacCsBNNguWrRIEQAUEcTp06fFzyBRxAsox6tLijBnxEpT0oHIeNSqVQuffvqpIgiwIBSBlStVBAEWhCKwcqV6RYAFoVfm2G5FEGBBKAIrV6pXBFgQemWO7VYEASMKYuKgMIS2aIOt+3Zh+rJ5ueL61byPULFMeXy2dR2Wrf9MEfy5Uo0hwIJgQWjMJdU1hwXBglDXAzXWOguCBaExl1TXHBYEC0JdD9RY6ywI+wQxqHMv9Artgt//PI0d+3ejZ2hnVC5fCR4eHohPSsT3h3/EgtUrkJSc/bNEuiiBf73ty6hUtgJ8vL2RmZmJO7H38MnXX2Djnu2m+4KDHsKwrv3Q+KlnUcyvqPic7luzfSNCW7yIMkEPYc7HH2DnT9+L7/JK+uV2Dpn+789rAfj5+mFQp55o3ag5AgNKinqSUpJFfxatWYl/rl8x89AGtethQKeeqB5SBT7ePsjIyMCtu7ex/tutWLtjo7i3bdPnMa7fcFG3tSsrKwv7fz2EMeFTxNf22uBSybAgHBPE5RtXUbpUsHja9u+rl1C61EOoVKY8ChUqhI3f7cD7H38geHzlhXbCyf2K+OJq1A3cunMb5YJLo1TJIHzxzSbT6tUjFR7GzDfHo+rDjyAhKRH/XLuMlNQHqBZSBR4enkhPT0MRn8IFEgQ54qw3x6Phk08LEUht1KhcFcX9i+HClX8wbt50XL15XdjeofmLwvYSxYrjRnQUrkReQ/nSZUU/MzIzsGrLeqzY8LkQcL9Xugn75FdAseIIDiwl2hk3f4YQm702uFQM1BgLwjFB0Pt9fvz1ECYved8UDaYPH4fWjVvg2s3rGPneJOFYi9+dg2f+8xQ2f/8NZq9caOK3dvUn4OXlhd/+OCk+IzG0avgcLl67jJnL5+P0X3+KzylqTB06FvWeqI3klOQCCUKKGmcvnhdtSNFAEmPlCpWwdscmfLD2IxHN3h81CeUeKo1PNn+JVVuyX3RG15DX+6J7u1dw8/YtUz8tHbdhnWcwYcBb8C3ii8VffIxN3+0Qt9hjg8vFwIKwfx9CIvROzF2MXzDT5LiE5fMNmmL8G28hPSMDM5ZF4KffjmDpxPfxdM0n8f2Rn/DO/BlWOX68SnXMCZsoRmJyxg27t5nd17RufUwYNApFfHwKJIg17y1FueCyInp9e2CfWRtv9RgopnW/njmBYTPHiangwNd6iP9/a84Es3tJLAvfmYmSxQMw56NFOeqiKLBs0lzUqPwodvy4B9M+jDCVt8cGFoQdCBTk8e+CbMxJgrh47RK6v23+dgZy/KnD3oa/r5/JcQe81hO9O3aGp4cnzl/+G5u/34nNe3ea9VSag8cmxIspC43g8osc7PNZixEcGOSwICTbaAqT13X09O+gnEPCKK97KU+S5zTSvRTR2jRpid/OnsKouZNNEdReG+xwB+fdauQpk0R+bmhS0lqmVDDCP12KbT98axbyKQmVJ6v0pTVB0Ofd2r2KLm06irroirkfh29++g4LV68Q///Gq93R5+WuuH4rEp3C+ls1R9hSgKRaEh1N9W7cuomMzEyr7dBUbdaKBSKyPVOrjkig7ydkv43C8qIc5+NNa3Hg+C+mr6SciaZ3M1YswKHfj5q+s9cG53m5HTUZURBDuvRBjw6dYG2Ul6B79j91xdydVoVmrVyA7w//5LAgpDqbP9MIr7/0CmpXe1wk39J0otOLoRjerb9IuHuOH2a2QkVlTVMq/2I2RwhpCkSjNAk3t/7k5ipTho5Bu2at8NOxwwh7f5JNHlWr6mMiFypVMtCUcMsL2muDTY06+yYjCuLFxi0wtt9w8bpXWmq0nMIQxiN7DkTnNh1xNfI6ek940+SkuS1n5hUhLDkz1X3zhogIUo5ASba1+f1rrTsIwSAry0wQUn5C9tOoLr8WjJshVn+kKCjN+8s+FGxKnPPyJUlQFLWkBYK87qdpXfjoyahXsw725pIv2WuDs33dpvqMKAgi74Pxs0ArPZdvXEPEqqU4fPKYCa9XW7UHzf2L+/tj/a4tmP/5ctN39gqCEu1/rl0xW9/v8/LrYpp09eYNdBk9QNS9cuo81HmsFk6e/yPHCtCMN8fj0UqVkWKxyjRp8Ci0f641rkVFYvTcyaY2pGlLsaL+JkFQGzTqt236Au7cu4P3PlksVsmkq9nTDfFaqw7iQUZKpKXpX6kSgdh98AfM/miRaVAg/Eb3HozE5GSBHV1DaeWp/Wug5eh3F87KsZ8htWOPDTY5sLNvMqIgCENpWZCWNWmz6W7sPcQlxCOoREmUKBYgpjS/nDqOsfOmmU1h7BUEjeJP1ngCkdG3xDIsTSdCylUUS65rdmzC0i8/EZTS/PqtHgPEZhnN2S9cuSj2LmhUTUxOQnp6evaqjmxjTt4HqUxR36J4pEIlXLpxFVUqVhYbblKuI9/rSE1LxZXI6yJHqFC6nNhfiImLwbuLZosydEnLq95e3rgbG4N/rl8Wm3Mh5SuiuH9xbPk3MrVq1FxszPkX9Udk9E0kp6TkcNMfjh7Aig2rYa8Nzvb3fOszqiAIGJrz9n+1u4gURX39hAiknVgaFT/dsi7HfN5eQdDISaN4YEAJsZst1U/r8p9tXW/GD+0KD+7SR0QDyl3Iac9fvijW8d/uNzxHUi2E1KSl2BQjp6aEmTbcaOSPjI4SS6eWyb/lbjj1OeXBA+Hs63ZtMe2CS4ZJu+y0G0/10y77vbhYkUiv2Lga0Xdv4/PZi0Wek9clf9TeXhvydWJn3mBkQTgTR6XrsrbKpHSbhqyfBaEP2lkQLuKJBeEioAvYDAuigADaWpwFYStS6t7HgnAR/iwIFwFdwGZYEAUE0NbiLAhbkeL7DIEAC8IQNHMnbUWABWErUnyfIRBgQRiCZu6krQiwIGxFiu8zBAIsCEPQzJ20FQEWhK1I8X2GQED3gijsBZTxNwRX3EkXIPAgHYhK0PEJQi7AiJswHgK6PVLL29sbJUtmv3CLL0agoAikpaUhJiZGvxFCSSUXFFwurz8EpLe5KOlXih66qKTh+qOTLS4oAiyIgiLI5d0KARaEW9HJnSkoAiyIgiLI5d0KARaEW9HJnSkoAiyIgiLI5d0KARaEW9HJnSkoAiyIgiLI5d0KARaEW9HJnSkoAiyIgiLI5d0KARaEW9HJnSkoAiyIgiKoYvnp06fj4MGDWLt2LYKCgmy2JDk5GSNHjhT3z58/H76+vjaXdfcbWRA6Zfj8+fPo3LkzxowZg27dutndCxJS48aNceDAATRq1Mju8u5agAWhU2ZtiQ4UCSZPnox+/fqhevWcb+emOm7cuMFRQuYDLAgdCsKW6CDdQ91bv369VUFI9yxZsoSjxL9+wILQoSDyig53794VU6jdu3eLntWuXTtXQdD3HCXMHYAFoTNBSA7fo0cPq7kDjfojRozAokWLRM+kf1ubMtH3tkQbnUFUIHMNKQgaFSdNMj9Zs3Xr1qbVGslJTp48aTbCSqszy5cvN/vcclQmRiyTVXmdEmMDBw60e/5OK0qrV6+2aWVJLo7cBCFFCUdWqwrkeRotbDhByJ3akhO5KKRVGLpn2rRpmDhxonDC7t27i2KSw8vvs6xvzZo1YhTP7R57BZFfdLBs31ZBcJT4P3KGE4S1gUnusPKRXYokNA+nxJP+n+bmkkDkkUH6jOqXhCMJbOnSpSIiyefzJEwa6WnqY+s+gD3RQZoO5TdlkvCwt26NDvAFNsuwgsgtUkijOiFrbSqUWxSxxoQkgGPHjpkiizzi2MueUhHC3nrttVtP9xtOENacXE6YXBD0ueV0R/59XtMlqU6KOE899ZTYGabcQ37Jo4qtTmPPSG7rlMmeOm21U6/3GU4Q8jxAcm55wptfhJBPe+SCsBRSbg5hmdDbu1Nsz2huiyDsqU+vTm6P3YYThOSQ8qmPNZEQiPIcYurUqWLXl1aepGQ4KSnJtOZvud5Pznju3DmEhoaKlaS2bduaNsccEZKcVLJ37ty5ee4v2JpDcHQwl4vhBCF3fmsjh7WVIekz+egujex51WetnLzN/DbNchvZpFGdnkGi1a/crvwiBEeHnMgZThDykZ/+TaP9oEGD0Lt3bzH6kxOHhISIB9/osmV/wtoeg7yctX0Pe5dcLamzJUrkJwiODiwIe6aTmr7X1iiRX5TJbcdb051X0DhDRggF8XRp1dJ0zd7EXIqSvDvtRhEiMjISHTp0QGBgIPbs2eNSR+TG3BeBXbt2ibysefPmYuFCiUuRlx2ToS1btkRcXBy++eYblC5dWgnbuU6DIbBw4ULxBAHllf3791ek94oJYsiQITh69KhY1mzSpIkixnOlxkJA8ql58+ahadOminReMUEsWLBArAp17doVYWFhihjPlRoHAVqooJ/lxsbGKjrrUEwQtExKP4+ki0Id/zbYOM6rRE/Hjx8v8tFmzZohIiJCiSZEnYoJgipfuXKleEaoUqVKWLduHXx8fBTrCFfsvghs2bIFM2bMEE8e009uy5Urp1hnFRUEWT1gwAAcP34cLVq0wKhRozjBVoxK96x4586dmDNnDuhRnAkTJqBjx46KdlRxQdAzQ4MHD0Z8fDz8/f2FKNq3b69op7hy/SNA/kLJ8/bt20Vn6OmCmTNnKt4xxQVBPYiOjhbzvr1794oO1a1bVzxMV61aNVStWpVPKlWcZn00cOnSJfE78gsXLohZBfmNp6enGEQ7derkkk64RBBST77++muEh4cjNTXVJZ3jRvSNQIMGDcQKZeXKlV3WEZcKgnpFy2Znz54VowD90YhAv5Az6kWDA42EdFWoUMGoMIh+U7JMswZp9vDYY4+5HA+XC8LlPdR4g0eOHAGNhHRlZWVp3Fr3N48FoTLHLAiVCbBongWhMh8sCJUJYEFoiwAWhLb44AihMh8sCJUJ4AihLQIkQdSvXx+HDx/WlnEGtIYjhMqksyBUJoAjhLYIYEFoiw+OECrzwYJQmQCOENoigAWhLT44QqjMBwtCZQI4QmiLABaEtvjgCKEyHywIlQngCKEtAlgQ2uKDI4TKfLAgVCaAI4S2CGBBaIsPjhAq88GCUJkAjhDaIoAFoS0+OEKozAcLQmUCOEJoiwAWhLb44AihMh8sCJUJ4AihLQJYENrigyOEynywIFQmgCOEtghgQWiLD44QKvPBglCZAI4Q2iKABaEtPjhCqMwHC0JlAjhCaIsAFoS2+OAI4WI+6DQc+aEfuQmCXgq9f/9+xQ8IcXH3Nd8cC8LFFE2ZMkUcV0yns9JlTRAnTpxAnz59sHnzZoSEhLjYQmM3x4JwMf808pOT16lTRzg8nbBEb/+WXlRGEYTEEBoailWrVrnYOm6OBaGCD1CUmDp1qhDGtGnT0LNnTyEIOjaKPqeLTtPh6OB6clgQrsdcHBpDzk5TJzp3LyEhAYGBgbh3756wplevXhwdVOCFmmRBqAS8FCWsNc/RQSVSWBDqAS+PEnIrODqoxwlHCHWxh7UowdFBXVJ4yqQi/hQlKlasKHIIzh1UJELWtOqCiImJQVpamjbQUMGKMWPGYN26daJlOh/CyCeRBgcHq8CAeZMuF8ShQ4dw5swZcRwv/UVFRakOAhugDQTokHbpSF46nrdVq1YoUaKES41zmSDoPOaIiAhs2rTJrIOeHoXgWaiQSzvNjWkTgdSMTDPDgoKCMGrUKCEMV10uEcTBgwcRHh6Oa9euiX6VK+YLfx8v+Hl7wdfL01V95XY0jkBGVhYSU9ORlJaB2JRUxKSkCovp2a+wsDD4+fkp3gPFBbFv3z6MHTtWdKR4YW+ElCiKot5eineMG9A/AjcTUnA5NnvBoWbNmi7ZrFRUEImJiejUqRNu3bqFisX9UKG48grXvxtwD+QIJKWl46978SJq9O3bF0OGDFEUIEUFQc/pbNu2DQGFvfH4QwGKdoQrd18E4h6k4eztONHBZcuWoV69eop1VjFB7NmzB+PHj0ehQoXwn+AAkS/wxQg4isDVuETciE8GrT598cUXjlaTbznFBDF79myxohRSwh9l/YvkawjfwAjkh8DxqBg8SM/Axo0bFXsSWDFB0Hzv1KlTYqpEUya+GIGCInDuzn2x8jRr1izFlmIVE0TDhg1Bew9PlwuClwfvMxTUGbg8cP1+Eq7dTxKPxw8fPlwRSBQRxMWLF9G5c2cU9vLAU2UCFTGcKzUeAveSU3H+7n3QYLto0SJFAFBEEKdPnxY/gyzm442awby6pAhzBqw0PjUNZ6LjUKtWLXz66aeKIMCCUARWrlQJBFgQSqDKdeoWARaEbqljw5VAgAWhBKpcp24RYEGoRF21/zyJHm+OEa2vXjgXF06dUMkSblaOgCEF8VLXnnjhv53g6WX+qEdmRgZi7tzGwd078d3XXynqKSwIReF1uHJDCyItNRV3o28J8Dw8CiEgsBR8ixYFCePHb7Zi86crHQY2v4IsiPwQUud7Qwvi9s1IzBw+wIR8YV9fdBk0HE81eQ6J9+OwZtE8nD3+qyLMsCAUgbXAlbIgZIIgNIPLlcegidNRIqgUdn65Gt9v3lBgkK1VwIJQBNYCV8qCsBAEIfruByvwUNlyIo/45ovPCwwyC0IRCBWplAVhIQhp5PYp7IN1Hy7C7wd/NgHf4PnWeK79yyhToSI8PD2RnpaG6Mgb+P7rr/Drj/tM91F06dCzL56o+zR8i/qL32ukPniAi2fPYOnUd8V98gixceUSNHj+RTxasxYKF/EVOcz1SxexZdVH+OvMKVO9IdVroEWHV1C99pOmeikP+ufPP7Dji89w+fw5071dh40E2Xv4+924dO4snv9vJ5QqUxYeHh54kJKMv8+cxpbPPkLUtatmjvV/258R+RRdyYkJOPPrL/hqxRI8SE5WxBG1UikLQiYIcoYeb45G1Vq1cf7kcSyZku28dLXp0h0tQ1+Bl7c3KPe4eysKpStURFDpMkhOTMTmVStx5PvdoDzkjXGThMOTI9249A+8CxdGqTLlEB8bg1kjBpoJwtPTA8lJSQgoGYjIK5fEd+UerizquXH5H3zy/kwhOrqGTZuDarVqIzE+HrduXEN6aioqVnkUfv7FcPXvC1g08W2Tw0qCoBwopNpjSE9Lxa3r11DEzw+lK1SCt4+PsO3T8Fmm+stUrITuI0ah0qPVRBs3Ll2ET+HCwh6fIkVyYKIVJ3amHYYWhHyViRykZKmHhMPTSL5+2Qem0VMazcl5aeVJHg1IQPWatRCj8ILxo1GvaXN0GjRMiIScTRq1ycEff6qeKeJIdZYICkLs3Tv4cslCUwLf5MV2aN+zDzw9PLF19Sf46ZttgvM+o99BfFwstq9ZZXL82vUbovPgEfD29sHGjz7EL/u+E/dKgsjISMfvB37CumUfmMr859kGeG3AUBQrUQL7tn6NbZ9/IsqQGJ5u1gKnf/1F7I1I0eDxp57G60PfFBFj62cf4+ddO5zpg5qqy9CCsNyHoKnE3s0bsWv9WjOSyHkat26LQ999K4Qiv2o+XR9dh72FjPR0rIqYg6Dg0ug0cBhSUx9g/YeLcPLIIauES4IoFhBgNVcZG7EY5UMqY/+OLfku/9K95R4OMatHEkT0jetYPnOyKQpIxnQeNByNWrfF5fN/Yt64MDxctRr6jnkXKFTITMjS/STGOo2a4tB3u7BuqTKPRWtBGYYWhLTsSlMFmhLVfrYhUh+kYNvqT3Hg229M/NBUpfp/nsyTr9i7d8WoGnvnNvqOfRflQx5Bwv37OH30MPZt3ZRjri4JorBvEXy1bDGO/fSDWf1Sm5QDfLE4+2gsuigi0LIwrYbRNKuIX1Ex/SFByhcBJEGcO/Gb2dRPqqfpSx0Q2qMv7t2OFkvPzzzXUgiZIllel6U9WnBiZ9rAgpDlEL1GjkXdps3FXF4+d6dVJ8oXKG94kJJiFf8EMZX5FFf+ugASWMde/UUuQnNwctZrF//GttWfmJLk/JZdLQVBjtr/7QmoXvsp0X5qSgriYu6JKZR/seIiYbYmiNwcWBIA7cyTIKTde/k00lpHTx45iF3r1jjTBzVVFwtCJghaxekdNg4lHwoWEWLDiiWCrBHT38OjNf8j5s7SZ7awSEn6c+064pkWz6NYQAnxWMiaRRHiuSV7BUGrVi1C/4t7t25hw8ql+PP330wmkH2PPPaEVUEcP/AjPg2fncNcSQC3blzH7DcHof7zrfFq/2YhPccAACAASURBVEFIvH8fn8ydKYRtxIsFYbHs+nKfAWjWrgPiY+NMD93R/Pmpxs1Esk2Js70XRYwB70xGYHBpk9PaK4jcplDSRmLgQ8FWBUFJ/eIp7+RYLh00YRqeqPcMJMFIuRBFNHdPnPPijwVhZae639sTUbbSw/jj2C9YPnMKGrZqg469+sHL20c840QOI10UBV7tPxhXL/6FPRvXiekSlZXvX9B0562Z4eI7uoeSdnsFMXTKTNR4si7+OHYUy2ZMMrUvrXJlZWZaFQRNgSxtfuGVzmj9ahdkZmZgy2cf49CeXaI+SXSRVy7jy6ULzPY1aOXrP/UbWM1H7B0gtHw/C8LKTjU5TJvO3cTaveQwkuPRJtu96FtiH6BosQAEly8vljwlR6e5+asDhpg27WgvomzFh0V0IEdbFTFbJNj2CkKyiZaF79A+SHQUHipbXmzQ0VSMNgut5RC0ykR7JZQ83711E4EPlRb5Bl20fExTOOmSlldJ5LTkGnX9GhLj4xBcvoIoR3bT9MqdLxaEFUHIR0v5hhc9Mt74xZdQotRDYsdXelz8t59/xJ5N64QTUR7y3z4DUL5yFZFQZ2Vlic8v/vkHvv1qrWnUtVcQZFPbLt3RqPVLYv+ALhLCjzu24PG6z+DRx2vmmlSnJCfh2ebPC/GQPbQSRjmStUfcyf4XO3XDo0/UFLvmkv1X/jqPvVs2muUu7igMQwrCHYm07JP80Q35sq0R+l6QPrIgCoKehsuyIBwjhwXhGG6aL8WCcIwiFoRjuGm+FAvCMYpYEI7hpvlSLAjHKGJBOIYbl3JTBFgQbkosd8sxBFgQjuHGpdwUARaEmxLL3XIMARaEY7hxKTdFgAXhpsRytxxDgAXhGG5cyk0R0L0givp4oUZQcTelh7vlagQSU9Nx7u59/Z4g5GrAuD1jIKDbI7W8vb1RsmRJY7DEvVQcgbS0NMTExOg3QiipZMXR5wY0h4B0mKeSfqXooYtKGq45ttggxRFgQSgOMTegJwRYEHpii21VHAEWhOIQcwN6QoAFoSe22FbFEWBBKA4xN6AnBFgQemKLbVUcARaE4hBzA3pCgAWhJ7bYVsURYEEoDjE3oCcEWBB6YottVRwBFoTiEGungbVr12Lu3LlYv349qlevbpdhBSlrV0Mq38yCsCDg7t276NatG3bv3o2BAwdi/vz58M3nmCmVObSpealfjRo1wsSJE20qI7+poOXtblClAiwIgwjC1hH+4MGDaNy4MdasWSMGBvlF3w0dOtShCKOSf9vdLAvCAIKwdXRPTk7GyJEjsXz5cquCkL4vX768Q1HGbu9UoQALwgCCsDc6ECTWIgR97u5RggXh5oKwdVSX7mvTpg0+/PBD9OjRI8eUiaCS7qN/u0t+JXcBQwri/Pnz6Ny5M06ePGnCQkqgk5KSzJLqQYMGoXfv3qZ75SOnPAGXgzpt2jSzKQWN0N27dxe3HDhwAPv27cOkSdnnxNWuXdvqnFxehu5zNMG3dUSn9n7++WdMmDAB/fv3z1UQUpSgPIP6Qkm6O12GE4SUNFqSaE0QuREtOYI1YUll5KKwdG7LeuWikM/jLe9r3bo1qK6goCCbfNDW6ED9GDFiBBYtWoRSpUqJASG3COHuUcJwgpg+fboYnS2dcPXq1cIJ5BFCGtFpFJQ7tWUEkHunVL/ceeVlc/tcqlO6V26fPBLlNre3phBbooMkmiZNmgghSG3lJQhqSxoMlixZ4lZRwnCCsBytLZ07t30IeTSwLGMtUsgd2nLKJE0zLNuaNWsWxo8fL1Z5crvyEqNlGVsiBAn4xo0bpnzAVkFYlrMpZOngJsMJIrcpieRo9ggit+mXZW7gTEHYm0vkFSWsfWeLINw1OhBvhhOEtemN9BnlBjVq1LC6U20ZIUaPHm1as7cWDWyJEHnVaW++kNvgm1uUyCtXkerKLeF31+hgSEHQUmHbtm1Nz/LIR3man7/44os2CWLIkCGm+6ToIney3AQhH+GlfIOIkHKDvHKVlStX4r///a/NSbXk2FIfbVkVyi9CuHN0MKQg5E4oH1UlB5ZWWSyfZcprNLc2OucmCGv3ykWS21IulXM0atizd5CfINw5OrAg/vXO3BxS/rm1pNrSeWmUp4v2HHITxJYtW8TGFwmOrtxyAmvCtWeFyVJ4tkaJvATh7tHBkIJQY6Ejt6TalbbYEyVys8vdowMLwkUeqQVBUFfzepI1PyhsjTD51aP173W7yhQZGYkOHTogMDAQe/bs0TTOWhGEpkHSiHG7du0Sj900b95c/JhKiUuRlx2ToS1btkRcXBy++eYblC5dWgnbnVInC8IpMLqkkoULF4KeWqBn2OiZLiUuxQRBS59Hjx4Vu6z06AFfjEBBEZB8at68eWjatGlBq7NaXjFBLFiwQKzfd+3aFWFhYYoYz5UaBwFaYaOnoGNjYxWddSgmCHp8u1+/foIxCnXu9iiycVxRGz2l58goH23WrBkiIiIUM0oxQZDFtHtLD8NVqlQJ69atg4+Pj2Id4YrdFwHaH5oxY4Z4oQS9laRcuXKKdVZRQZDVAwYMwPHjx9GiRQuMGjVK0wm2YihzxQ4jsHPnTsyZM0c8+k8/kOrYsaPDddlSUHFBnDt3DoMHD0Z8fDz8/f2FKNq3b2+LbXyPgREgf6Hkefv27QIFejRm5syZiiOiuCCoB9HR0WLet3fvXtGhunXrigf4qlWrhqpVq/JJpYrTrI8GLl26JH7cdOHCBTGrIL/x9PQUg2inTp1c0gmXCELqyddff43w8HCkpqa6pHPciL4RaNCggVihrFy5sss64lJBUK9o2ezs2bNiFKA/GhHoWR6jXjQ40EhIV4UKFYwKg+g3Jcs0a5BmD4899pjL8XC5IFzeQ403eOTIEdBISFdWVpbGrXV/81gQKnPMglCZAIvmWRAq88GCUJkAFoS2CGBBaIsPjhAq88GCUJkAjhDaIkASRP369XH48GFtGWdAazhCqEw6C0JlAjhCaIsAFoS2+OAIoTIfLAiVCeAIoS0CWBDa4oMjhMp8sCBUJoAjhLYIYEFoiw+OECrzwYJQmQCOENoigAWhLT44QqjMBwtCZQI4QmiLABaEtvjgCKEyHywIlQngCKEtAlgQ2uKDI4TKfLAgVCaAI4S2CGBBaIsPjhAq88GCUJkAjhDaIoAFoS0+OEKozAcLQmUCOEJoiwAWhLb44AihMh8sCJUJ4AihLQJYENrigyOEynywIFQmgCOEtghgQWiLD44QLuaDTsORH/qRmyDopdD79+9X/IAQF3df882xIFxM0ZQpU8RxxXQ6K13WBHHixAn06dMHmzdvRkhIiIstNHZzLAgX808jPzl5nTp1hMPTCUv09m/pRWUUQUgMoaGhWLVqlYut4+ZYECr4AEWJqVOnCmFMmzYNPXv2FIKgY6Poc7roNB2ODq4nhwXheszFoTHk7DR1onP3EhISEBgYiHv37glrevXqxdFBBV6oSRaESsBLUcJa8xwdVCKFBaEe8PIoIbeCo4N6nHCEUBd7WIsSHB3UJYWnTCriT1GiYsWKIofg3EFFImRNu5UgEhMTQX96usaMGYN169YJk+l8CL2dRBocHKwnuPO1VdeCOHXqFH777TfT8b5Xr17Nt8N8g3MR8PX1NR2jS0fqynfhnduSa2rTrSBWrFgB+stxeboGOG7lXwQyzJEgUdBh6/Xq1dMlRLoTBB36HhERgZMnT2YDHgDAB0Dhf/+rSxp0bDQJIhXAAwA0W6X/Aujbty+GDBmiu47pShDnz59Ht27dskH2BhAEwE93mLu3wbS3GJvdxVatWmHWrFm66q+uBDFgwAAcP34cKA6glK5wNpaxyQBuAcgEJkyYoKu8QjeC+Oijj7Bs2TIRGbLKZ6GQRyFjOZneehsP4DZASff69etRrlw5XfRAF4L4888/0aNHj2xAy/A0SReeRUZGA0gAnnvuOYSHh+vCbF0I4ssvvxSJNE+VdOFT/zeSEu4rgIeHB3755RcUKqT9qK4LQdAj0du3b8/OGyh/4Es/CFwDkAasXbtW7Fdo/dKFILp27So230DT0CJah5TtM0OAkutEYNKkSejQoYPmwdG8IDIyMvDss89mA1mZns/VPKZsoBwBWoK9B7z++usYNWqU5rHRvCDi4+PRvHlzwAMA/7xY8w6Vw8B/V5vat2+PyZMna95+FoTmKdK5gSwI5xLIEcK5eLq8NhaEcyFnQTgXT5fXxoJwLuQsCOfi6fLaWBDOhZwF4Vw8bant6ZpPY+qw7NfhTF48Gb+e+dWWYtbvYUE4jp21kgURRNumbTGu3zj4+frh/KXzeGPKG0hKTsrTwEcqPILwMeGoVLYS/rn+DzqFdXJuhyxqk9so/yo1LRXXo65j2/5tWLN9jaI2WFbOgnAp3PY15ixBJKUk4YO1H2DD7g15GjC823B0a9cNXp5eLhWEp6cnbty6gYzMDNC/SweVhl8RP2RmZmLXgV2YsmSKfcAV4G4WRAHAU7qoMwTh5eUFTw9PHD55GG/NeStXkymSrJyyEo9WelQ8TXv5xmWXRYiE5ASz6QnZMqLbCHRo3gHJKcmYsXwGfjj6g9Jwi/pZEC6B2bFGnCGIhKQEFClSBOnp6ZiydAoO/X7IqjGvtX4NFCFi78eiRPESiLoTpZogyEC5QL/c+SUWrF7gGIh2lmJB2AmYK293iiCSE3An5g5qPFIDm7/fjNkrZ1vtwoJxC1C/dn3sObgHzz39HKLuqisIMnLpxKV4ptYz2LpvK6Yvm+4S6FkQLoHZsUacJYhvf/4WXdp2wc3bNzHyvZG4etP8DR2tGrUSCXhiciLW7FiDoV2G5hAEjdh9OvZB60atxRyf5vo0x79+6zo+2/qZcFq6hr4+FN3bd0fM/ZgcqzSzR87G8/Wfx7E/jmHU3FFCeNSu5ZRJQmvZ5GV46vGnsHHPRrz/8fvi41pVa6H/q/3xZI0nRZ5Bj1WnPEjBX1f/woqvVoipoeVlTxkWhGO+6pJSzhLEnJVzMOT1IWL1aOXGlfh086dm9s98cyZeaPgCvjv0HQ7+flA4qWWEGNR5EHqF9gI9cHgt6hpu3b2FkPIhKB9cHvGJ8Zjz8RwRXUg4H4z/AP+p9h98f+R7vDP/HdEW5QNv9XwLD1IfiNGepm7SKpM1QTR/pjneeeMdFPYpjPBPw7F9/3ZRx7Cuw1CyeEnEJcThwuULou5qIdUQ4B8Amh4u/mIxNn23ydQ/e8uwIFzi2o414ixB0Ho6TYdoBen0hdN4Y/IbJoNo9Jz11iwU9SsqRmH6QYs1QfR9uS9qVauFT77+BKf/Oi3Ky52fHHbah9PE51LEoX+TUA4cPyBE8sSjT2D9rvWY/3n2gSnWBEFLvyTOV154RTj+L6d+wbCZw4SY5789HxXLVMT+X/eLfEhaRiY7pgyZIiIOiVWKgo6UYUE45qsuKeVMQdC0ghw/oFiA2RKstNQqCUVyUltziLH9xuLVVq/i2JljGDL9/69emTR4Eto1ayemR6cunBLR5ezFsxg+a7jJkXPbhyBwKRKRGGasmIHou9Ho83IfvPHqGyLZHz13tFgWll+SsAMDArF8w3J8vvVzh8qwIFzi2o414kxB0I4rTY1aNWwlpkW0BCut5FSuUNk0lcpLEDR608hNIz2N3oElAlHEp4iYxx89fdRMEDQ6zwmbg5ByIWKalJaeJhJ6+fKp1JZ8HyIrKwtXbl4R0y/5vRMHTURoi1DsObQH4xeMtwoo5Rx1H6+LzXs3Y9aKWXCkDAvCMV91SSlnC+LFxi+CRnRpCbZ6SHUx6lKSPTZirPhvboIY3HmwSJZpTk8OHhcfh3v374E2/WpXq43fzv5mJggCqGeHnhjYaSC8vb1F0j1z+Uwz3PLKISwBtmXFyfIeR8qwIFzi2o414mxBkBUrp65E7Rq1xRIsjfiUF6zdsVZMo+TzevmUqWGdhmKOTtFg9fbVIppI15AuQ9CjQw/8/ufvZoKQ8ouaj9YUO9C06kQ7zvJng+wRxJShU8QULK8IQQKoV7OeaVXKkTIsCMd81SWllBBE7469RVS4G3sXRQoXEaM9TUGkRNlahJBWmChhtXy+ifISmoZZTplEbvHCqyJyUFvSPZQgS5c9gpBsiIyOtLp0LOUQ8hzJkTIsCJe4tmONKCEIKW+oXrk6aL5OI+67C9/N4aTyCEECoqSWHFsuHsonaBm0WNFiZoKQllhpakZ5A20MUv5SqmQprNqyCis2ZL+o2R5BkMNTHWVKlbG6yvRO/3fEHsm5S+cwaNogkbg7UoYF4ZivuqSUEoIgw6WVJZr/01Lrtwe+zVMQkmOVCy6H+wn3xWpRUIkgsQT699W/QeKSpkw0DSPHrVKxCjZ+9/8NtQGvDQBFJ/nUyR5BkIGSAP39/MU+BD1vRU/GSvsQtAI1+6PZZo+n2FuGBeES13asEaUEIU0vyIHkexK55RD0ebOnm4kEuUqFKmKXmjbBfvz1R7EM2jO0p0kQU4dORZsmbfD3tb8xbt440664fM9C2luwVxBkR4PaDTCg0wBUrVRVTPkoysUnxePoqaMiF5KmfnLE7SnDgnDMV11SqiCCcImB3EjeCPAPhJzrISwI5+Lp8tpYEM6FnAXhXDxdXhsLwrmQsyCci6fLa2NBOB/yJk2aIDk5GXgYAJ8h53yAlawxBkAM0KdPHwwdOlTJlpxSt+bf3Ee97NevX/aZcmUB+Dql31yJqxD492XHs2fPxgsvvOCqVh1uRxeCeO+997BhwwYgEEAJh/vKBdVAgH6HlQ58/fXXqFSpkhoW2NWmLgSxefNmzJw5EygKoLRd/eOb1UQgBUAkULRoUfz4449qWmJz27oQxJ07d9C5c2fExcVlnzxKR/HypX0EbmQf00vne9DZ1Xq4dCEIAnLnzp3i0A1xPkSFf4/l1QPCRrXx3+N5H3nkEXz11Ve6QUE3giBEp0yZgh07dmSfIkSRgg5r50t7CMQBuJtt1tKlS/HMM89oz8ZcLNKVIO7fv4/evXvj6tV/35jBSba2HC0NwB0AdE41ILgaNuz/j7pry1jr1uhKENQFepyaTiQVq050UbTw+Tda0H+99AC7G9n4AEBqdq4Aem1uFhAUFITRo0frYpnVkgndCULqwA8//IB58+bh5s2bbuRd+u/KSy+9JM6SK15cn8fF6lYQUrQ4ceKEOKFU+ouNpVP+9HOlpqYiOppOOAcqVKDVAn1dDz/8sDhut1q1auK/VapU0VcHLKzVtSB0jfy/xh85cgQNGjQQ/0e/a+BLXQRYEOriDxaEygRwhNAWASwIbfHBEUJlPlgQKhPAEUJbBLAgtMUHRwiV+ZAEUb9+fRw+nPM19iqbZ7jmWRAqU86CUJkAnjJpiwAWhLb44AihMh8sCJUJ4AihLQJYENrigyOEynywIFQmgCOEtghgQWiLD44QKvPBglCZAI4Q2iKABaEtPjhCqMwHC0JlAjhCaIsAFoS2+OAIoTIfLAiVCeAIoS0CWBDa4oMjhMp8sCBUJoAjhLYIYEFoiw+OECrzwYJQmQCOENoigAWhLT44QqjMBwtCZQI4QmiLABaEtvjgCKEyHywIlQngCKEtAlgQ2uKDI4TKfLAgVCaAI4S2CGBBaIsPjhAu5mPLli3o2LGjqdXcBEEvbd6/f7/ZvS421ZDNsSBcTDudgkRn5c2fP1+0bE0Q9EZzOteZDpsMCQlxsYXGbo4F4WL+aeQnJ69Tp45w+HPnzom3f0svKqMIQmIIDQ3FqlWrXGwdN8eCUMEHKEpMnTpVCGPatGno2bOnEETr1q3F53RdunSJo4MK3LAgVABdihI0dfL390dCQgICAwNx7x4d3Qn06tWLo4MKvFCTLAiVgJeihLXmOTqoRAoLQj3g5VFCbgVHB/U44QihLvbi3G0pZ5BM4eigLik8ZVIRf4oSFStWFDkE5w4qEiFrWnVBxMTEIC2NTvw25jVmzBisW7dOdJ7Oh9DjSaTOYi44ONhZVTlcj8sFcejQIZw5cwbnz58Xf1FRUQ4bzwXdCwFPT0/TEb90zG+rVq1QokQJl3bSZYKg85gjIiKwadMm8w56FAIKubTP3JhWEcgwP5Y4KChIHAJPwnDV5RJBHDx4EOHh4bh27Vp2v0oUAQp7AT4egLenq/rK7WgdgcwsIDUj+y8pLfsPEM9zhYWFwc/PT/EeKC6Iffv2YezYsdkd8fUGgnwBHxaB4sy6QwNxD4C7SaInNWvWdMlmpaKCSExMRKdOnXDr1i2gZBGgpK870MR9cCUCFC2iE0XU6Nu3L4YMGaJo64oKgp7T2bZtG+DrBZQtpmhHuHI3RiA5HbgZLzq4bNky1KtXT7HOKiaIPXv2YPz48UChQkD5YjxNUoxCg1R8LxmITQGtPn3xxReKdVoxQcyePTt7RSnIDwgorFgHuGIDIXA1DkjPxMaNGxV7ElgxQdB879SpU0BZ/+xkmi9GoKAIRCWIladZs2YpthSrmCAaNmwI2ntASAmA9hr4YgQKikBMChCTLB6PHz58eEFrs1peEUFcvHgRnTt3Brw8gEoBihjOlRoQgcQ04FYCaLBdtGiRIgAoIojTp0+Ln0GiiBdQjleXFGHOiJWmpAOR8ahVqxY+/fRTRRBgQSgCK1eqCAIsCEVg5Ur1igALQq/Msd2KIMCCUARWrlSvCLAg9Moc260IAkYVRHDQQxjapQ8aPFkPJYoFwMPDAxkZGbh19zY2fbcDn21drwjeXKnGETCiIBrWeQbv9B+Bsg+VRmpaGm7fu4OU1Ad4qGQQihX1x6UbV9EprL/GmWPzFEHAiIJYOvF9PF3zSRz74yQmL3kf0Xdvm7ANbdEGTeo+i9FzpyiCN1eqcQSMJog6j9XCzBHvwM/XD3M+WoRvD+zTOENsnksRMJogKDJMHfY2ivr6IfzTJdi+f49L8ebGNI6A0QRBdKx5bymqhzxqdcqUG10NatfDgE49UT2kCny8fUQCfv7yRXx7YC8GdeqFqLu3TXlH26bPY1y/4UhITsLkxe/h1zMnzKqlKRtFqs+2rsOy9Z+ZvqNEf1jXfmj81LMo5ldUfB6fmICffzuC9z5ZjKTk7J86Spc1m2hRYP23W7F2x0Zxm2QLRURrV1ZWFvb/eghjwrOniPbaoHH3tt88IwrilRfaCcfz9yuKyOgobNizDWu2ZzuQtUt+/+2Yu/j7yj8oGVASlctXQsz9WJQsXgKRt6MKJIhHKjyMyUNG47Eq1XE/4T4uXL6IIj6F8WilyvAt4otfTh3HsJnjTOZ1aP6i6EOJYsVxIzoKVyKvoXzpsqhUpjwyMjOwast6rNjwuRBXv1e6ibrkV0Cx4ggOLIV/rl3GuPkz8M/1K7DXBvu9TQcljCgIMXI2aSlG/PLBZQVL16IixVLr1n27zFirVLYC5r89DRXLlMfugz9g9keLTCN1s6cb4u2+w8SoSg4lrUw5EiGmDB2DNo1b4qffjohEX4oGtCI2YcBb8C/qjw/WfoQNu7eBbHp/1CSUe6g0Ptn8JVZtyX4JGV1DXu+L7u1ewc3btzDyvUm4evN6Di+U6iShLf7iY7HMTJc9NujAtR0z0aiCILRoGkF7EW2aPo/iRf3FNOiXU79hxooFppWnnqGdMfC1Hoi6E23Vwd7qMRCvt30ZV25ed1gQj1epjjlhE8Wro8YvmInTf/1pRuast97FCw2aYfPenZi1YgEkm2gq9tacCTkEvPCdmShZPMDqogH1edmkuahR+VHs+HEPpn0YIcrba4Nj3qaDUkYWhEQPjfCUBzxfv4mYnvx65neMDp8qRumJg8JAS7E/HTuMsPcn5WCUpi6j+wwRgnE0QuQ3z5capeg1fdk8k015uRfZPufjD7Dzp+/Nbps6dCzaNGmJ386ewqi5k02RyF4bdODajpnIgvg/blKu4OPtjeUbVuPzreux+N05qF+7rphKkTNaXpIjFSSpHtS5F3qFdkFqWqrIaXK7fjh6ACs2rAYl5c/UqiN21e8nZL8pwvKijcaPN63FgeO/mL6S+peckiyi4KHfj5q+s9cGx7xNB6VYEOYkSc4mCYCmK60aPiemF1OWzM3BqDR9ocTW1gjxyfQFInmWVpmkKBMbfx/j5k3H2Yvn8/Qcmuu3a9Yq16hlrXCtqo9h5pvjUapkoCnhlt9nrw06cG3HTGRB5BQE7VVI83UpR/j76iW8MWVUjqVPcjISjPxxD2mvw6+Ib455PDkmiaxUySCTIJrWrY8Jg0ahSOHCpsQ5LzYlm67fisw1cZaXp7whfPRk1KtZB3uP/IR35s/IUb29NjjmbTooZTRBkLPSMuThE8ewYc92Mwfv0uZlDOzUE/SGaGlFh1ZkpgwZjWJFi2HL3p147+MPzKYgQ1/vm+P5J3LAVTMWonKFh/G9hQNKc/iMzEyzfQgpMpHwZi6fb5ZYv9qqPZ57upFp2VUSXKkSgTlWvqjt0b0HIzE5GRGrlgpbycbu7V/D5RtX8e7CWWJFzNpljw06cG3HTDSiIGinmtbgH6Q+wJ2Ye0hKSUZQiZLiqVe6dv28Vyx9Ste4/iNEYu3l6Ykb0TdxPeomypQKRrngMiAHDilXwWxjjspJy5/eXt6mMhXKlBV7FpSA09KpfGNOWgqlBJ8S4suR1xB7Pw4Pl6soHkIkJ+4yeoDJJnn9d2Nj8M/1y2LDMKR8RRT3Ly7ESytSrRo1F5uEtGwbGX0TySkpORxFyk3stcExj9N4KaMJgkbQPh27oMWzjVE6KBiFfXxQqFAhIY4bt25i2/7dVjfpeoV2Rpe2LyMooKS4Pz4pET8fO4xjf5zAmD5DcwiCaA/rNRhtm7ZEgH9x4QV3Yu+JuhvVecbqTjVNp/q/2l18R9Mt2kUmsf7x9zms3rYBh08eM/MmEikt+dIGIUW1zMxM3IuLFYn0io2rxdLx57MXiyXVvC75goG9Nmjcve03z2iCsB+hvEtYW2VydhtcnwsRYEEUVMJKqgAAIABJREFUDGwWRMHw01xpFkTBKGFBFAw/zZVmQRSMEhZEwfDTXGkWRMEoYUEUDD/NlWZBaI4SNkhNBFgQaqLPbWsOARaE5ihhg9REgAWhJvrctuYQYEFojhI2SE0EWBBqos9taw4BFoTmKGGD1ERA94Io7AWU8VcTQm7bnRB4kA5EJej4BCF3IoP7ohkEdHuklre3N0qWLKkZINkQfSOQlpaGmJgY/UYIJZWsb2rZekcQkA7zVNKvFD10UUnDHQGUy+gbARaEvvlj652MAAvCyYBydfpGgAWhb/7YeicjwIJwMqBcnb4RYEHomz+23skIsCCcDChXp28EWBD65o+tdzICLAgnA8rV6RsBFoS++WPrnYwAC8LJgHJ1+kaABaFj/qZPn46DBw9i7dq1CAoKsrknycnJGDlypLh//vz58PX1tbmsu9/IgtApw+fPn0fnzp0xZswYdOvWze5ekJAaN26MAwcOoFGjRnaXd9cCLAidMmtLdKBIMHnyZPTr1w/Vq+d8AzjVcePGDY4SMh9gQehQELZEB+ke6t769eutCkK6Z8mSJRwl/vUDFoQOBZFXdLh7966YQu3evVv0rHbt2rkKgr7nKGHuACwInQlCcvgePXpYzR1o1B8xYgQWLVokeib929qUib63JdroDKICmWtIQdCoOGmS+ZnTrVu3Nq3WSE5y8uRJsxFWWp1Zvny52eeWozIxYpmsyuuUGBs4cKDd83daUVq9erVNK0tyceQmCClKOLJaVSDP02hhwwlC7tSWnMhFIa3C0D3Tpk3DxIkThRN2795dFJMcXn6fZX1r1qwRo3hu99griPyig2X7tgqCo8T/kTOcIKwNTHKHlY/sUiSheTglnvT/NDeXBCKPDNJnVL8kHElgS5cuFRFJPp8nYdJIT1MfW/cB7IkO0nQovymThIe9dWt0gC+wWYYVRG6RQhrVCVlrU6Hcoog1JiQBHDt2zBRZ5BHHXvaUihD21muv3Xq633CCsObkcsLkgqDPLac78u/zmi5JdVLEeeqpp8TOMOUe8kseVWx1GntGclunTPbUaauder3PcIKQ5wGSc8sT3vwihHzaIxeEpZBycwjLhN7enWJ7RnNbBGFPfXp1cnvsNpwgJIeUT32siYRAlOcQU6dOFbu+tPIkJcNJSUmmNX/L9X5yxnPnziE0NFSsJLVt29a0OeaIkOSkkr1z587Nc3/B1hyCo4O5XAwnCLnzWxs5rK0MSZ/JR3dpZM+rPmvl5G3mt2mW28gmjer0DBKtfuV25RchODrkRM5wgpCP/PRvGu0HDRqE3r17i9GfnDgkJEQ8+EaXLfsT1vYY5OWs7XvYu+RqSZ0tUSI/QXB0YEHYM53U9L22Ron8okxuO96a7ryCxhkyQiiIp0urlqZr9ibmUpTk3Wk3ihCRkZHo0KEDAgMDsWfPHpc6Ijfmvgjs2rVL5GXNmzcXCxdKXP9j7zzAo6i6Pv5P7yEFQscgvQgiKB2kvCAoRZHAixQpIkVRQlGR3hVCU3gpiiDF0KRIVxCRJiogINI7AQKkkN7I95wbZ7/NspvsbnZ2ZjNnnofnfc3O3Hvu+Z/fnFtm5srysWMytFWrVoiPj8eOHTtQvHhxOWznMjXmgfnz54snCGhcOWDAAFlaLxsQQ4YMwfHjx8W0ZtOmTWUxngvVlgekmJozZw6aNWsmS+NlA2LevHliVqhHjx4IDw+XxXguVDseoIkKei03Li5O1l6HbEDQNCm9HkkHpTp+N1g7wStHS8eMGSPGo82bN0dERIQcVYgyZQOCCl+2bJl4RqhcuXKIjIyEu7u7bA3hgguvB7Zs2YKpU6eKJ4/pldtSpUrJ1lhZgSCrBw4ciBMnTqBly5YYMWIED7Blk7JwFrxz507MnDkT9CjO2LFj0blzZ1kbKjsQ9MzQ4MGDkZCQAF9fXwFFhw4dZG0UF+74HqB4ocHzDz/8IBpDTxdMmzZN9obJDgS1IDo6WvT79u3bJxpUt25d8TBd5cqVUalSJd6pVHaZHaOCa9euiffIL168KHoVFDcuLi7iJhoWFmaXRtgFCKkl33//PWbPno309HS7NI4rcWwPNGzYUMxQli9f3m4NsSsQ1CqaNjt37py4C9A/uiPQG3JaPejmQHdCOsqUKaNVN4h202CZeg1S76FatWp294fdgbB7C1Ve4bFjx0B3Qjqys7NVbm3hN4+BUFhjBkJhAQyqZyAU1oOBUFgABkJdAjAQ6tKDM4TCejAQCgvAGUJdAkhANGjQAEePHlWXcRq0hjOEwqIzEAoLwBlCXQIwEOrSgzOEwnowEAoLwBlCXQIwEOrSgzOEwnowEAoLwBlCXQIwEOrSgzOEwnowEAoLwBlCXQIwEOrSgzOEwnowEAoLwBlCXQIwEOrSgzOEwnowEAoLwBlCXQIwEOrSgzOEwnowEAoLwBlCXQIwEOrSgzOEwnowEAoLwBlCXQIwEOrSgzOEwnowEAoLwBlCXQIwEOrSgzOEwnowEAoLwBlCXQIwEOrSgzOEwnowEAoLwBlCXQIwEOrSgzOEnfWg3XD0N/0wBQR9FPrAgQOybxBi5+arvjoGws4STZw4UWxXTLuz0mEMiFOnTqFv377YvHkzQkND7WyhtqtjIOysP935Kcjr1KkjAp52WKKvf0sfKqMMQjB06tQJK1assLN1XB0DoUAMUJaYNGmSAGPy5Mno3bu3AIK2jaK/00G76XB2sL84DIT9fS42jaFgp64T7buXmJiIoKAgxMTECGv69OnD2UEBXahKBkIhx0tZwlj1nB0UEoWBUM7x+llC3wrODsppwhlCWd/DWJbg7KCsKNxlUtD/lCXKli0rxhA8dlBQCL2qHQoI2rGTgqgwHaNGjUJkZKRoEu0PUZh2IqVNJIsXL+5QcqkaiOvXr+Pw4cO6zbwvX77sUM5lYwF/f3/dNru03W779u1V7RbVArF+/XpEREQgKysrtwNdnFTtUDbOwANZubcafumllzBixAhUqFBBla5SHRBRUVGYM2eOeI5HHH7ugIcr4OECuLsATgyEKiPJlFEERFomkJ4FJKQDGTk3uPDwcPTo0UN1TVEVEI8fP0ZYWBgePnwIODsBwV6An4fqnMYGWemBJ9nAo+QcMACxQj9s2DArC5PnMlUBMX78eOzcuRPwdgOKeQMuzvK0mktV1gNJGcD9nJm1hQsXon79+srao1e7aoDYsWMHJkyYkNMlKuMPuDEMqokSOQyJSQHiUlG+fHmsW7cOzs7q0FsVQFBXid4RoP9FUW/An7tJcsSg6sqMSgBSM9G9e3eMHDlSFeapAohDhw7hww8/BLzcgJK+qnAMG2EHD9Bg+06CeNBx48aNdqgw/ypUAcTy5cuxaNEioIgHEOydv9V8RuHxwNVY0ZaDBw/C21t57VUBxEcffYR9+/YBIT6Ar3vhEZtbkr8H7iSIadlly5aJl6aUPlQBxBtvvIGbN2/mDKZprYEP7XjgAU3DpmH06NFiyl3pQxVAtG7dOucZpWcCAF6JVjom7Fv/v7NNgwcPRv/+/e1bt5HaGAjFJdC4AQzE0wHAGULDUDAQDISGw//ppjMQDAQDoecBBoKBYCAYiDxjwJoxxKJxn+Ol5/Kft05OScbMr7/AzoM/cRyq0QOcIWyTIcYM/BDPVaqmK8zL0xOlQkoiJTUFUdH3dH9PTU/D15vW4NCJ39QYDmwTA2EbIAxLGdStD/p06o5b9+4gLHwAB5qjeICBYCAcJVbtYicDwUDYJdAcpRIGwv5AjBsUjk4t22Hr/l24/+gBurd/A37ePti8byemL52HhrXroVfHrqhRsSq8Pb3g5OSE5NQUHPrzGOatXoboRw90Rq+f8xVKBBfDrG8Wol6N59G0XkNR1pMnT3Dl9g0sWb8Sv/x+RHe+t5c3BoX1RptGLRBUJEC8CJOekYGL16/g8+Vf4tyVC3ix5vOY9N5H4pqpS+bitWat0aRuA2ELlXvv0QOs27UFa7Y//Yg02T4wrDcqlXsWnh4eoE+/kO2nzp/FVxtX48ylf3I5nPzw3/avo1zJMnB3cxPlP4yLwfLv12Lj3h9050rlVgmtAHc3d/GxB/Ldut1bjdphNX8MhHJA0MC6VpUa8PfJeeeCAJmyeA4oyMuXLocHsY9w/c5NeLp7oGK58vDy9MKvJ35D+GfjcgNRNAQ3797Gs2WewZVbN5CUkoTKz1SAv6+fGNB/On+6LhAnDR2Ndk1bITUtFZdvXsOT7GyUCikBZGdjwsLP8fvZUzogCMS70fdQ9dlKuBF1G4/iYvFs2WdQLDAY6RnpWLElEss2rtbZMrBrL/R87U1hJ9l+4dplFPH1w7NlQ+Hr7SNAnrp0Ho6cPC6u6fKf1/Bej/4CtJv37uD+wwcoFVIcRQODsXbHJixet1Kc17HFK+K8AD9/3Im+hxtRt1C6eEmUK1EaWU+ysGLLOizd8K3VDOS6kIFQDggKmoSkRMxduRhH//pDZ8iicZ/ht9MnsHLrOt3furd7HUN79BPnT/jyMxG4dBA8BEJMfCzmfbsEO3/dJ/7eqM5LoEwU6F8Ea7ZvwhdrvkKdas9h2rBP4Onphc+//gK7D+3Xld+sbgNcj7otwJIyBAXmw5iH+Gz5l7osQxnmkwHD0LZxCzFhMPyz8eIaqm/ikJEi8Lfs3y3Klw6y75N3PsDzVWuKTPHOhHDx05efzsRLtV7A5p92YMay+brza1epAVdXV/z5918ic3w+YjxKFSuO5Zu/ExBKx5D/9kPP17rg7oP7OjsKTAUDoRwQMfFxmLFsHn4+fjhfHatXqIKZ4eMQ4OuXax2DgAgtXe6poKIC54yejGb1GmLvkQMYM2+aLtD9fHyxcO1yRO7abLReCQjqUkkw6Z9I08vTP/wUAf5FBGjrd28VAf9661dx5uI5vD99DGi9Rf94pUlLjO7/vshE05fNw09HD4LWbqiun44dxCdzpxq1pXenbni3ay9xA/hw5thc5xAs8z+ZJqCf+dWCXIDn61BTJzAQygHxx9+nMGjSKKPSvN6qPZrWbSC6BsEBgfD29BZ9bMOFPQKidEgJLNmwCt/qZRQqVBqrHD9zEkOmjNbdlevXekGsjxw7/afog9OdWP+QgKCujKlAWz5lHqpVqIKVWyNF14aCu271Wvhu52bMW7XkqTZRZvl2+peie/bN5rWiqzWwa2+83bkbXJxdcOH6ZWz+aacYR+kfUhvyCnCbLnYyEMoBId259S2g7sXUD8agUrnyYkCalJIs+uMPYx+hfJln4ENBqrfSLQ2qja1+GwOCAvOjfu+h+YuNRPeGBrHX7tzEyi2Ruu6W/qBav3umbycBQF0wCQiyo2yJ0rr/NhbAxs5567U30b1dZ5QoGiIuiX0cjx0Hf8T8VUvFf0tPANAA+nFiglEubLrYyUAoB4Q0iNa3YNoHY9Cm0cui6zH32yW6wbB0hw0JCi4QEFJdVF7XNh3wRutXxV07ITlJjEG2/bxb17VydXHF1MUROPjnsaecRMFdpngp3d1+8YRZqFP1OZMZggrIK5u1eKkx/vtqF9SuXF3Mqm3/ZS8m/y8CE4eOwmvN2+DgH0cR/vl4q3tCZl/IQKgLCFN3Whr0jh00Ap7u7jYBQh+ML8ZMBw1kJUClDOHv44dFkcuxdsf3uZwkjQcyMzN1wIwfPAIdXm6ba9Csf9H/X5OBiYtm62aaDL0/vPe76NauM27ezVnh/7DXu2Ja9vb9KNsNnPOig4FQFxCRs5eKaUr9mRe6m88eOQEv1qwj+v7WdploEFo59FkcOfVHrkHvvI+nonGdl3TrIBIQIUFFxdTstCVzdZmKunSfvjtcAKQ/NmnTuAU+7v++WHswnGUKCS4Gmu6tW6O2eIZLmjZu3bAZrt66gau3b+hE6Pv6f/HOmz0FEN1HDvz/Ga+AIOw5/DNmfLVAZzv5ZeTbg5GUkoKIFYvMTgJ5nshAqAsImol58z+vifEDBUp84mOElion5ttpMYrm4q0FQgp0Tw9P3L53Bw9jY/BMqTKi6/MoLka3RqA7z90DWU+ewM3VFVdvXRdrFgQErW/QVCcFp7SmQF6UpkHdXN1yraEQ4D5e3rh08xrGzp+uA4DGB89XrYGo6Pti6rZoYBBCS5UVU66rt2/Cou+WC3H0y6W1kKu3r4vFudDSZeHv648t/y5o2oQIBkJdQNBd78NeA9G6YXOx4kxgSIPet1//r1iVthYIyhAf9n5XzAZJK+CpaWm4dPMqlq7/VrcWoj+o/nLNV2IlnVaIXVxcxKrzyX/OGF11Jk8arjyT/bRG8uufv2HpxlW5VtmH/ref6GZJK+bS6vOmH7fnWoPRL5cWLMkOmgygaWvKOIblFggMBkIeIAokisIXmzPLpLCJ8lXPQDAQhh5gIFLBn6HRiwpr3piT75Zl/5IZCAYiV9QxEP//tKuphTn7Y2qnGrnL9LSjaWulixcvAqX8AE9XOymhnmo0nSGik4DEdNBmOR07dlRcFFV8uY82MN++fTvvDaF4OChgwO3HYv+51atXo2rVqgoYkLtKVQCxZs0azJ07N2eDxWI+ijuFDbCTB2jPuetx4qWpY8eOqWIXIVUA8ccff2DQoEE5O42W9reTGlyN4h5ITAeik0RmoAyhhkMVQJAj3nrrLbFBO2+aooawsIMNlB1uPQaynqhqi17VAHHixAkMHDgwRwnaVou21+Kj8Hrg38F048aNMX/+/7+9p3SDVQMEOWLx4sX46quvADeXnD2qaXtePgqfB/6danVzc0NkZCSeeeYZ1bRRVUCQVyhLULYQRxHPHDD4KBweSM3M2bg9LUu05+OPP8abb76pqrapDgjyztKlS8U/cdAWWx6uOf/r7gy4a2+dQlURY4kxNE5IzxJ7yIn/Tc4QV1eqVAkjRoxAvXr1LCnNLueqEghq+cmTJzFnzhz880/u7wrZxStciWweoMmT4cOHy1Z+QQtWLRBSw06fPi1mn2glm/734cOHBW2zqq5PT09HdHS0sKlMmTKqss0WxlA2qFKlCipXriz+lStXzhbFylaG6oGQreUqKZgWpBo2bCisoXcZ+FDWAwyEsv4XK7QMhMIi6FXPQCisBQOhsAAG1TMQCuvBQCgsAAOhLgEYCHXpwRlCYT0kIBo0aICjR48qbA1Xz0AoHAMMhMICcJdJXQIwEOrSgzOEwnowEAoLwBlCXQIwEOrSgzOEwnowEAoLwBlCXQIwEOrSgzOEwnowEAoLwBlCXQIwEOrSgzOEwnowEAoLwBlCXQIwEOrSgzOEwnowEAoLwBlCXQIwEOrSgzOEwnowEAoLwBlCXQIwEOrSgzOEwnowEAoLwBlCXQIwEOrSgzOEwnowEAoLwBlCXQIwEOrSgzOEwnowEAoLwBlCXQIwEOrSgzOEwnowEAoLwBlCXQIwEOrSgzOEnfXYsmULOnfurKvVFBBxcXE4cOBArnPtbKomq2Mg7Cw7bUEcHx+fs+sqoPu2q/53mU6dOoW+ffti8+bNCA0NtbOF2q6OgbCz/nTnpyCvU6eOCPjz58+Ljx1LQFAGIRg6deqEFStW2Nk6ro6BUCAGKEtMmjRJgDF58mT07t1bANG2bVvxdzquXbvG2UEBbRgIBZwuZQnqOvn6+iIxMRFBQUGIiYkR1vTp04ezgwK6UJUMhEKOl7KEseo5OygkCgOhnOP1s4S+FZwdlNOEM4SyvoexLMHZQVlRuMukoP8pS5QtW1aMIXjsoKAQelUrDkRsbCwyMnL2L9biMWrUKERGRoqm0/4QhXEnUnN1DQkJMfdU2c6zOxBHjhzB2bNnxRa79O/evXuyNY4LdiwPuLi45NrCt02bNggICLBrI+wGBO3HHBERgU2bNuVqoIuzE1ycnOzaaK5MnR5Iz3qSy7Dg4GCMGDECBIa9DrsAcfjwYcyePRu3bt0S7Srl5wVfd1d4u7nCy9XFXm3lelTugazsbCSlZyI5IwtxqemITU0XFtOzX+Hh4fD29pa9BbIDsX//fowePVo0xN/DDaEBPvBxc5W9YVyB43vgbmIqrsflTDjUrFnTLouVsgKRlJSEsLAw3L9/H2X9vVHGX37CHT8MuAX6HkjOyMSlmASRNfr164chQ4bI6iBZgaDndLZt24YiHm6oXqyIrA3hwguvB+LTMnDuQbxo4OLFi1GvXj3ZGisbEHv37sWYMWPg5OSEWiFFxHiBD/aAtR64GZ+EOwkpqFy5MtauXWttMfleJxsQM2bMEDNKoQG+KOnrma8hfAJ7ID8PnLgXi7TMLGzcuFG2J4FlA4L6e6dPnxZdJeoy8cEeKKgHzj98LGaepk+fLttUrGxANGrUCLT28GKpYLg68zpDQYOBrwduP07GrcfJ4vH4999/XxaXyALElStX0K1bN3i4OuOFEkGyGM6Fas8DMSnpuPDoMehmu2DBAlkcIAsQZ86cEa9B+rm7oWYIzy7JopwGC01Iz8DZ6Hg899xz+Oabb2TxAAMhi1u5UDk8wEDI4VUu02E9wEA4rHRsuBweYCDk8CqX6bAeYCAUkq5yrefR64NRovZV82fh4ulTClnC1ep7QJNAvNqjN/7zRhhcXHM/6vEkKwuxDx/g8J6d+PH79bJGCgMhq3utLlzTQGSkp+NR9H3hPGdnJxQJKgovHx8QGL/s2IrN3yyz2rH5XchA5OchZX7XNBAP7kZh2vsDdZ738PJC90Hv44WmLyPpcTxWL5iDcyd+l0UZBkIWtxa4UAZCDwjyZkip0hg0bgoCgoti53er8NPmDQV2srECGAhZ3FrgQhkIAyDIo59+sRTFSpYS44gda78tsJMZCFlcKEuhDIQBENKd293DHZH/W4CTh3/VOb5h67Z4ucPrKFGmLJxdXJCZkYHoqDv46fv1+P2X/brzKLt07N0PNeq+CC8fX/G+RnpaGq6cO4tFkz4V5+lniI3LFqJh61dQseZz8PD0EmOY29euYMuKr3Dp7GlduaFVqqJlxy6oUvt5Xbk0Drr6z9/YvnYlrl84rzu3x3vDQfYe/WkPrp0/h9ZvhKFoiZJwdnZGWmoKLp89gy0rv8K9WzdzBdb/2/6SGE/RkZKUiLO//4b1SxciLSVFlkBUS6EMhB4QFAy9PhiJSs/VxoW/TmDhxJzgpaNd955o1akLXN3cQGOPR/fvoXiZsgguXgIpSUnYvGIZjv20BzQOeefj8SLgKZDuXLsKNw8PFC1RCglxsZg+7N1cQLi4OCMlORlFAoMQdeOa+K3UM+VFOXeuX8Xyz6cJ6Oh4b/JMVH6uNpISEnD/zi1kpqejbIWK8Pb1w83LF7Fg3Ee6gJWAoDFQaOVqyMxIx/3bt+Dp7Y3iZcrBzd1d2PbN7Om68kuULYeew0agXMXKoo47167A3cND2OPu6fmUT9QSxLa0Q9NA6M8yUYAEFi0mAp7u5OsWf6G7e0p3cwpemnnSzwYEUL3mLcVdeN6YkajXrAXCBr0nIKFgk+7aFODVX6inyzhSmQHBwYh79BDfLZyvG8A3feU1dOjdFy7OLti6ajkO7tgmNO878hMkxMfhh9UrdIFfu0EjdBs8DG5u7tj41f/w2/4fxbkSEFlZmTh56CAiF3+hu6ZW/YboOnAo/AICsH/r99j27XJxDcHwYvOWOPP7b2JtRMoG1V94Ef8d+oHIGFtXfo1fd223ZQyqqixNA2G4DkFdiX2bN2LXujW5RKLgadK2PY78uFuAon/UfLEBerz3IbIyM7EiYiaCQ4oj7N33kJ6ehnX/W4C/jh0xKrgEhF+RIkbHKqMjvkTp0PI4sH1LvtO/dG6pZ0JzlSMBEX3nNpZMm6DLApIx3Qa9j8Zt2+P6hX8w5+NwPFOpMvqN+hRwcsoFsnQ+wVincTMc+XEXIhfJ81i0GsjQNBDStCt1FahLVLt+I6SnpWLbqm9waPcOnT7UValS6/k89Yp79EjcVeMePkC/0Z+idOizSHz8GGeOH8X+rZue6qtLQHh4eWL94i/xx8Gfc5Uv1UljgLVf5myNRQdlBJoWptkw6mZ5evuI7g8BqT8JIAFx/tSfubp+UjnNXu2ITr36IeZBtJh6funlVgJkymR5HYb2qCGIbWkDA6E3hugzfDTqNmsh+vL6fXeadaLxAo0b0lJTjfo/UXRlvsGNSxdBgHXuM0CMRagPTsF668plbFu1XDdIzm/a1RAICtQBH41FldoviPrTU1MRHxsjulC+fv5iwGwMCFMBLAFAK/MEhLR6r9+NNNbQv44dxq7I1baMQVWVxUDoAUGzOG+Hf4zAYiEiQ2xYulCINWzKZ6hYs5boO0t/M0dFGqS//FpnvNSyNfyKBIjHQlYviBDPLVkKBM1atez0BmLu38eGZYvwz8k/dSaQfc9Wq2EUiBOHfsE3s2c8Za4EwP07tzHjg0Fo0Lot3hwwCEmPH2P5rGkCbC0eDITBtOvrfQei+WsdkRAXr3vojvrPLzRpLgbbNHC29KCMMfCTCQgKKa4LWkuBMNWFkhYSg4qFGAWCBvVfTvzkqenSQWMno0a9lyABI42FKKMV9oFzXvoxEEZWqvt/NA4lyz2Dv//4DUumTUSjNu3QuU9/uLq5i2ecKGCkg7LAmwMG4+aVS9i7MVJ0l+ha/fUL6u58OG22+I3OoUG7pUAMnTgNVZ+vi7//OI7FU8fr6pdmubKfPDEKBHWBDG3+T5duaPtmdzx5koUtK7/Gkb27RHkSdFE3ruO7RfNyrWvQzFetBg2NjkcsvUGo+XwGwshKNQVMu25vibl7KWCkwKNFtpjo+2IdwMevCEJKlxZTnlKgU9/8zYFDdIt2tBZRsuwzIjtQoK2ImCEG2JYCIdlE08IPaR0k+h6KlSwtFuioK0aLhcbGEDTLRGslNHh+dP8ugooVF+MNOmj6mLpw0iFNrxLkNOV67/YtJCXEI6R0GXEd2U3dq8J8MBBGgNC/W+oveNEj401eeRUBRYuJFV/pcfE/f/0FezdFiiCiccgbfQeidPmTWkExAAAgAElEQVQKYkCdnZ0t/n7ln7+xe/0a3V3XUiDIpvbde6Jx21fF+gEdBMIv27eget2XULF6TZOD6tSUZNRv0VrAQ/bQTBiNkYw94k72vxL2FirWqClWzSX7b1y6gH1bNuYauxRGMDQJRGEU0rBN+o9u6E/baqHtBWkjA1EQ76n4WgbCOnEYCOv8pvqrGAjrJGIgrPOb6q9iIKyTiIGwzm+qv4qBsE4iBsI6v/FVhdQDDEQhFZabZZ0HGAjr/MZXFVIPMBCFVFhulnUeYCCs8xtfVUg9wEAUUmG5WdZ5gIGwzm98VSH1gMMD4ePuiqrB/oVUHm6WvT2QlJ6J848eO+4OQvZ2GNenDQ847JZabm5uCAwM1IZK3ErZPZCRkYHY2FjHzRBykiy797kC1XlA2sxTzriSddNFOQ1XnVpskOweYCBkdzFX4EgeYCAcSS22VXYPMBCyu5grcCQPMBCOpBbbKrsHGAjZXcwVOJIHGAhHUottld0DDITsLuYKHMkDDIQjqcW2yu4BBkJ2F3MFjuQBBsKR1GJbZfcAAyG7i9VTwZo1azBr1iysW7cOVapUsciwglxrUUUKn8xAGAjw6NEjvPXWW9izZw/effddzJ07F175bDOlsIZmVS+1q3Hjxhg3bpxZ1+ifVNDrLa5QoQsYCI0Akdcdnn7r2bOnzhOTJ082Cs3hw4cxdOhQqzKMQvFtcbUMhAaAyOvuTjD8+uuvukx44cIFdOvWDV26dHkKipSUFAwfPhylS5e2KstYHJ0KXMBAaACIvLLDqVOnxHhCv1tI569atQr0v8HBwbk8VNizBANRyIGw5q6eV9BL5ZHbCsv4Sj8ENAmE1C3466+/dL6QBtDJycm5BtWDBg3C22+/Denc1atXi9/p0B+A6zvVsA+u30c/dOgQ9u/fj/Hjc/aJq127ttE+uWG/3toBvjV39Pyuod+bNGkCagsN0gvToTkgJDENRTQGhCmhpUAwBpZ0jT4UhsFtWK4+FNIdeMmSJU9V37ZtW6PdGFN2WpMdqKwpU6bgzp07JjNAYc4SmgOCxKa7s2EQUp+5V69e0M8QFBxS8OsHtalZGCmYqHz94NW/1tTfpTKlc/Xt089E+hkqvztzfnd6Y9ebu94g3QwWLlxYqLKE5oDIb4rR1DqEfjYwBMJYptAPaMMuk9TNMKxr+vTpGDNmDIxlB2OZJz8gLMkQ+pnJnK5QflkkP9vU+rvmgDDVJZGC3BIgTHW/DMcGtgTC0rGEOVlCajPZbWxmyTB4C2t2oHZqDgh9caXuk/Q3ujNWrVrV6Eq1YYYYOXKkmJOnu7mxbGBOhsirTEvHC9aOIyQbGjRoYPasUWHNDpoEgqYK27dvr3uWR/8uT/3zV155xSwghgwZojtPyi762ccUEPp3eH0gpbFBXmOVZcuW4Y033nhqbSC/7kdes0KWBndhzg6aBMIwK0jBJAVw0aJFzQJCP0MYC0hTQBg7Vx8SU1O5dJ21WcPUrJBUFz3bZO70qaUA5Qer2n7XXJfJGBCmAlL/78YG1YbBS3d5Oui5IFNAbNmyBf/73//Ew4N0mBoTGLPTkhkmw0AzliXygo+uNzV5UNhmlvR9pTkglLgjmRpU29MWW6wdFPbsoMkukz2DUKpLDUCQLVKWsCbTFObV6UKRIaKiotCxY0cEBQVh7969SsS52XWqBQizDdbwibt27RJP8rZo0UK8TCXHIcvHjsnQVq1aIT4+Hjt27EDx4sXlsN0mZTIQNnGjXQqZP3++eNKXnmEbMGCALHXKBgRNfR4/flzMnzdt2lQW47lQbXlAiqk5c+agWbNmsjReNiDmzZsH6g/36NED4eHhshjPhWrHAzTrRi9HxcXFydrrkA0IeiS7f//+QjFKdebOpWtHYm6pJR6g58hoPNq8eXNERERYcqlF58oGBFlBq7f0+ES5cuUQGRkJd3d3i4zjk9kD5AFaH5o6dap4c5C+SlKqVCnZHCMrEGT1wIEDceLECbRs2RIjRoxQ9QBbNi9zwVZ7YOfOnZg5c6Z49H/s2LHo3Lmz1WWZc6HsQJw/fx6DBw9GQkICfH19BRQdOnQwxzY+R8MeoHihwfMPP/wgvECPxkybNk12j8gOBLUgOjpa9Pv27dsnGlS3bl3xAF/lypVRqVIl3qlUdpkdo4Jr166BHsO5ePGi6FVQ3Li4uIibaFhYmF0aYRcgpJZ8//33mD17NtLT0+3SOK7EsT3QsGFDMUNZvnx5uzXErkBQq2ja7Ny5c+IuQP/ojkDP8mj1oJsD3QnpKFOmjFbdINpNg2XqNUi9h2rVqtndH3YHwu4tVHmFx44dA90J6cjOzla5tYXfPAZCYY0ZCIUFMKiegVBYDwZCYQEYCHUJwECoSw/OEArrwUAoLABnCHUJIAFBX9Y4evSouozToDWcIRQWnYFQWADOEOoSgIFQlx6cIRTWg4FQWADOEOoSgIFQlx6cIRTWg4FQWADOEOoSgIFQlx6cIRTWg4FQWADOEOoSgIFQlx6cIRTWg4FQWADOEOoSgIFQlx6cIRTWg4FQWADOEOoSgIFQlx6cIRTWg4FQWADOEOoSgIFQlx6cIRTWg4FQWADOEOoSgIFQlx6cIRTWg4FQWADOEOoSgIFQlx6cIRTWg4FQWADOEOoSgIFQlx6cIRTWg4FQWADOEOoSgIFQlx6cIeysB+2Go7/phykg6KPQBw4ckH2DEDs3X/XVMRB2lmjixIliu2LanZUOY0CcOnUKffv2xebNmxEaGmpnC7VdHQNhZ/3pzk9BXqdOHRHwtMMSff1b+lAZZRCCoVOnTlixYoWdrePqGAgFYoCyxKRJkwQYkydPRu/evQUQtG0U/Z0O2k2Hs4P9xWEg7O9zsWkMBTt1nWjfvcTERAQFBSEmJkZY06dPH84OCuhCVTIQCjleyhLGqufsoJAoDIRyjtfPEvpWcHZQThPOEMr6HsayBGcHZUXhLpOC/qcsUbZsWTGG4LGDgkLoVa04ELGxscjIyFCHNxSwYtSoUYiMjBQ10/4QWt6JNCQkRAEFcldpdyCOHDmCs2fPiu146d+9e/cUdwIboA4P0Cbt0pa8tD1vmzZtEBAQYFfj7AYE7cccERGBTZs25W6gsyvg5GbXRnNlKvVAVu79yoODgzFixAgBhr0OuwBx+PBhzJ49G7du3cppV0AVwCMQcA8A3Pzs1VauR+0eeJIJpMcC6fFA8j0g+a6wmJ79Cg8Ph7e3t+wtkB2I/fv3Y/To0TkN8SoGBD+fAwIf7IH8PBB/CXh0SpxVs2ZNuyxWygpEUlISwsLCcP/+fSCwBhBYPT8X8O/sgdweoGwRfQxIf4x+/fphyJAhsnpIViDoOZ1t27YBXsWBks1kbQgXXog9kBIN3P1FNHDx4sWoV6+ebI2VDYi9e/dizJgxgJMTULoN4O4vWyO4YA14IOYMEHceNPu0du1a2RosGxAzZszImVGiMUORSrI1gAvWkAdu7gQyk7Bx40bZngSWDQjq750+fRoo2RzwUn7BRUNhU3ibeu8wkByF6dOnyzYVKxsQjRo1Aq09ILQT4OxeeEXiltnPA7HngNi/xePx77//viz1ygLElStX0K1bN8DVByjXXhbDuVANeiDpDnD/COhmu2DBAlkcIAsQZ86cEa9BwjMYKNVSFsO5UA16IPURELUfzz33HL755htZHMBAyOJWLlQWDzAQsriVC3VUDzAQjqoc2y2LBxgIWdzKhTqqBxgIR1WO7ZbFA1oHIiTYDwPfbIz6tcojJMgXLi7Ows9p6ZmIiU/Gb6evYenGw4h+lCCL/7lQlXlAy0C82aYO3nmzMYIDfJCV9QSP4pIQn5gKb083FA30hYe7K5JT0jHz673YefBvlSnH5sjiAa0CMbBrY/R87SW4ubngwO+XsGzDYVy9/TCXj7u2rYMOL9fC2h2/Y/ehc7L4nwtVmQe0CESjOs9i3KB2KOLricidf2LBmgMqU4XNUcwDWgRizkdd0PSFivj97A0MmZLzNQo+2APCA1oDonqFkpgZ3gkBfl74Ys0BbNhz0uJIoIH4ez2ao8kLFeDn7SmuT0hKxa9/XsZny38U4w7pWD+nP0oE+2P2in1oVq8iXnruGXh7uiM5NR2//H4ZM77ag9qVS2Nw92aoEhoiBvX6v0llvVjzGUx671VR7NyV+xH2Sl3UqFgCbq6uou7tv5zFnJX70KllLfTpVB9ligfCyckp128WN1SLF2gNiI4tamFk31ZiAP3BjI24eTfn47/mHs+WKYoJQ9qjWoUSeJyYiovX78PT3Q0VyxWDl6e7mJV6b9r63EAU9cfNu7EoWdQfV249RGARb5QrkROwPx+/iOcqlYKnhxsu33yAAH8vlC0RCBdnZ2z/5Qwm/2+XKEsCwtXFGQlJafDxcsf1qBiUKOqP0iEByMjMxN4j5wV06emZ4rfiwX7it8ysLKzY8huWbjhkbjO1e57WgBjUram4g966F4uw8K8tFn7i0FfRrkl1HPzzMiYs3KHLBjQuGTvwFfj6eOTKPJQhCCKatp26dDeOnLwq6hzeuyW6tasLZ2cnPIhJwLSle5767e6DeB20EhAhQX64dOMBPp2/TTcJMGN4J7RuUBXZyMaVmw+N/nbm4h30G7fa4vZq7gIG4v8l1w86/UDYuv80pizeBam75QQnjJm3FWcuReWKl+kfdsR/GlbD5n2nMH3pHvEbARFaOhibfzqFGcv26s6vXysUk4a+ikB/b3y38w/MW/Wz7rfWDatizDttxX9PX7YHPx09r8sQ1NVbtvEwvtl8THe+lPUo41A3cP3uE7rfeneqj3e7NsGj+CR8PGcrzl3J+ewKHyY8oDUgpAChu2/vMd/m6u9TwL/XoxkC/X2Et4oG+oiAlYBo36wGPu7fBt5eeb+MJJ0vAUHdliUbDuHbrb/pVJDg8/X2wOxv9mHbz6ef/s3LQ7cGIp1P3TMJEukCyS4ae1DW+u30dV1Z0m+JKWmY8OUOMZHARx4e0BoQxu6+ptyzaFx3MQiWAlzqbqVnZCIq+rFJr/58/AKWbjisyxA0qDZc3NMBoRf0UoHGftMfVBsGdl5Bz0BYiL/WgKC7+7KJPVApNESsPk9cuMOkxwyBkLomcQkpZnc/pFkmBsLCwFTqdK0BQX4e2LUJ3u5cH2npWfhy7S/Y9KPxqVdDIJrVrYixg9rB08PV7ClbBkKpyLayXi0CQVli9sjX8WLNUKSkpuOHA2ewMPJgrvEErTVMG9YRdaqV0XWZyMUSJDRFOm3J7lwDa3o26uUXKz097cpdJiujU4HLtAgEuZmgoIBv9Hx5sRhGT7c+jE1EcmqGeKQjwN8b7m4uyM4Gvv/ppG6GSJpeJWBo0ex61CPEPU7BM6WCULJYETEV2n3kcp2SnCEUCOqCVKlVIPRnaLq3qyumRr083MVHAOnJ14TkNJy/eg+bfjwlFs/0D1pIG/BmI9SpVlasOhM0yalp+PvyXazadhxH/7rGQBQkKJW8VutAKOl7rluFHmAgVCgKm6ScBxgI5XzPNavQAwyECkVhk5TzAAOhnO+5ZhV6gIFQoShsknIeYCCU8z3XrEIPMBAqFIVNUs4DDIRyvueaVegBBkKForBJynmAgVDO91yzCj3AQKhQFDZJOQ84PBAegUCJxso5kGsuXB5IiwXuHXbgHYQKlxzcGpV4wGG31HJzc0NgYKBK3MhmOLoHMjIyEBsb67gZQk6SHV1ctt9yD0ibecoZV7Juuiin4Za7k69wdA8wEI6uINtvUw8wEDZ1Jxfm6B5gIBxdQbbfph5gIGzqTi7M0T3AQDi6gmy/TT3AQNjUnVyYo3uAgXB0Bdl+m3qAgbCpO7kwR/cAA+HoCrL9NvUAA2FTd3Jhju4BBkIGBS9cuIBu3bph1KhReOutt2SowTGKfPTokWh/48aNMW7cOIcwmoGQQaYpU6bg8OHDWLNmDYKDg2WowXGKJB/MmjUL69atQ5UqVVRvuCaBoIAdP368UXEmT55coLtZftlBv+62bdsahUYq46+//hI25mWT4bmmyrQmElNSUjBhwgT079/faDBTsPfs2VNX9KFDh0Q20D+ojOHDh6N06dIF8qs19ltzDQNhxGvvvvsu5s6dCy8vL4t9mld2MPzN2N2TMkuTJk0gBVdeAWV4rsXG5nGBBBqdYuzuTravWrVKB3RettBvQ4cOdYgsoWkgateurRNJ6u/u2bMH+n+3JMjyyg7SbwsXLtTdRQ2DXfrvpk2b5hp70LXDhg3DggULdHdqY+VZYqupc/X9QOcY84V0Do0L9DMCAX/nzp2nbiaOlCUYCL2+rdSdsRYIw7umftCZuktSnXRQcJkKcmOgUF2//vqr1ZnMFBD68NE5hiDS36gtZLfhGCmvTCBnNrPFjUAqg4H4Fwj9vrg14wjprtmrVy+jM0t5ZQgpI+QHhNQPN5VJjAWGqayV31iHyjKWmejvpjJBXllLspmut7Y7asvAN1WWpoEw5hRjA0NzhMgrO0jXGxtD6PfDTUFlOH2p32XZv3+/boLAVGYzDH5zYMgPCCmr6fvGVFdKOscRsgQDYSTaLc0Q+WUH/Srym2WSZm70waQ76u7du8VgW79rRbNQ+udR2Zs2bTI6eJUgaNOmDfbu3WvWGkleGSIvIExlybyyizk3HXuco2kg9O+oUkpfsmSJ8Pvq1astWlTLL0MYg8bUndrYdCZlAsOxRpcuXXJNZea3EGZuZpACz1ogDAfb+uXRgqX+xII9gtySOhgIvUG1lNLJgbbOEqb63fmBRLYYjhny6qvn17+3VYYwNpuU38yXKdssCVi5z2UgbAQECWUquPOadjR1F9YX3vCcvLpo+rNWhndm6VESczOFKdtMtTOvWab8YJE70M0tn4H4F4iCdpnI4Xl1WQqSIYxda+xvlnTLzIHCFBCmgjuvDOAI2YE01DQQpu4aBXn8wdSzO8YCUPqb/lhg69atqFq1qm4BzlR5xoLf1s9Q5ZW9DOsqDNmBgbDBDJNhEXllCcNVYLrWcJrXcECd12MkhuUV5JETYzeH/Lpz+jNmeS1mOkp20CwQ5vYnrT3P0Z7wtLad5lznKGMHqS2a7DKZI2RBzpHu3KGhoapelS1IG8251lFWp/XbwkCYoyyfoxkPMBCakZobao4HGAhzvMTnaMYDDIRmpOaGmuMBBsIcL/E5mvEAA6EZqbmh5niAgTDHS3yOZjzAQGhGam6oOR5gIMzxEp+jGQ8wEJqRmhtqjgcYCHO8xOdoxgMMhAxSy/1wnyM+IySDm2UpkoGwsVvze6/ZVtU5whcsbNVWe5ajeSAM3z+QnF+Qz9GY83FfekegZcuWT30LlerX/0YU/bep97sd6T0DewZ1QerSLBCGQWfoRGuAMCc76L/UY6wOw/cH8irT0d41KEig2utaTQJhCIPhJ2coa9C7DIZfss5PlLzGDobvbFNZxoAw9pGAvF7P5CyRnyqW/a45IAwD05pMYMzF+X3QV/+rdvTONG0kYvj9IlNfvsvrKxvmfCzAspDQ9tmaA0I/O9jyHWRLPvluKvBNlZEfbLb+uICWkdAcEAX5GJmpQMkvYA2vywsIY1/VpuuNdaWkcjlL2A5hzQGhP6tk6ecqTbndkuxAZVgLhLGv5Uk2mfMFQNuFTeEtiYGwwaaISmcISz62XHhD2TYt0xwQ+l2mwjKG4OxgGxioFM0BYfhxL3vNMulLZqrLZGpdIa8MwNnBdjBoEghqdH67Z1q7DmHu4xSmgDDV9cprjMLZgYEQHihoastra15Ti2b5ud7ch+7y2mnHECrODvl53ba/FzSuzLHGKTs7O9ucEy05xxaGG/vWKtlQkI8dm5MlzN16SvKHqdkwzg6WRIx559oirvKrSbVA5Ge4Nb+bmyWsKdvYOCSv7asKWocWr2cgZFBdyhK2WucwZiKvTssgnA264uZYJUuGiIqKQseOHREUFCQ2EeSDPWALD+zatUs8Y9aiRQvQY/xyHLIAQYa2atUK8fHx2LFjB4oXLy6H7Vymxjwwf/580FbJgwYNwoABA2RpvWxADBkyBMePHxefnKfNz/lgDxTUA1JMzZkzB82aNStocUavlw2IefPmie1ze/TogfDwcFmM50K14wGa/aNtg+Pi4mTtdcgGBG1c3r9/f6EYpTpLX+jRjtTcUnM8MGbMGDEebd68OSIiIsy5xKpzZAOCrFm2bBlos/Vy5cohMjIS7u7uVhnJF2nbA1u2bMHUqVPh5eWFdevWoVSpUrI5RFYgyOqBAwfixIkT4qX9ESNG8ABbNikLZ8E7d+7EzJkzkZycjLFjx6Jz586yNlR2IM6fP4/BgwcjISEBvr6+AooOHTrI2igu3PE9QPFCg+cffvhBNIaeUJg2bZrsDZMdCGpBdHS06Pft27dPNKhu3bpir+fKlSujUqVKCAwMlL2hXIH6PXDt2jXxmZ+LFy+KXgXFjYuLi7iJhoWF2aUBdgFCasn333+P2bNnIz093S6N40oc2wMNGzYUM5Tly5e3W0PsCgS1iqbNzp07J+4C9I/uCPSMkVYPujnQnZCOMmXKaNUNot00WKZeg9R7qFatmt39YXcg7N5ClVd47Ngx0J2QDhkePFZ569VnHgOhsCYMhMICGFTPQCisBwOhsAAMhLoEYCDUpQdnCIX1YCAUFoAzhLoEkIBo0KABjh49qi7jNGgNZwiFRWcgFBaAM4S6BGAg1KUHZwiF9WAgFBaAM4S6BGAg1KUHZwiF9WAgFBaAM4S6BGAg1KUHZwiF9WAgFBaAM4S6BGAg1KUHZwiF9WAgFBaAM4S6BGAg1KUHZwiF9WAgFBaAM4S6BGAg1KUHZwiF9WAgFBaAM4S6BGAg1KUHZwiF9WAgFBaAM4S6BGAg1KUHZwiF9WAgFBaAM4S6BGAg1KUHZwiF9WAgFBaAM4S6BGAg1KUHZwiF9WAgFBaAM4S6BGAg1KUHZwg760G74ehv+mEKCPoo9IEDB2TfIMTOzVd9dQyEnSWaOHGi2K6YdmelwxgQp06dQt++fbF582aEhoba2UJtV8dA2Fl/uvNTkNepU0cEPO2wRF//lj5URhmEYOjUqRNWrFhhZ+u4OgZCgRigLDFp0iQBxuTJk9G7d28BBG0bRX+ng3bT4exgf3EYCPv7XGwaQ8FOXSfady8xMRFBQUGIiYkR1vTp04ezgwK6UJUMhEKOl7KEseo5OygkCgOhnOP1s4S+FZwdlNOEM4SyvoexLMHZQVlRuMukoP8pS5QtW1aMIXjsoKAQelUzEPno8PjxY6Smpsqm1qhRoxAZGSnKp/0h5NyJNCQkRLZ2FJaCGQgDJWnD8JMnT+o2EL99+3Zh0Roe7u6oUrUqKlWqJLa+7dChA9zc3ApN+2zREAZCz4sLFizAt99+m8uvTtnZcEO2LXyteBnpTs65bChXrhxGjBiBxo0bK26bWgxgIACRESIiIsSqMR1lMlLh8yQTPtlZ8HmSpRatCmxHppMzEp2ckeTiikcu7oh3dhVlvvXWWxg+fHiByy8MBWgeCOoiDRw4UGhJEFTISEGRrIzCoG2+bbjp5oUbbl7ivCZNmmDevHn5XlPYT9A8ED179hSZoUxmKsqnJxd2vZ9q32MXV/zj7gvqToWHh6NHjx6a84F+gzUNhDRm8H2SiTqpjzUbCA9c3HHew1e0n2a8KlasqFlfaBaIP/74A4MGDRLC10p9jCJPMjUbBNTwS+4+uOfqgZdeegmLFi3SrC80C8TSpUtB/8pkpKB8RopmA0BqeBaccNQrANlOTvj555/h5+enSZ9oFoiRI0eKN9KqpieiWGa6JsU3bPQpT38kOLtiyZIlqFu3riZ9olkgaFHq7t27qJsSD+/swjO1WpAovuTujXuunpoeXGsSCHqGqHXr1nBBNholxxYkhgrVtXddPXHZ3RuvvfaaePBQi4cmgYiKikLHjh3hmf0EL6bEaVF3o22mxbpzHr54+eWXMXv2bE36hYFgIHSBz0Bo9I05zhDGb/4MBAPBXSY9NhgIBoKBYCBypUseQ6hsDNHu/eFoNWAQrvz5O/7Xr6ddB7acIThDWJwhpIB1MXix5klWFmLvRuHo+u+w76vFVgcyA2G162xyIWcICzOEFLAZaWmIuZPzNp2TszOKFC8OLz9/PMnMxK+rV2LrrOlWCcRAWOU2m13EQFgJxIOb1/FZh7Y6ITx8fNB1wlTUafcakuJi8d2Y0fjn1wMWC8VAWOwym17AQNgICFKlWGh5DFy8HEVCimP3wvnY//USi8ViICx2mU0vYCBsCAQp89EPe1CsXKgYR+z6IucL35YcDIQl3rL9uQyEDYGoVL8h3poZATdPT2yYOBan9uzUKVa1STO8MvQDlK5aHa4eHpAG4YfWfosDK77WnWcMCOlvht006SKCMLBEKWycMh5/bNtsdZTwLBPPMlk9y2QYnAHFS6DHzAhUfLE+Lh49jMXv9NEFZv03uuK18NHwLhIgBuLR164iuGxZFHumvBiEUzahLhYdDITVPNvkQs4QVmYI/VkmNw8PBJYsBRd3d1z94zg2Th6Pe1cuCYFoXNF33iIElS6DH5cuxL5l/z8l++qHI/Fyn/6IibqDr4a+gwfXrzEQNglr6wthIKwEwnAdIi05GT8vX4o9ixbkUqNl/3dFV+nSb0exbHD/XL9Jg3DfwCBsmDIOJ7ZvYyCsj2WbXMlAWAmE1GUqUaES2g4dhudatUF6agq2z5mFI+vW6MTpNmUmGnQJy1OstKQkXf+fu0w2iWurC2EgCgiE5Pmen8/FC+074O6lC1gx/D3R/aFj8PLVqNygEeLu3UVyfLxRoTJSU7B38Zc498vPnCGsDmXbXMhA2AiIZ2rXQa9Z88RY4si6tdg0dYJQqMf0WXixcxec/fknfD0054NoeR2WZgip2+UXXJRnmfJzrhm/MxA2AoJ83Wn0p2jasw8SHz3Emo9HiHFDp1Fj0Kx3Xzy8eUM3cIaUK0AAACAASURBVLYUiHodX8eb4yYjJTEBq0Z+gKt//q4r4oXXOqLL2ElwcXFlIMwI+PxOYSBsCIQ0o1SiUmWcO7BfACCtTfgVLYaTu7Zjw6SxoDEDHfS4x+ufjEdaUiI2z5gi/mYsQ0hl+AYXzXlO6vNpuuv7LViMSg0aIT05mYHIL9rN+J2BsCEQ5O9W7wxC28HDkJmRjh9mz8TRDZGQpldpWjbh4QPcu3xJLM4VL18B3kWK4NjGdVg/8VOTQIiu14zZqPtaJ3HOgxvXEHf3LkpWroLs7GyxlkFrHLwwZ0bE53MKA2FjIMjf0kD61tkzWNi3h8gINNPUrFdfFK9QEc4uLmKlOjHmkRhI71k4H3H37+UJhPTwYI2XW4nMkv3kCR7duom9//sCrQYO5pXqgrMgSmAgLATCRn5XZTH86AYDYfGjG6qMZBsZxUAwEAyEHkwMBAPBQDAQufKrJscQtKso7ZhDR5PkGDjZqMvh6MXccfPEVTdvdO3aFR999JGjN8cq+zUJBHkqrGtXXL12Dc+nxsOvEO0jZ1UU/HvRBXcfRLt64NNPP8Xrr79ekKIc9lrNAjF27Fjs3r0bldKTUCIzzWEFtKXhJzyLIMnZBStXrkSNGjVsWbTDlKVZIFatWoX58+cjJDMNVdJzVo61fCQ7u+BPzyLCBbSBvFb3r9YsEDdu3ED37t2RkZEhgCAwtHyc8fBDnIub+Cr6+PHjNesKzQJBim/YsAGfffYZXLOfoG7qY7hnP9FkINx288I1Ny+UKF4c6zdsgLe3tyb9QI3WNBDkgFGjRok91QKyMlAhPVlzuwnddfXAZXcfAcCsWbPQokULzcLAQAC4d+8e+vfvj/v374vp12fTk1EqM7XQB0WakzOuuvvgoYubaGtYWBhGjx5d6NudXwM1nyHIQUlJSYiIiMC2bduEv/yzMuGbnQWfJ5nin0d2dn5+dIjfk5xdkejsDPrfGGc3ZDk5wc/XFyNGjhTbaPHBXaZcMUDTsHPmzEFMTIwmYoP22QsPD0dISIgm2mtOIzlDGHgpJSUFZ86cwYULF3Dp0iXxvwkJCeb40qpz0tPTER0dLa4tU6aMVWWYe1HZsmVRpUoVVK5cWffP3Gu1ch4DobDSx44dQ8OGDYUV9LIPH8p6gIFQ1v9gIBQWwKB6BkJhPRgIhQVgINQlAAOhLj04QyisBwOhsACcIdQlgAREgwYNxEN1fCjrAc4QyvpfN6hmIBQW4t/qGQiFdeAMobAA3GVSlwAMhLr04AyhsB4MhMICcIZQlwAMhLr04AyhsB4MhMICcIZQlwAMhLr04AyhsB4MhMICcIZQlwAMhLr04AyhsB4MhMICcIZQlwAMhLr04AyhsB4MhMICcIZQlwAMhLr04AyhsB4MhMICcIZQlwAMhLr04AyhsB4MhMICcIZQlwAMhLr04AyhsB4MhMICcIZQlwAMhLr04AyhsB4MhMICcIZQlwAMhLr04AyhsB4MhMICcIZQVoAtW7agc+fOOiNMAREXF4cDBw7kOldZy7VRO2cIO+s8ceJExMfHY+7cuaJmY0CcOnUKffv2xebNmxEaGmpnC7VdHQNhZ/3pzk9BXqdOHRHw58+fF1//lr7LRBmEYOjUqRNWrFhhZ+u4OgZCgRigLDFp0iQBxuTJk9G7d28BRNu2bcXf6bh27RpnBwW0YSAUcLqUJajr5Ovri8TERAQFBel2LurTpw9nBwV0oSoZCIUcL2UJY9VzdlBIFAZCOcfrZwl9Kzg7KKcJZwhlfQ9jWYKzg7KicJdJQf9TlqCNEGkMQQdnBwXF+LdqxYGIjY1FRkaG8p5QyIJRo0YhMjJS1E77Q8i9E6lCzTSrWjVsD2x3II4cOYKzZ8+K7W7p371798xyFp9U+D3g4uKSa9vgNm3aICAgwK4NtxsQtB9zREQENm3alLuBzq6Ak5tdG82VqdQDWSm5DAsODsaIESNAYNjrsAsQhw8fxuzZs3Hr1q2cdgVUATwCAfcAwM3PXm3letTugSeZQHoskB4PJN8Dku8Ki+nZr/DwcHh7e8veAtmB2L9/P0aPHp3TEK9iQPDzOSDwwR7IzwPxl4BHp8RZNWvWtMtipaxAJCUlISwsDPfv3wcCawCB1fNzAf/OHsjtAcoW0ceA9Mfo168fhgwZIquHZAWCntPZtm0b4FUcKNlM1oZw4YXYAynRwN1fRAMXL16MevXqydZY2YDYu3cvxowZAzg5AaXbAO7+sjWCC9aAB2LOAHHnUblyZaxdu1a2BssGxIwZM3JmlGjMUKSSbA3ggjXkgZs7gcwkbNy4UbYngWUDgvp7p0+fBko2B7xCNKQaN1U2D9w7DCRHYfr06bJNxcoGRKNGjUBrDwjtBDi7y+YjLlhDHog9B8T+LR5xef/992VpuCxAXLlyBd26dQNcfYBy7WUxnAvVoAeS7gD3j4ButgsWLJDFAbIAcebMGfEaJDyDgVItZTGcC9WgB1IfAVH78dxzz+Gbb76RxQEMhCxu5UJl8QADIYtbuVBH9QAD4ajKsd2yeICBkMWtXKijeoCBcFTl2G5ZPKB1IEKC/TDwzcaoX6s8QoJ84eLiLPyclp6JmPhk/Hb6GpZuPIzoRwmy+J8LVZkHtAzEm23q4J03GyM4wAdZWU/wKC4J8Ymp8PZ0Q9FAX3i4uyI5JR0zv96LnQf/VplybI4sHtAqEAO7NkbP116Cm5sLDvx+Ccs2HMbV2w9z+bhr2zro8HItrN3xO3YfOieL/7lQlXlAi0A0qvMsxg1qhyK+nojc+ScWrDmgMlXYHMU8oEUg5nzUBU1fqIjfz97AkCk5X6Pggz0gPKA1IKpXKImZ4Z0Q4OeFL9YcwIY9Jy2OBBqIv9ejOZq8UAF+3p7i+oSkVPz652V8tvxHMe6QjvVz+qNEsD9mr9iHZvUq4qXnnoG3pzuSU9Pxy++XMeOrPahduTQGd2+GKqEhYlCv/5tU1os1n8Gk914Vxc5duR9hr9RFjYol4ObqKure/stZzFm5D51a1kKfTvVRpnggnJyccv1mcUO1eIHWgOjYohZG9m0lBtAfzNiIm3djLJL92TJFMWFIe1SrUAKPE1Nx8fp9eLq7oWK5YvDydBezUu9NW58biKL+uHk3FiWL+uPKrYcILOKNciVyAvbn4xfxXKVS8PRww+WbDxDg74WyJQLh4uyM7b+cweT/7RJlSUC4ujgjISkNPl7uuB4VgxJF/VE6JAAZmZnYe+S8gC49PVP8VjzYT/yWmZWFFVt+w9INhyxqqyZP1hoQg7o1FXfQW/diERb+tcWaTxz6Kto1qY6Df17GhIU7dNmAxiVjB74CXx+PXJmHMgRBRNO2U5fuxpGTV0Wdw3u3RLd2deHs7IQHMQmYtnTPU7/dfRCvg1YCIiTID5duPMCn87fpJgFmDO+E1g2qIhvZuHLzodHfzly8g37jVlvcXs1dwED8v+T6QacfCFv3n8aUxbsgdbec4IQx87bizKWoXPEy/cOO+E/Dati87xSmL90jfiMgQksHY/NPpzBj2V7d+fVrhWLS0FcR6O+N73b+gXmrftb91rphVYx5p6347+nL9uCno+d1GYK6ess2HsY3m4/pzpeyHmUc6gau331C91vvTvXxbtcmeBSfhI/nbMW5KzmfXeHDhAe0BoQUIHT37T3m21z9fQr493o0Q6C/j/BW0UAfEbASEO2b1cDH/dvA2yvvl5Gk8yUgqNuyZMMhfLv1N50KEny+3h6Y/c0+bPv59NO/eXno1kCk86l7JkEiXSDZRWMPylq/nb6uK0v6LTElDRO+3CEmEvjIwwNaA8LY3deUexaN6y4GwVKAS92t9IxMREU/NunVn49fwNINh3UZggbVhot7OiD0gl4q0Nhv+oNqw8DOK+gZCAvx1xoQdHdfNrEHKoWGiNXniQt3mPSYIRBS1yQuIcXs7oc0y8RAWBiYSp2uNSDIzwO7NsHbnesjLT0LX679BZt+ND71aghEs7oVMXZQO3h6uJo9ZctAKBXZVtarRSAoS8we+TperBmKlNR0/HDgDBZGHsw1nqC1hmnDOqJOtTK6LhO5WIKEpkinLdmda2BNz0a9/GKlp6dductkZXQqcJkWgSA3ExQU8I2eLy8Ww+jp1oexiUhOzRCPdAT4e8PdzQXZ2cD3P53UzRBJ06sEDC2aXY96hLjHKXimVBBKFisipkK7j1yuU5IzhAJBXZAqtQqE/gxN93Z1xdSol4e7+AggPfmakJyG81fvYdOPp8Timf5BC2kD3myEOtXKilVngiY5NQ1/X76LVduO4+hf1xiIggSlktdqHQglfc91q9ADDIQKRWGTlPMAA6Gc77lmFXqAgVChKGySch5gIJTzPdesQg8wECoUhU1SzgMMhHK+55pV6AEGQoWisEnKeYCBUM73XLMKPcBAqFAUNkk5DzAQyvmea1ahBxgIFYrCJinnAYcHwiMQKNFYOQdyzYXLA2mxwL3DDryDUOGSg1ujEg847JZabm5uCAwMVIkb2QxH90BGRgZiY2MdN0PISbKji8v2W+4BaTNPOeNK1k0X5TTccnfyFY7uAQbC0RVk+23qAQbCpu7kwhzdAwyEoyvI9tvUAwyETd3JhTm6BxgIR1eQ7bepBxgIm7qTC3N0DzAQjq4g229TDzAQNnUnF+boHmAgHF1Btt+mHmAgbOpOLszRPcBAyKDghQsX0K1bN4waNQpvvfWWDDXIV+SaNWswa9YsrFu3DlWqVJGvIpWWzEDIIMyUKVNw+PBhUHAFBwfLUIN8RT569EhA3LhxY4wbN06+ilRasiaBoIAdP368UUkmT55coEAwNzsQMPv37zdalxSUe/bkbNz47rvvYu7cufDy8ipQGBGgPXv21JVhqq1k29ChQzWZJRgIIyFWkAA0JztIQBoLSAmGXr16iTt1SkoKhg8fLqwsCBQEw6+//qorQwK3S5cuT0Ep1Vm6dOkC3RwKRK9CF2saiNq1a+vugvp3Zf2/W6JLftnBnDu0YeBS/VK5CxcuFF0Za45Tp06JMYF+lqG6Vq1aZbRrp9UswUDoDR6lO7e1QOQVYBTEVD4d1DfX//9SgEt35qZNm+YajMt1x84r6G2VmayBV8lrGIh/gZDuwn/99ResGUcYdnXyE9UYEHllAjr/zp07ui6PqYC1JJDzywL0e5MmTXDo0CGrM1N+flDb75oGwpgY1oqfX3YwrMsUEMOGDcOCBQuemvI01pUyDH6qw5LxhiFkhjZaApfaAttaexgII56zNENYmh0Mu0+SCZQh8gLCWH9fCtr4+HhRTJEiRcwafJu73mCL8Yu1wanEdZoGQn+sIAXWkiVLhA6rV6+2aFFNiQxhOPYwZyZKv53mZMP8sogSQStnnQyE3qBa6jOTw+XOEgUdQxjCYE6GkDIZXWvOoqHWsgP5hYGwERBSkJmaxjRnDGGq62VqlsmSMYQU3A0aNDCrSyV16/QH8nLemdVSNgPxLxAF7TKRoJY89mAsQ5gKQmN3aktnmSzt+mgxO2g+Q5i6K7Vt29asLoWx680drJoCwnBxzxZrEBKotP5h7sKepQCp5Q5fUDs0nSGMOc/SsYNhGeZmCVNAUHn6ayLWjGdM2SQ9G2X4u2GbtZodNJshCnoXye96c7NEfuUo9btWswMDIVPESVkiNDTU7AGsTKZYXKwWV6f1naTJLpPFUcIXaMYDDIRmpOaGmuMBBsIcL/E5mvEAA6EZqbmh5niAgTDHS3yOZjzAQGhGam6oOR5gIMzxEp+jGQ8wEJqRmhtqjgcYCHO8xOdoxgMMhGak5oaa4wEGwhwv8Tma8QADIYPUBXm4ryDXytAUzRXJQNhYcnMf/zZVbUGvt3FzNFec5oEw/JqeFAHmvIBvLFryusOb8+U+KjO/7yVpLkrt2GDNAmH4Eo6hz60BIq+7O39b1Y5RXYCqNAmEIQyGn5yh4KV3Gcx93VLyf17Zgb+tWoAoteOlmgPC8GMC1mQCY/pY8+4zf1vVjpFuZlWaA0I/OxTks/eG/rWm35/fNVp/e83MGLbpaZoDoiAfIzPleWuyA5WV37vLWvy2qk2j24rCNAeE/kyPpZ+rNOXf/O70ls5G6Z+v5S9gWBHPBb6EgbDBpoiWZAj+tmqBY1bWAjQHhH6Xyd5jCP62qqyxbJPCNQeE4YaG9ppl4m+r2iReZS9Ec0CQRw1XjA2hsHYdIq9ZofwG0IZK89hB9tg3WoEmgZBmeExtzUu/W5M5TM0K8bdVlQlua2rVLBDkLMPuk+TAgnzs2FiWMFWPVB9/W9Wa0JXnGk0DIYdLbbF2YGn3So52aLVMBkIG5aUsYc06B69OyyCIBUU6LBBRUVHo2LEjgoKCsHfvXguazKeyB0x7YNeuXWIf8RYtWmDWrFmyuMopOzs7W46SW7VqBdpbbceOHShevLgcVXCZGvPA/PnzQduiDRo0CAMGDJCl9bIBMWTIEBw/flx8cr5p06ayGM+FassDUkzNmTMHzZo1k6XxsgExb948sX1ujx49EB4eLovxXKh2PECzgd26dUNcXJysvQ7ZgPjrr7/Qv39/oRilOktf6NGO1NxSczwwZswYMR5t3rw5IiIizLnEqnNkA4KsWbZsGWiz9XLlyiEyMhLu7u5WGckXadsDW7ZswdSpU+Hl5YV169ahVKlSsjlEViDI6oEDB+LEiRNo2bIlRowYwQNs2aQsnAXv3LkTM2fORHJyMsaOHYvOnTvL2lDZgTh//jwGDx6MhIQE+Pr6Cig6dOgga6O4cMf3AMULDZ5/+OEH0Rh6QmHatGmyN0x2IKgF0dHRot+3b98+0aC6deuiSpUqqFy5MipVqoTAwEDZG8oVqN8D165dE9seX7x4UfQqKG5cXFzETTQsLMwuDbALEFJLvv/+e8yePRvp6el2aRxX4tgeaNiwoZihLF++vN0aYlcgqFU0bXbu3DlxF6B/dEegZ4y0etDNge6EdJQpU0arbhDtpsEy9Rqk3kO1atXs7g+7A2H3Fqq8wmPHjoHuhHTI9NCAyj2gLvMYCIX1YCAUFsCgegZCYT0YCIUFYCDUJQADoS49OEMorAcDobAAnCHUJYAERIMGDXD06FF1GadBazhDKCw6A6GwAJwh1CUAA6EuPThDKKwHA6GwAJwh1CUAA6EuPThDKKwHA6GwAJwh1CUAA6EuPThDKKwHA6GwAJwh1CUAA6EuPThDKKwHA6GwAJwh1CUAA6EuPThDKKwHA6GwAJwh1CUAA6EuPThDKKwHA6GwAJwh1CUAA6EuPThDKKwHA6GwAJwh1CUAA6EuPThDKKwHA6GwAJwh1CUAA6EuPThDKKwHA6GwAJwh1CUAA6EuPThDKKwHA6GwAJwh1CUAA6EuPThD2FkP2g1Hf9MPU0DQR6EPHDgg+wYhdm6+6qtjIOws0cSJE8V2xbQ7Kx3GgDh16hT69u2LzZs3IzQ01M4Wars6BsLO+tOdn4K8Tp06IuBphyX6+rf0oTLKIARDp06dsGLFCjtbx9UxEArEAGWJSZMmCTAmT56M3r17CyBo2yj6Ox20mw5nB/uLw0DY3+di0xgKduo60b57iYmJCAoKQkxMjLCmT58+nB0U0IWqZCAUcryUJYxVz9lBIVEYCOUcr58l9K3g7KCcJpwhlPU9jGUJzg7KisJdJgX9T1mibNmyYgzBYwcFhdCrulACQYPTzMxMdXg4HytGjRqFyMhIcRbtD+EoO5EGBweLPaQL21EogDh48CD+/vtv3Ta/0ja3hU0sNbXH2dlZbKErbaPbokULhISEqMlEq2xxaCCSkpIQERGBbdu25Wq8S3Y2XJBtlUP4IvM8kO7knOtEfz8/jBg5Eq+++qp5Baj0LIcF4ueff8bsWbNw/99Nz8tlpsI7KxO+2VnwepKlUncXHrOy4IQkFxckOrkg3sUND13cReMIiBEjRsDf398hG+uQQOzatQvjxo0TDg/IykCFjGR4MwSKBmCUqweuufvgCYCKFSvqxkWKGmVF5Q4HxKNHjxAW1hXx8Y9RPiMFZTJSrGg2XyKHB1KcXXDB3QcJzq7o0aMHwsPD5ahG1jIdDohPPvkEP/74I4Kz0lE9LWe6kg/1eCDBxRWnPHK6S/PmzUOTJk3UY5wZljgUEDR4pofhaLLvhZQ4eGZTguZDbR646eaFG25eKFeuHL7//nu1mZenPQ4FxPjx47Fz505UTE9Cycw0h3K01oz907MIkp1d8O2336J69eoO03yHAqJ7t264fOUKnk99DL8njrHw5jCRYGNDL3j4ItrFHWPHjnWot/4cBoj09HQ0atRIyNY4OQa5Z8FtrCYXV2AP3Hb1xDV3b4SFhWH06NEFLs9eBTgMEGfPnsXbb78NnydZeCE13l7+4Xqs9ECcixvOePjh+eefx1dffWVlKfa/zGGAOH78OIYMGSLWHZ5LS7C/p7hGizxA4wcaR1SoUAHr1q2z6FolT2YglPR+Ia6bgZBZXM4QMjvYxsUzEDZ2qGFxDITMDrZx8QyEjR3KQMjsUJmLZyBkdjBnCJkd/G/xH/2wB4ElSmHjlPH4Y9tmqytlIKx2nXkXFhSIgOIl0P7DkajapBl8AgLh7OKCJ1lZiL0bhaPrv8O+rxYLQyrVb4juUz+Db1AQ9iz6Avu/XmKegSo7y9p2MBDZ2Q7xJk1BgKjW9GV0nTAFgaVKIzM9HfH37yE9NRVFQkLg5V8E969exmcd2jIQABgIDQAxePlqcee/fPwY1n48AnH37+nu5w26hKH6yy2x/P1BKrvHK2MOA1HIgXi27ovoNXs+PL19sGHKOJzYnvt1U2XCTr21MhCFHAjKDG/NjICHjy82z5iM45s3qjcaVWAZA1HIgaAYG7FxG0pXq2G0y2QsBk0FBQ3MXw0fjerNW8DLL+clmLi7UTi4egXqdwl7anam25SZoC7ZsU3rEX/vLhp16wHf4KLIfvIEd/45h22zZ+DhjevoOOoTVH+5FTy8vcVAX/qNunj6h4ePD9q9Nxx12r8G36BgkxMD0jWWtOPxg2gcWPGV0XZYwynPMlnjNQuuKcigulG3t/Ba+Ch4+voh5vYtHIpcjQPfmH7gzFgglahQSXS9SlWpirSkJNy/dgXpSUkoWbkqnFyckZWRAXdPr1zTlRIQN/46iZBnK+DhzZt4kpUJKouCO+rCP0iOj0do7Tq4e/mS+K14+Qrw9PMTv60Y/h4eXL8mvETX/Hf65yhbsxYy0lJx/8oVxEffE38PKl1GnPPn9q1Y+8lInVdt1Q4LZNKdykBY4zULrikIEFRNvQ6d0fa9DxFcpqyo9eHNG9j/1WJx9zY8jAVSr1nzxZ353qWLWDdhDCjI6aCs0WNmBCq+1ADpyclGgchMS8OBlV9jx7zZ4prnWrdF2MSp8AkMAv32y7fLn/rN3csL2+d8jl/XfCuukeqPvnYFGyePF9lOOlr2fxf/GTgETi4u+CFiJg5/t1r8ZEk7CNB+CxajUoNGT7XDApkYCGucZc01BQWC6iTRX/1wJOp26Axv/yKie3LhyK9YP35Mrpknw0AqV7MW+sz9UgSwfsBJ7ajRohW6T5kJNw9Po0Dc+edvfNG7u8gs0jH0mzWoWL8hrp08gQVvvZnLJaKLV7U6DkeuwaapE/BM7TroE7EAPoGB2DF3tuiiGR7v/O9r0ZU7+/NP+HroQKNAWNsOa/TiDGGN1yy4xhZASNXRXb3dsHDUbtMO7t7euHTsCJYPG6QLWEMg6nV8HW+Om4ykuFisHP4ebp49bVZWkbpM+kEqXUhTwZUbNMLvWzZh7ZhRucqTfqPstW7cx5DqT3j0EEsH9dN1o/Qvav/BCLTsNxDR167i887tjAJhbTsskIkzhDXOsuYaWwIh1S+NLVzd3LF74XzdqrQhEG2HDEPrgUPw8NYN3QKeYRuMdU/0B9UU2PqHYdDn9Vu794ej1YBBeHDzusn6jZ1jq3ZYoxdnCGu8ZsE1cgBB1RsLTMNAavpWb7wWPhpxd+9iTrfOubo+VIauKxIQaLTLJN3prQWi/htd8fqYCUh4+MBkhpCAuHvpAiLe7Gg0Q1jbDgtk4gxhjbOsuUZOIGit4tiGSKyf+KnRQHq+bXt0nTgVcHISfXrDxb3G/+2JDiM+BrKzZQFCWkvx9PM3OoYho2kMUa3Zyzi5cztWjfrAaDuksY6zq6tF7bBGL84Q1njNgmusBYKCqc2g93D+8K849N2qXHf3Zj3fxivvfwhnF9d8Z2feX7UOtOp97cSfWD9hDO5duSSspwFv2MRpKFmpMtJTUmQBguoZsHCZeMTE2CyT1A5a39g4ZQJO7vzBKBD0R1PtyJlWnoeSlao81Q4LZOIMYY2zrLmmIEDQSnWR4iWQkZoKWoBKS06GX9Gi4qlXOsyZv6duS4eRH4trkuPjcPvc33Dz9ELJipWQmpwk1iF8A4NkA0J/HSQ9NQUPb9xA3L27CCn/rFiHoPp/XvEVdi2Yo3OvsXFNnu1ISsxpR1AwP/5tTZDa8xprgaCp1tbvDEGt/7RFQMmSYmrUyclJwPHo9i38tnnDU4t0plZ46dHx9sNGoHS16mKVmNYQ7pw/h11fzMUbYyYI6PTfI7DVoFrys26lvNnL4ildagfZEHXpAn5dvfKp9xcsbcf2ubPQZdwkfh/CnoFtbV3WAmFtfZZcV6VRE/SYMRuu7u7YMHEsTu3ZacnlhfJcHkPILKuagZBmeOhlI1PrBDK7R3XFMxAyS6I0EF3GToJ/sRBsnj4p16p2zZb/Ed0M/6LF8PvW7xE59iOZPeEYxTMQMuukNBDSeIAGtDF3buNJZhbcPDzEgJamMW+dPY3vxozWzT7J7A7VF89AyCzR5cuX0b17d/EJ/BdT4mSu7eni6eG9Fn3fQejzdXQDWnoWil5HPf3jHuz6cu5TC3Z2N1JFFT5yccc5D180bNgQX3zxhYosy9sUh/lyHzWDnJuRkYGGybFw5U0VVR1ktD8E7RPRu3dvXJyHJgAAEQxJREFUDBs2TNW26hvnUEDQx47po8f0bVf6xisf6vUAZQfKEtOmTUPbtjkfcHCEw6GAmD59utiRpmxGCkJ5bznVxleWk5P40HGakzM2bNiA8uXLq9ZWQ8McCghpYE2NqJWWgCKcJVQZaBfdfXDf1QP169fHwoULVWmjKaMcCghqBA3QVq5cCZ8nmXgh9bFDOVsLxka7uuOCu69YRafP4D/77LMO1WyHA4K8SwO1c+fOISQzHeXTk+DOA2xVBB1t3n7Z3RsZTs4YOXKkmBV0tMMhgTh16hSGDh2KtLQ0AQNBQXDwoYwHnjg54aqbN+66eggDXn75ZcyenfP+uKMdDgkEOfnOnTuIiIjAwYMHhc8DnmTCJysTvtlZojvl5hhf6HS0eNHZm+zkjCQXVyQ6ueCxsytSnWmzZODDDz9Ez549HbZdDguE5PHIyEgBhoN8XsphAyU/w+vVq4fw8HBUrlw5v1NV/bvDA0HejYmJEWOKixcv6v6lpqaq2vGScbS7anR0tPjPMmVyvq/kCEeJEiVE8NO/KlWqoEaNGo5gdr42Fgog8m2lik84duyYWIGng7Oc8kIxEAprwEAoLIBB9QyEwnowEAoLwECoSwAGQl16cIZQWA8GQmEBOEOoSwAGQl16cIZQWA8GQmEBOEOoSwAGQl16cIZQWA8GQmEBOEOoSwAGQl16cIZQWA8GQmEBOEOoSwAJiAYNGuDo0aPqMk6D1nCGUFh0BkJhAThDqEsABkJdenCGUFgPBkJhAThDqEsABkJdenCGUFgPBkJhAThDqEsABkJdenCGUFgPBkJhAThDqEsABkJdenCGUFgPBkJhAThDqEsABkJdenCGUFgPBkJhAThDqEsABkJdenCGUFgPBkJhAThDqEsABkJdenCGUFgPBkJhAThDqEsABkJdenCGUFgPBkJhAThDqEsABkJdenCGUFgPBkJhAThDqEsABkJdenCGUFgPBkJhAThDqEsABkJdenCGUFgPBkJhAThDqEsAWwFB23EdOXJEbGy/cOFCBAcH26ShUVFRorxNmzbhwoULqFOnDvr06YMBAwbAx8fHJnWoqRDOEAqrYQsg7t69i/nz52PRokVo1KgR1qxZYxMgYmNj0atXLzg5OQkIihYtipMnT4q6Xn31VXz++eeFDgoGwoGBSExMxCeffIKV/9feecBU1SxxfBQUY0s0YoklxoYaC7EmYsNGVIxiV+y9YS+x94KIvWEv2HvvYgkaEdEYFexRY+yKYm/v5b/vO/dd+OACt5w9e+9sQlByztk5M/s7s21mN26kOnXqkJubG+H0VXsB8enTJ4qJiaHatWtTxowZTZo6cOAA9enTh/bu3Us+Pj6SNWjf6hkI++oz3U+zxUO8e/eORo4cSf7+/uIHX+zIyEi7AZHSy6Dr1K5dOxo1ahQFBgam+52NfAMDIdk6tgCRVPTp06dbBOL+/fv05csX8vb2TnTr79+/xX3ly5en3Llzp6oRDQh4J4DhTIWBkGxNvYD48+cPhYeHi/4/Bsna2diAAV0u/C0sLIyqVq2aqkbQVZowYQLt2rXLaQ5s116agUjV/I69QC8g8BbmjR8AoPFrMJhDYumNY2NjqXv37hQQEEAjRowgd3d3xypI56czEDorPGl1egKRFApfX1+KiIhI5DFSUgemdaOjoykoKIiQun/mzJlON8OEd2cgXAwIvO63b99o8uTJFBISQtu2baP27dtb1MKPHz9ozZo1FBwcTFOnTqWOHTuSh4eHZM05pnoGwjF6TfNTje4hEhISaPz48WJRDkAkHZCn+UUVuZCBkGwoPYFI7xgCngEwvH79mkJDQ8nT01OythxfPQPheB1brEEvIKyZZYqKihILcOvXrxdbNlyhMBCSrawXEHhNS+sQkKNixYqUI0cOk0Y2bdoktoPAS5j/XbsgS5YsAhRnGk8wEC4ERHpfFQt9kyZNSvE2Pz8/h6+Kp1dmW69nIGzVoI3329ND2CgK387TrvLbAAMh3wbmErCHkGwPBkKyAZJUz0BItgcDIdkADISxDMBAGMse7CEk24OBkGwA9hDGMgADYSx7sIeQbA8GQrIB2EMYywAMhLHswR5Csj0YCMkGYA9hLAMwEMayB3sIyfZgICQbgD2EsQzAQBjLHuwhJNuDgZBsAPYQxjIAA2Ese7CHkGwPBkKyAdhDGMsADISx7MEeQrI9GAjJBmAPYSwDMBDGsgd7CMn2YCAkG4A9hLEMwEAYyx7sISTbg4GQbAD2EMYyAANhLHuwh5BsDwZCsgHYQxjLAAyEsezBHkKyPRgIyQZgD2EsA2hAQCocSsJFrgbYQ+is//3791OLFi1MtaYERHx8PJ07dy7RtTqL6pLVMRA6m33KlCn08eNHWrBggag5OSBu3LghznHbt28fFS1aVGcJXbs6BkJn++PLj0aONPJo8HFxcaYTQdFlggcBDM2bN6cNGzboLB1Xx0BIaAPwEjirDWBMmzaNunTpIqTAuW/4O8rjx4/ZO0iwDQMhQemal0DXKXv27PT58+dEUnTt2pW9gwS7oEoGQpLiNS+RXPXsHSQZhYGQp3hzL2EuBXsHeTZhDyFX95Scl2DvINco3GWSqH94icKFC5vGEOwdJBrjn6qdFgicraxCGTVqFG3fvl2IevnyZSpUqJDhxcbpozlz5jS8nNYI6DRAHDx4kO7evUv37t0Tv79+/WqNPvieNGqgYMGC5OXlRaVKlRLH+VatWjWNdxr7MuWBuH79Os2fP59iY2MTaTpPnjzG1rzC0n369Il+/vyZ6A0CAwNp2LBhCr/V/0RXGohVq1YRflCKFy9O9erVE7+LFStGuXLlUt44Rn6BJ0+e0IMHD+jhw4e0a9cuISq8xfDhw6lKlSpGFt2ibMoCgVXdI0eOiJdr06YN9enTR1kjqC747du3afny5aK7ioJ/V6tWTcnXUhKIo0eP0qRJk8jd3V1sfXCW/quSLchM6LVr14oJAnjonTt3Kvk6ygHx5s0bateuHaEfO2jQILEJjotxNDB48GAxnuvQoQONGDHCOIKlURLlgBg7diydOnWKatasKTbDcTGWBgADoEBZvHgx1ahRw1gCpiKNckAAhO/fv9OWLVsob968SinbVYTduHEjhYeHi23sAwcOVOq1lQLi0aNH1LZtW8qfPz9t3rxZKUW7krAXL14UYzt4B3gJlYpSQJw4cYLGjx9PPj4+Yh8QF2Nq4MWLFyLGw9PTk44dO2ZMIVOQSikg8LXZtGkTde7c2RRUo5S2XUjYli1bUkJCAmFGUKWurVJAzJ49m/bs2UNDhgwhf39/F2pe6r1qjx496NmzZ7R7926lIv8YCPXamhISMxA6mIk9hA5KtlMVDISdFGnpMQyEDkq2UxUMhJ0UyUDooEgdqmAgdFCyozzE+/fvxebA6tWrEwJ2uNiuAQbCdh2m+gQGIlUVpfuCv3//EhbSsEN15syZVKJEiXQ/I7kbGAi7qNHyQxgI+yn59+/fdPXqVVqxYgUdPnyYypUrR+vWrWMg/qNQymkGwj5AILNH3759KTo6mhDpljFjRkLkIQOhWMQcA2EfIBDlhkjD1q1bU+XKlSk0NJQOHTrEQKgWQspA2AeIpE8JCQlhIP5RikutVCMTByK6tm3bRteuXRP95Z49e1KzZs3EHv7kZpnevn0rtjJv3bpVxBBXqFBBnNmAHErmcdtXrlyhxo0bi81sSCWDQSr65sjb2qRJExo6dKiI9zYv2rOR8fvmzZsiR1ODBg1ozJgxifb/YOAbGRkpvurnz5+nTJkyUe3atalXr15iR2mGDBlsIoWB+L/6XAYIRNohK8SFCxcoICBANCRMt6LRopGjQdatWzfRtCu6FqNHj6ZXr16JyLwyZcqIfje2nmPHLbJ9aNk9NCDQ/UD4JODSnovrEYAfFhZGRYoUEdrX5EEcMrouJUuWpDt37ojno4Fqsz0Y/K5fv57mzZsnIPDz8xOQQe6oqChauHAhYSOdLYWBcDEg/vz5Q3PnzhXeYcmSJVSrVi3TVxVeA5F3iAdGNJ62DoEgpHHjxol0K9OnT0/kDfC1HjBggLi2U6dOQpsaEJitWbRokTj/AQVzFshK0a9fPxEboF2PsyHwfAQ6VapUyWSRHz9+iHuQDAzl0qVLwrvMmDGDGjZs+C+54bVWrlxJ+fLls5oJBsLFgMCuy969e1OdOnXEF9/NzS1R40HWiG7duongIw0InOKDxTo0NvMGixvxhcZ1SGWPhurh4WECAv/v379/om6MVj+8CiBA/YAEMceILvP19U22MQNGnBeBLhPiP1CPecGRW4g72Lt3r02pXxgIFwNC+3rja4x+ftKS3Eo1GiymJi0VQDRr1izxNbdUh/Z8dJe069Edg9fAGREYC6Abh4Aa86Ldd/bsWYtyYNyCLpq1hYFwMSDQPcHgOaWGkxwQaCSYl0eGj5SSnmHwjAF55syZTUAkV0dyQMAEz58/p2XLltGOHTvo169fIsYDmUTKli0rLITuEFZ8CxQoYDFYH/clHbCnBw4GwsWAQNcCA08MRJPLAqF1aerXr2/qMmG8ge4KZqS8vb1TbV/ms0xJv9YpAaE9FJFlyE2LsQfGEJhNwjMwC4WuHgDBOAfgOaIwEC4GhDZGQBaIpP17qAJTmQhLDQoKMgGhQWQ+ELbUGG0BQnsu5IQna9WqlZBDG6u8fPnS5oGzJdkZCBcDAjNJGExjatV8BghqwPQnGh/66eZA4O+Y3UFafUCBKVetYJB75swZMVWqHZubXiCQaC1r1qwi+6BWkC8V4wmsW2iJg7WxzMSJE8XMlvnAGrJhxgvjD1sKA+FiQOB10WDR4N+9eye8ARLyIqkW8sO2b9+eTp8+/a+FOW16FV9qZKJDvlJ8rSMiIsTaxJo1a0TaRu352sJcWrpMaOjoGmEhDusV6LadPHlSDLIxrsC6BYr5tDCSOTdq1Eik4cF6xYEDB8TsmK1ZtxkIFwQCr/z06VOxmIZ9OxjEYhoWMz2lS5cWM0rJrVTjHiyoYfyBRosFMzRKTHfCQ2irxOn1EFiQW7p0qeiumT8XU73a4p1mJowrAAsG+bge072QFQN+eBN4GlsKA+GiQNjSaPje9GmA4yHSpy+rrnbU5j6rhDHYTV++fBEzVJYKPIm2Au5o8RkIR2uYiBiIlJWMbg/0Y6mg64ezNPQoDIQOWmYgdFCynapgIOykSEuP0Y7Qwp4jLFhxMa4GMNjHxAVm5HLkyGFcQZNIptT2b8ywYEMcorzmzJmjjJJdTVCEqGK2DPEd2DajUlEKCGSVxt4h7C1S9cgmlRqHtbLiQBtst8dWmODgYGsfI+U+pYCAhhAT8OHDBxEHjAUtLsbTAGxz/PhxsbKOsYRKRTkgtJT4WCBDChUuxtIA9oAhvxMKNkjaK8+TXm+pHBBQDKLO4uLiREAPD671aiqp1xMfHy/GDvDgOK+6Y8eOqd9ksCuUBCImJsZ0LjWAABhc5GoAsR1IrIA4b5wDiFhvFYuSQEDRWGRavXq10DlCPLGtW9t5qqIhVJYZsRwItcU0K5IuwC6YYVKxKAsElI05bgzgsAMVm+zwZcLuU0SP4QcZ6bjYXwMIeMIBmIjoQyjsrVu3RCVYexg5ciTlzJnT/pXq9ESlgYCOsIcHUOArxUWOBgAA1oeaNm0qRwA71qo8EJou8KW6f/8+YVv13bt3CYtDXByjAWw/R7wGfry8vESi5GzZsjmmMp2f6jRA6Kw3rs5JNcBAOKlh+bWs0wADYZ3e+C4n1QAD4aSG5deyTgMMhHV647ucVAMMhJMall/LOg0wENbpje9yUg0wEE5qWH4t6zTwX5Dgy+GnLa78AAAAAElFTkSuQmCC)"
      ],
      "metadata": {
        "id": "7gjy6Zu0DSV1"
      }
    }
  ],
  "metadata": {
    "kernelspec": {
      "display_name": "Python 3.10.2 64-bit",
      "language": "python",
      "name": "python3"
    },
    "language_info": {
      "codemirror_mode": {
        "name": "ipython",
        "version": 3
      },
      "file_extension": ".py",
      "mimetype": "text/x-python",
      "name": "python",
      "nbconvert_exporter": "python",
      "pygments_lexer": "ipython3",
      "version": "3.10.2"
    },
    "orig_nbformat": 4,
    "vscode": {
      "interpreter": {
        "hash": "e8aedc6c203c65bb32218e07156747fb25f9743c677ffe8ea7f42b4653187e76"
      }
    },
    "colab": {
      "name": "sa_final.ipynb",
      "provenance": [],
      "collapsed_sections": [],
      "include_colab_link": true
    }
  },
  "nbformat": 4,
  "nbformat_minor": 0
}